{
 "cells": [
  {
   "cell_type": "markdown",
   "metadata": {},
   "source": [
    "![](https://sun9-81.userapi.com/impg/cz-6k6SaNV65dJR7FCdJRi1hKSvKU18Wo-kkbA/7vzFJFugi_I.jpg?size=1621x618&quality=96&sign=5db0fbb0e3d46b2350f3f84155f84943&type=album)\n",
    "# Anapa Winter Flights\n",
    "______________________________________________________________________________________________________________________________\n",
    "## В данной работе мне предстоит выяснить, от каких самых малоприбыльных рейсов из Анапы можно было бы отказаться в зимнее время года\n",
    "______________________________________________________________________________________________________________________________"
   ]
  },
  {
   "cell_type": "markdown",
   "metadata": {},
   "source": [
    "### Описание признаков\n",
    "* **flight_id** — уникальный идентификационный код рейса (первичный ключ)\n",
    "* **flight_no** — номер рейса, используемый в аэропорту, билете, посадачном талоне\n",
    "* **arrival_airport** - аэропорт прибытия\n",
    "* **city** - город, в котором находится аэропорт прибытия \n",
    "* **model** - название модели самолета\n",
    "* **actual_departure** - реальное время вылета \n",
    "* **actual_arrival** - реальное время прибытия\n",
    "* **flight_time** - время полета\n",
    "* **fuel_usage** - расход топлива кг/час в зависимости от модели самолета \n",
    "* **aircraft_code** - уникальный идентификационный номер модели самолета (трехзначный код)  \n",
    "* **seat_economy** - количество мест класса \"эконом\" в самолете \n",
    "* **seat_business** - количество мест класса \"бизнес\" в самолете\n",
    "* **seat_total** - общее количество мест на борту самолета\n",
    "* **purchased_economy** - приобритенные места класса \"эконом\" на рейсе\n",
    "* **purchased_business** - приобритенные места класса \"эконом\" на рейсе\n",
    "* **total_purchased** - общее кол-во приобретенных мест обоих классов в самолете\n",
    "* **amount_economy** - стоимость билета класса \"эконом\"\n",
    "* **amount_business** - стоимость билета класса \"бизнес\"\n",
    "* **total_amount** - общая стоимость приобретенных билетов на рейсе"
   ]
  },
  {
   "cell_type": "markdown",
   "metadata": {},
   "source": [
    "# import"
   ]
  },
  {
   "cell_type": "code",
   "execution_count": 1,
   "metadata": {},
   "outputs": [],
   "source": [
    "import pandas as pd\n",
    "import numpy as np\n",
    "import collections\n",
    "import matplotlib.pyplot as plt\n",
    "import seaborn as sns\n",
    "from datetime import datetime\n",
    "%matplotlib inline\n",
    "pd.set_option('display.max_rows', 50)  # показывать больше строк\n",
    "pd.set_option('display.max_columns', 50)  # показывать больше колонок"
   ]
  },
  {
   "cell_type": "code",
   "execution_count": null,
   "metadata": {},
   "outputs": [],
   "source": []
  },
  {
   "cell_type": "markdown",
   "metadata": {},
   "source": [
    "# FUNCTIONS"
   ]
  },
  {
   "cell_type": "code",
   "execution_count": 73,
   "metadata": {},
   "outputs": [],
   "source": [
    "# Вспомогательные функции, которые помогут в дальнейшей работе\n",
    "# Функция для отображения текстовых меток на графиках\n",
    "def points(x, y, val, ax):\n",
    "    a = pd.concat({'x': x, 'y': y, 'val': val}, axis=1)\n",
    "    for i, point in a.iterrows():\n",
    "        ax.text(point['x']+.02, point['y'], str(point['val']))"
   ]
  },
  {
   "cell_type": "markdown",
   "metadata": {},
   "source": [
    "# DATA"
   ]
  },
  {
   "cell_type": "code",
   "execution_count": 2,
   "metadata": {},
   "outputs": [],
   "source": [
    "df = pd.read_csv('Anapa_winter_flights.csv')"
   ]
  },
  {
   "cell_type": "code",
   "execution_count": 3,
   "metadata": {},
   "outputs": [
    {
     "name": "stdout",
     "output_type": "stream",
     "text": [
      "<class 'pandas.core.frame.DataFrame'>\n",
      "RangeIndex: 127 entries, 0 to 126\n",
      "Data columns (total 19 columns):\n",
      " #   Column              Non-Null Count  Dtype  \n",
      "---  ------              --------------  -----  \n",
      " 0   flight_id           127 non-null    int64  \n",
      " 1   flight_no           127 non-null    object \n",
      " 2   arrival_airport     127 non-null    object \n",
      " 3   city                127 non-null    object \n",
      " 4   model               127 non-null    object \n",
      " 5   actual_departure    127 non-null    object \n",
      " 6   actual_arrival      127 non-null    object \n",
      " 7   flight_time         127 non-null    float64\n",
      " 8   fuel_usage          127 non-null    int64  \n",
      " 9   aircraft_code       127 non-null    object \n",
      " 10  seat_economy        127 non-null    int64  \n",
      " 11  seat_business       127 non-null    int64  \n",
      " 12  seat_total          127 non-null    int64  \n",
      " 13  purchased_economy   118 non-null    float64\n",
      " 14  purchased_business  118 non-null    float64\n",
      " 15  total_purchased     118 non-null    float64\n",
      " 16  amount_economy      118 non-null    float64\n",
      " 17  amount_business     118 non-null    float64\n",
      " 18  total_amount        118 non-null    float64\n",
      "dtypes: float64(7), int64(5), object(7)\n",
      "memory usage: 19.0+ KB\n"
     ]
    }
   ],
   "source": [
    "df.info()"
   ]
  },
  {
   "cell_type": "code",
   "execution_count": 4,
   "metadata": {},
   "outputs": [
    {
     "data": {
      "text/html": [
       "<div>\n",
       "<style scoped>\n",
       "    .dataframe tbody tr th:only-of-type {\n",
       "        vertical-align: middle;\n",
       "    }\n",
       "\n",
       "    .dataframe tbody tr th {\n",
       "        vertical-align: top;\n",
       "    }\n",
       "\n",
       "    .dataframe thead th {\n",
       "        text-align: right;\n",
       "    }\n",
       "</style>\n",
       "<table border=\"1\" class=\"dataframe\">\n",
       "  <thead>\n",
       "    <tr style=\"text-align: right;\">\n",
       "      <th></th>\n",
       "      <th>flight_id</th>\n",
       "      <th>flight_no</th>\n",
       "      <th>arrival_airport</th>\n",
       "      <th>city</th>\n",
       "      <th>model</th>\n",
       "      <th>actual_departure</th>\n",
       "      <th>actual_arrival</th>\n",
       "      <th>flight_time</th>\n",
       "      <th>fuel_usage</th>\n",
       "      <th>aircraft_code</th>\n",
       "      <th>seat_economy</th>\n",
       "      <th>seat_business</th>\n",
       "      <th>seat_total</th>\n",
       "      <th>purchased_economy</th>\n",
       "      <th>purchased_business</th>\n",
       "      <th>total_purchased</th>\n",
       "      <th>amount_economy</th>\n",
       "      <th>amount_business</th>\n",
       "      <th>total_amount</th>\n",
       "    </tr>\n",
       "  </thead>\n",
       "  <tbody>\n",
       "    <tr>\n",
       "      <th>0</th>\n",
       "      <td>136119</td>\n",
       "      <td>PG0252</td>\n",
       "      <td>SVO</td>\n",
       "      <td>Moscow</td>\n",
       "      <td>Boeing 737-300</td>\n",
       "      <td>2017-01-03T10:08:00Z</td>\n",
       "      <td>2017-01-03T11:49:00Z</td>\n",
       "      <td>101.0</td>\n",
       "      <td>2400</td>\n",
       "      <td>733</td>\n",
       "      <td>118</td>\n",
       "      <td>12</td>\n",
       "      <td>130</td>\n",
       "      <td>102.0</td>\n",
       "      <td>11.0</td>\n",
       "      <td>113.0</td>\n",
       "      <td>1250400.0</td>\n",
       "      <td>402600.0</td>\n",
       "      <td>1653000.0</td>\n",
       "    </tr>\n",
       "    <tr>\n",
       "      <th>1</th>\n",
       "      <td>136120</td>\n",
       "      <td>PG0252</td>\n",
       "      <td>SVO</td>\n",
       "      <td>Moscow</td>\n",
       "      <td>Boeing 737-300</td>\n",
       "      <td>2017-02-24T10:07:00Z</td>\n",
       "      <td>2017-02-24T11:46:00Z</td>\n",
       "      <td>99.0</td>\n",
       "      <td>2400</td>\n",
       "      <td>733</td>\n",
       "      <td>118</td>\n",
       "      <td>12</td>\n",
       "      <td>130</td>\n",
       "      <td>98.0</td>\n",
       "      <td>11.0</td>\n",
       "      <td>109.0</td>\n",
       "      <td>1202800.0</td>\n",
       "      <td>402600.0</td>\n",
       "      <td>1605400.0</td>\n",
       "    </tr>\n",
       "    <tr>\n",
       "      <th>2</th>\n",
       "      <td>136122</td>\n",
       "      <td>PG0252</td>\n",
       "      <td>SVO</td>\n",
       "      <td>Moscow</td>\n",
       "      <td>Boeing 737-300</td>\n",
       "      <td>2017-01-08T10:08:00Z</td>\n",
       "      <td>2017-01-08T11:48:00Z</td>\n",
       "      <td>100.0</td>\n",
       "      <td>2400</td>\n",
       "      <td>733</td>\n",
       "      <td>118</td>\n",
       "      <td>12</td>\n",
       "      <td>130</td>\n",
       "      <td>87.0</td>\n",
       "      <td>10.0</td>\n",
       "      <td>97.0</td>\n",
       "      <td>1065000.0</td>\n",
       "      <td>366000.0</td>\n",
       "      <td>1431000.0</td>\n",
       "    </tr>\n",
       "    <tr>\n",
       "      <th>3</th>\n",
       "      <td>136130</td>\n",
       "      <td>PG0252</td>\n",
       "      <td>SVO</td>\n",
       "      <td>Moscow</td>\n",
       "      <td>Boeing 737-300</td>\n",
       "      <td>2017-02-13T10:07:00Z</td>\n",
       "      <td>2017-02-13T11:46:00Z</td>\n",
       "      <td>99.0</td>\n",
       "      <td>2400</td>\n",
       "      <td>733</td>\n",
       "      <td>118</td>\n",
       "      <td>12</td>\n",
       "      <td>130</td>\n",
       "      <td>97.0</td>\n",
       "      <td>10.0</td>\n",
       "      <td>107.0</td>\n",
       "      <td>1190600.0</td>\n",
       "      <td>366000.0</td>\n",
       "      <td>1556600.0</td>\n",
       "    </tr>\n",
       "    <tr>\n",
       "      <th>4</th>\n",
       "      <td>136131</td>\n",
       "      <td>PG0252</td>\n",
       "      <td>SVO</td>\n",
       "      <td>Moscow</td>\n",
       "      <td>Boeing 737-300</td>\n",
       "      <td>2017-01-28T10:07:00Z</td>\n",
       "      <td>2017-01-28T11:46:00Z</td>\n",
       "      <td>99.0</td>\n",
       "      <td>2400</td>\n",
       "      <td>733</td>\n",
       "      <td>118</td>\n",
       "      <td>12</td>\n",
       "      <td>130</td>\n",
       "      <td>112.0</td>\n",
       "      <td>12.0</td>\n",
       "      <td>124.0</td>\n",
       "      <td>1373600.0</td>\n",
       "      <td>439200.0</td>\n",
       "      <td>1812800.0</td>\n",
       "    </tr>\n",
       "  </tbody>\n",
       "</table>\n",
       "</div>"
      ],
      "text/plain": [
       "   flight_id flight_no arrival_airport    city           model  \\\n",
       "0     136119    PG0252             SVO  Moscow  Boeing 737-300   \n",
       "1     136120    PG0252             SVO  Moscow  Boeing 737-300   \n",
       "2     136122    PG0252             SVO  Moscow  Boeing 737-300   \n",
       "3     136130    PG0252             SVO  Moscow  Boeing 737-300   \n",
       "4     136131    PG0252             SVO  Moscow  Boeing 737-300   \n",
       "\n",
       "       actual_departure        actual_arrival  flight_time  fuel_usage  \\\n",
       "0  2017-01-03T10:08:00Z  2017-01-03T11:49:00Z        101.0        2400   \n",
       "1  2017-02-24T10:07:00Z  2017-02-24T11:46:00Z         99.0        2400   \n",
       "2  2017-01-08T10:08:00Z  2017-01-08T11:48:00Z        100.0        2400   \n",
       "3  2017-02-13T10:07:00Z  2017-02-13T11:46:00Z         99.0        2400   \n",
       "4  2017-01-28T10:07:00Z  2017-01-28T11:46:00Z         99.0        2400   \n",
       "\n",
       "  aircraft_code  seat_economy  seat_business  seat_total  purchased_economy  \\\n",
       "0           733           118             12         130              102.0   \n",
       "1           733           118             12         130               98.0   \n",
       "2           733           118             12         130               87.0   \n",
       "3           733           118             12         130               97.0   \n",
       "4           733           118             12         130              112.0   \n",
       "\n",
       "   purchased_business  total_purchased  amount_economy  amount_business  \\\n",
       "0                11.0            113.0       1250400.0         402600.0   \n",
       "1                11.0            109.0       1202800.0         402600.0   \n",
       "2                10.0             97.0       1065000.0         366000.0   \n",
       "3                10.0            107.0       1190600.0         366000.0   \n",
       "4                12.0            124.0       1373600.0         439200.0   \n",
       "\n",
       "   total_amount  \n",
       "0     1653000.0  \n",
       "1     1605400.0  \n",
       "2     1431000.0  \n",
       "3     1556600.0  \n",
       "4     1812800.0  "
      ]
     },
     "execution_count": 4,
     "metadata": {},
     "output_type": "execute_result"
    }
   ],
   "source": [
    "df.head(5)"
   ]
  },
  {
   "cell_type": "code",
   "execution_count": null,
   "metadata": {},
   "outputs": [],
   "source": []
  },
  {
   "cell_type": "markdown",
   "metadata": {},
   "source": [
    "![](https://sun9-30.userapi.com/impg/SaD8_MCvAMVUbkAm5lSLCCg7llximmKQ0COEoA/X0r_UyfHpRA.jpg?size=1488x565&quality=96&sign=94d5b0be00b287b34034342868c8bc9a&type=album)"
   ]
  },
  {
   "cell_type": "markdown",
   "metadata": {},
   "source": [
    "# EDA"
   ]
  },
  {
   "cell_type": "markdown",
   "metadata": {},
   "source": [
    "Посмотрим на количество пропусков в колонках, а вдруг?"
   ]
  },
  {
   "cell_type": "code",
   "execution_count": 5,
   "metadata": {},
   "outputs": [
    {
     "name": "stdout",
     "output_type": "stream",
     "text": [
      "flight_id - 0%\n",
      "flight_no - 0%\n",
      "arrival_airport - 0%\n",
      "city - 0%\n",
      "model - 0%\n",
      "actual_departure - 0%\n",
      "actual_arrival - 0%\n",
      "flight_time - 0%\n",
      "fuel_usage - 0%\n",
      "aircraft_code - 0%\n",
      "seat_economy - 0%\n",
      "seat_business - 0%\n",
      "seat_total - 0%\n",
      "purchased_economy - 7%\n",
      "purchased_business - 7%\n",
      "total_purchased - 7%\n",
      "amount_economy - 7%\n",
      "amount_business - 7%\n",
      "total_amount - 7%\n"
     ]
    }
   ],
   "source": [
    "for col in df.columns:\n",
    "    percnt_missing = np.mean(df[col].isnull())\n",
    "    print(f'{col} - {round(percnt_missing*100)}%')"
   ]
  },
  {
   "cell_type": "markdown",
   "metadata": {},
   "source": [
    "Имеются пропущенные значения, и появляются они на этапе количества и стоимости приобретенных билетов. Посмотрим на них позже."
   ]
  },
  {
   "cell_type": "markdown",
   "metadata": {},
   "source": [
    "***Промежуточные выводы:***\n",
    "\n",
    "* Датасет содержит 127 строк и 19 колонок \n",
    "* Пропуски имеются в небольшом количестве\n",
    "* 5 колонок в формате int64 - это ***flight_id, fuel_usage, seat_economy,seat_business, seat_total***\n",
    "* 7 колонок в формате float64 - это ***flight_time, purchased_economy, purchased_business, total_purchased, amount_economy, amount_business, total_amount***, остальные 7 в формате *object*\n",
    "* Имеются колонки  ***actual_departure, actual_arrival*** которые содержат данные о датах и времени, но не являются форматом datetime"
   ]
  },
  {
   "cell_type": "markdown",
   "metadata": {},
   "source": [
    "### FLIGHT_ID"
   ]
  },
  {
   "cell_type": "code",
   "execution_count": 6,
   "metadata": {},
   "outputs": [
    {
     "name": "stdout",
     "output_type": "stream",
     "text": [
      "Уникальное количество данных в колонке : 127\n"
     ]
    }
   ],
   "source": [
    "print(f'Уникальное количество данных в колонке : {df.flight_id.nunique()}')"
   ]
  },
  {
   "cell_type": "markdown",
   "metadata": {},
   "source": [
    "*В данной колонке все значения уникальные*"
   ]
  },
  {
   "cell_type": "markdown",
   "metadata": {},
   "source": [
    "### FLIGHT_NO"
   ]
  },
  {
   "cell_type": "code",
   "execution_count": 7,
   "metadata": {},
   "outputs": [
    {
     "name": "stdout",
     "output_type": "stream",
     "text": [
      "Уникальное количество данных в колонке : 3\n"
     ]
    },
    {
     "data": {
      "text/plain": [
       "PG0480    59\n",
       "PG0252    59\n",
       "PG0194     9\n",
       "Name: flight_no, dtype: int64"
      ]
     },
     "execution_count": 7,
     "metadata": {},
     "output_type": "execute_result"
    }
   ],
   "source": [
    "print(f'Уникальное количество данных в колонке : {df.flight_no.nunique()}')\n",
    "df['flight_no'].value_counts()"
   ]
  },
  {
   "cell_type": "markdown",
   "metadata": {},
   "source": [
    "### ARRIVAL_AIRPORT"
   ]
  },
  {
   "cell_type": "code",
   "execution_count": 8,
   "metadata": {},
   "outputs": [
    {
     "name": "stdout",
     "output_type": "stream",
     "text": [
      "Код аэропорта прибытия ИАТА : ['SVO' 'EGO' 'NOZ']\n"
     ]
    }
   ],
   "source": [
    "print(f'Код аэропорта прибытия ИАТА : {df.arrival_airport.unique()}')"
   ]
  },
  {
   "cell_type": "markdown",
   "metadata": {},
   "source": [
    "**Аэропорты прибытия:**\n",
    "   - Код аэропорта прибытия ИАТА **SVO** - это город Москва  \n",
    "   - Код аэропорта прибытия ИАТА **EGO** - это город Белгород\n",
    "   - Код аэропорта прибытия ИАТА **NOZ** - это город Новокузнецк"
   ]
  },
  {
   "cell_type": "markdown",
   "metadata": {},
   "source": [
    "### CITY"
   ]
  },
  {
   "cell_type": "code",
   "execution_count": 9,
   "metadata": {},
   "outputs": [
    {
     "name": "stdout",
     "output_type": "stream",
     "text": [
      "Уникальные названия городов прибытия: ['Moscow' 'Belgorod' 'Novokuznetsk']\n"
     ]
    }
   ],
   "source": [
    "print(f'Уникальные названия городов прибытия: {df.city.unique()}')"
   ]
  },
  {
   "cell_type": "markdown",
   "metadata": {},
   "source": [
    "*У нас три точки назначения зимой из Анапы: Москва, Белгород и Новокузнецк*"
   ]
  },
  {
   "cell_type": "markdown",
   "metadata": {},
   "source": [
    "### MODEL"
   ]
  },
  {
   "cell_type": "code",
   "execution_count": 10,
   "metadata": {},
   "outputs": [
    {
     "name": "stdout",
     "output_type": "stream",
     "text": [
      "Уникальные названия моделей самолетов: ['Boeing 737-300' 'Sukhoi Superjet-100']\n"
     ]
    }
   ],
   "source": [
    "print(f'Уникальные названия моделей самолетов: {df.model.unique()}')"
   ]
  },
  {
   "cell_type": "markdown",
   "metadata": {},
   "source": [
    "На всех направлениях данного датасета используются две модели самолётов: ***Boeing 737-300 и Sukhoi Superjet-100***  \n",
    "Посмотрим в какие города летает каждый из них:"
   ]
  },
  {
   "cell_type": "code",
   "execution_count": 11,
   "metadata": {},
   "outputs": [
    {
     "data": {
      "text/plain": [
       "array(['Boeing 737-300'], dtype=object)"
      ]
     },
     "execution_count": 11,
     "metadata": {},
     "output_type": "execute_result"
    }
   ],
   "source": [
    "df[df.city == 'Moscow'].model.unique()"
   ]
  },
  {
   "cell_type": "code",
   "execution_count": 12,
   "metadata": {},
   "outputs": [
    {
     "data": {
      "text/plain": [
       "array(['Sukhoi Superjet-100'], dtype=object)"
      ]
     },
     "execution_count": 12,
     "metadata": {},
     "output_type": "execute_result"
    }
   ],
   "source": [
    "df[df.city == 'Belgorod'].model.unique()"
   ]
  },
  {
   "cell_type": "code",
   "execution_count": 13,
   "metadata": {},
   "outputs": [
    {
     "data": {
      "text/plain": [
       "array(['Boeing 737-300'], dtype=object)"
      ]
     },
     "execution_count": 13,
     "metadata": {},
     "output_type": "execute_result"
    }
   ],
   "source": [
    "df[df.city == 'Novokuznetsk'].model.unique()"
   ]
  },
  {
   "cell_type": "markdown",
   "metadata": {},
   "source": [
    "Итак, в Москву и Новокузнецк из Анапы летают только Boeing 737-300, а в Белгород Sukhoi Superjet-100.\n",
    "С чем это может быть связано? Проверим позже."
   ]
  },
  {
   "cell_type": "markdown",
   "metadata": {},
   "source": [
    "### FLIGHT_TIME"
   ]
  },
  {
   "cell_type": "code",
   "execution_count": 15,
   "metadata": {},
   "outputs": [
    {
     "name": "stdout",
     "output_type": "stream",
     "text": [
      "Уникальные значения в колонке: [101.  99. 100.  98. 103. 102.  50.  51.  49. 312. 310. 299. 305. 304.\n",
      " 307. 302. 311.]\n"
     ]
    }
   ],
   "source": [
    "print(f'Уникальные значения в колонке: {df.flight_time.unique()}')"
   ]
  },
  {
   "cell_type": "markdown",
   "metadata": {},
   "source": [
    "Переведем время полета в часы:"
   ]
  },
  {
   "cell_type": "code",
   "execution_count": 16,
   "metadata": {},
   "outputs": [],
   "source": [
    "df.flight_time = df.flight_time / 60"
   ]
  },
  {
   "cell_type": "code",
   "execution_count": 17,
   "metadata": {},
   "outputs": [
    {
     "data": {
      "text/plain": [
       "0    1.683333\n",
       "1    1.650000\n",
       "2    1.666667\n",
       "3    1.650000\n",
       "4    1.650000\n",
       "Name: flight_time, dtype: float64"
      ]
     },
     "execution_count": 17,
     "metadata": {},
     "output_type": "execute_result"
    }
   ],
   "source": [
    "df.flight_time.head()"
   ]
  },
  {
   "cell_type": "markdown",
   "metadata": {},
   "source": [
    "### ACTUAL_DEPARTURE"
   ]
  },
  {
   "cell_type": "code",
   "execution_count": 18,
   "metadata": {},
   "outputs": [
    {
     "name": "stdout",
     "output_type": "stream",
     "text": [
      "Уникальное количество данных в колонке : 127\n"
     ]
    }
   ],
   "source": [
    "print(f'Уникальное количество данных в колонке : {df.actual_departure.nunique()}')"
   ]
  },
  {
   "cell_type": "code",
   "execution_count": 19,
   "metadata": {},
   "outputs": [
    {
     "data": {
      "text/plain": [
       "0    2017-01-03T10:08:00Z\n",
       "1    2017-02-24T10:07:00Z\n",
       "2    2017-01-08T10:08:00Z\n",
       "3    2017-02-13T10:07:00Z\n",
       "4    2017-01-28T10:07:00Z\n",
       "Name: actual_departure, dtype: object"
      ]
     },
     "execution_count": 19,
     "metadata": {},
     "output_type": "execute_result"
    }
   ],
   "source": [
    "df.actual_departure.head()"
   ]
  },
  {
   "cell_type": "markdown",
   "metadata": {},
   "source": [
    "Как мы заметили в начале исследования, формат у этих данных не соответствует datetime по типу, однако по содержанию является им.\n",
    "Переведем его во временной формат:"
   ]
  },
  {
   "cell_type": "code",
   "execution_count": 20,
   "metadata": {},
   "outputs": [],
   "source": [
    "df.actual_departure = pd.to_datetime(df.actual_departure)"
   ]
  },
  {
   "cell_type": "code",
   "execution_count": 21,
   "metadata": {},
   "outputs": [
    {
     "data": {
      "text/plain": [
       "0   2017-01-03 10:08:00+00:00\n",
       "1   2017-02-24 10:07:00+00:00\n",
       "2   2017-01-08 10:08:00+00:00\n",
       "3   2017-02-13 10:07:00+00:00\n",
       "4   2017-01-28 10:07:00+00:00\n",
       "Name: actual_departure, dtype: datetime64[ns, UTC]"
      ]
     },
     "execution_count": 21,
     "metadata": {},
     "output_type": "execute_result"
    }
   ],
   "source": [
    "df.actual_departure.head()"
   ]
  },
  {
   "cell_type": "markdown",
   "metadata": {},
   "source": [
    "### ACTUAL_ARRIVAL"
   ]
  },
  {
   "cell_type": "code",
   "execution_count": 22,
   "metadata": {},
   "outputs": [
    {
     "name": "stdout",
     "output_type": "stream",
     "text": [
      "Уникальное количество данных в колонке : 127\n"
     ]
    }
   ],
   "source": [
    "print(f'Уникальное количество данных в колонке : {df.actual_arrival.nunique()}')"
   ]
  },
  {
   "cell_type": "code",
   "execution_count": 23,
   "metadata": {},
   "outputs": [],
   "source": [
    "df.actual_arrival = pd.to_datetime(df.actual_arrival)"
   ]
  },
  {
   "cell_type": "code",
   "execution_count": 24,
   "metadata": {},
   "outputs": [
    {
     "data": {
      "text/plain": [
       "0   2017-01-03 11:49:00+00:00\n",
       "1   2017-02-24 11:46:00+00:00\n",
       "2   2017-01-08 11:48:00+00:00\n",
       "3   2017-02-13 11:46:00+00:00\n",
       "4   2017-01-28 11:46:00+00:00\n",
       "Name: actual_arrival, dtype: datetime64[ns, UTC]"
      ]
     },
     "execution_count": 24,
     "metadata": {},
     "output_type": "execute_result"
    }
   ],
   "source": [
    "df.actual_arrival.head()"
   ]
  },
  {
   "cell_type": "markdown",
   "metadata": {},
   "source": [
    "### FUEL_USAGE"
   ]
  },
  {
   "cell_type": "code",
   "execution_count": 25,
   "metadata": {},
   "outputs": [
    {
     "data": {
      "text/plain": [
       "aircraft_code\n",
       "733    [2400]\n",
       "SU9    [1700]\n",
       "Name: fuel_usage, dtype: object"
      ]
     },
     "execution_count": 25,
     "metadata": {},
     "output_type": "execute_result"
    }
   ],
   "source": [
    "df.groupby(['aircraft_code'])[\n",
    "    'fuel_usage'].unique().sort_values(ascending=False)"
   ]
  },
  {
   "cell_type": "markdown",
   "metadata": {},
   "source": [
    "*В этой колонке представлены данные о топливных расходах. У каждой модели самолета есть свой уровень расхода топлива (км/час).\n",
    "Эти данные были взяты из свободногшо доступа в инернете.  \n",
    "Используемый ресурс : [ссылка](http://newsruss.ru/doc/index.php/%D0%A0%D0%B0%D1%81%D1%85%D0%BE%D0%B4_%D1%82%D0%BE%D0%BF%D0%BB%D0%B8%D0%B2%D0%B0_%D1%81%D0%B0%D0%BC%D0%BE%D0%BB%D0%B5%D1%82%D0%B0)*"
   ]
  },
  {
   "cell_type": "markdown",
   "metadata": {},
   "source": [
    "### AIRCRAFT_CODE"
   ]
  },
  {
   "cell_type": "code",
   "execution_count": 27,
   "metadata": {},
   "outputs": [
    {
     "data": {
      "text/plain": [
       "733    68\n",
       "SU9    59\n",
       "Name: aircraft_code, dtype: int64"
      ]
     },
     "execution_count": 27,
     "metadata": {},
     "output_type": "execute_result"
    }
   ],
   "source": [
    "df['aircraft_code'].value_counts()"
   ]
  },
  {
   "cell_type": "markdown",
   "metadata": {},
   "source": [
    "**Авиапарк летающий из Анапы составляют:**\n",
    "   - 733 - Boeing 777-300\n",
    "   - SU9 - Sukhoi Superjet-100"
   ]
  },
  {
   "cell_type": "markdown",
   "metadata": {},
   "source": [
    "### SEAT_ECONOMY"
   ]
  },
  {
   "cell_type": "code",
   "execution_count": 28,
   "metadata": {},
   "outputs": [
    {
     "data": {
      "text/plain": [
       "aircraft_code\n",
       "733    [118]\n",
       "SU9     [85]\n",
       "Name: seat_economy, dtype: object"
      ]
     },
     "execution_count": 28,
     "metadata": {},
     "output_type": "execute_result"
    }
   ],
   "source": [
    "df.groupby(['aircraft_code'])[\n",
    "    'seat_economy'].unique().sort_values(ascending=False)"
   ]
  },
  {
   "cell_type": "markdown",
   "metadata": {},
   "source": [
    "В Боинг гораздо больше мест эконом-класса, чем в Суперджете."
   ]
  },
  {
   "cell_type": "markdown",
   "metadata": {},
   "source": [
    "### SEAT_BUSINESS"
   ]
  },
  {
   "cell_type": "code",
   "execution_count": 29,
   "metadata": {},
   "outputs": [
    {
     "data": {
      "text/plain": [
       "aircraft_code\n",
       "SU9    [12]\n",
       "733    [12]\n",
       "Name: seat_business, dtype: object"
      ]
     },
     "execution_count": 29,
     "metadata": {},
     "output_type": "execute_result"
    }
   ],
   "source": [
    "df.groupby(['aircraft_code'])[\n",
    "    'seat_business'].unique().sort_values(ascending=False)"
   ]
  },
  {
   "cell_type": "markdown",
   "metadata": {},
   "source": [
    "*Количество мест класса \"бизнес\" на обоих бортах одинаковое -12 шт*"
   ]
  },
  {
   "cell_type": "markdown",
   "metadata": {},
   "source": [
    "### SEAT_TOTAL"
   ]
  },
  {
   "cell_type": "code",
   "execution_count": 30,
   "metadata": {},
   "outputs": [
    {
     "data": {
      "text/plain": [
       "aircraft_code\n",
       "733    [130]\n",
       "SU9     [97]\n",
       "Name: seat_total, dtype: object"
      ]
     },
     "execution_count": 30,
     "metadata": {},
     "output_type": "execute_result"
    }
   ],
   "source": [
    "df.groupby(['aircraft_code'])[\n",
    "    'seat_total'].unique().sort_values(ascending=False)"
   ]
  },
  {
   "cell_type": "markdown",
   "metadata": {},
   "source": [
    "Общее количество мест в самолетах иллюстрирует, что вместимость Боинга выше, чем Суперджета.\n",
    "Может быть поэтому из Анапы в Москву летают именно 733-е, потому что направление популярное, столица все-таки? А как насчет Новокузнецка? Интересно!"
   ]
  },
  {
   "cell_type": "markdown",
   "metadata": {},
   "source": [
    "***Исходя из тех данных, которые были представлены в Metabase: dst_project/Aircrafts/range(колонка), максимальная дальность полета:***  \n",
    "- Sukhoi Superjet-100 - 3 000 км\n",
    "- Boeing 737-300 - 4 200 км  \n",
    "\n",
    "А расстояние от Анапы до Новокузнецка по прямой составляет: 3 658 км.  \n",
    "Данные про расстояние взяты отсюда: [ссылка](http://101karta.ru/aviaperelet/anapa/novokuznetsk)\n",
    "\n",
    "***Из вышеизложенного следует, что с точки зрения дальности полета и для осуществления прямого перелета, действительно подходит именно Boeing 737-300.***        "
   ]
  },
  {
   "cell_type": "markdown",
   "metadata": {},
   "source": [
    "### PURCHASED_ECONOMY \n"
   ]
  },
  {
   "cell_type": "code",
   "execution_count": 31,
   "metadata": {},
   "outputs": [
    {
     "data": {
      "text/plain": [
       "aircraft_code\n",
       "733    6054.0\n",
       "SU9    4668.0\n",
       "Name: purchased_economy, dtype: float64"
      ]
     },
     "execution_count": 31,
     "metadata": {},
     "output_type": "execute_result"
    }
   ],
   "source": [
    "df.groupby(['aircraft_code'])[\n",
    "    'purchased_economy'].sum().sort_values(ascending=False)"
   ]
  },
  {
   "cell_type": "markdown",
   "metadata": {},
   "source": [
    "### PURCHASED_BUSINESS"
   ]
  },
  {
   "cell_type": "code",
   "execution_count": 32,
   "metadata": {},
   "outputs": [
    {
     "data": {
      "text/plain": [
       "aircraft_code\n",
       "SU9    653.0\n",
       "733    620.0\n",
       "Name: purchased_business, dtype: float64"
      ]
     },
     "execution_count": 32,
     "metadata": {},
     "output_type": "execute_result"
    }
   ],
   "source": [
    "df.groupby(['aircraft_code'])[\n",
    "    'purchased_business'].sum().sort_values(ascending=False)"
   ]
  },
  {
   "cell_type": "markdown",
   "metadata": {},
   "source": [
    "### TOTAL_PURCHASED"
   ]
  },
  {
   "cell_type": "code",
   "execution_count": 33,
   "metadata": {},
   "outputs": [
    {
     "data": {
      "text/plain": [
       "aircraft_code\n",
       "733    6674.0\n",
       "SU9    5321.0\n",
       "Name: total_purchased, dtype: float64"
      ]
     },
     "execution_count": 33,
     "metadata": {},
     "output_type": "execute_result"
    }
   ],
   "source": [
    "df.groupby(['aircraft_code'])[\n",
    "    'total_purchased'].sum().sort_values(ascending=False)"
   ]
  },
  {
   "cell_type": "markdown",
   "metadata": {},
   "source": [
    "### AMOUNT_ECONOMY"
   ]
  },
  {
   "cell_type": "code",
   "execution_count": 34,
   "metadata": {},
   "outputs": [
    {
     "data": {
      "text/plain": [
       "aircraft_code\n",
       "733    74220000.0\n",
       "SU9    29574000.0\n",
       "Name: amount_economy, dtype: float64"
      ]
     },
     "execution_count": 34,
     "metadata": {},
     "output_type": "execute_result"
    }
   ],
   "source": [
    "df.groupby(['aircraft_code'])[\n",
    "    'amount_economy'].sum().sort_values(ascending=False)"
   ]
  },
  {
   "cell_type": "markdown",
   "metadata": {},
   "source": [
    "Здесь отражены суммарные стоимости по купленным авиабилетам класса \"эконом\" на обоих бортах за все три месяца.  \n",
    "Как видно, у модели Boeing 777-300 эта сумма больше примерно в 2.5 раза."
   ]
  },
  {
   "cell_type": "markdown",
   "metadata": {},
   "source": [
    "### AMOUNT_BUSINESS"
   ]
  },
  {
   "cell_type": "code",
   "execution_count": 35,
   "metadata": {},
   "outputs": [
    {
     "data": {
      "text/plain": [
       "aircraft_code\n",
       "733    22692000.0\n",
       "SU9    12341700.0\n",
       "Name: amount_business, dtype: float64"
      ]
     },
     "execution_count": 35,
     "metadata": {},
     "output_type": "execute_result"
    }
   ],
   "source": [
    "df.groupby(['aircraft_code'])[\n",
    "    'amount_business'].sum().sort_values(ascending=False)"
   ]
  },
  {
   "cell_type": "markdown",
   "metadata": {},
   "source": [
    "Здесь отражены суммарные стоимости по купленным авиабилетам класса \"бизнес\" на обоих бортах за все три месяца.  \n",
    "И вновь \"лидирует\" Boeing 777-300, почти в два раза больше проданных билетов бизнесс класса. Хотя, из показателей выше, можно было заметить, что по количеству проданных билетов бизнес класса SU9 обогнал 733-й. Видимо, это говорит о том, что сама стоимость билета в бизнесс классе у этих моделей разная.\n",
    "Интересно будет посмотреть на заполненность данного класса на рейсах."
   ]
  },
  {
   "cell_type": "markdown",
   "metadata": {},
   "source": [
    "### TOTAL_AMOUNT "
   ]
  },
  {
   "cell_type": "code",
   "execution_count": 36,
   "metadata": {},
   "outputs": [
    {
     "data": {
      "text/plain": [
       "138827700.0"
      ]
     },
     "execution_count": 36,
     "metadata": {},
     "output_type": "execute_result"
    }
   ],
   "source": [
    "df.total_amount.sum()"
   ]
  },
  {
   "cell_type": "markdown",
   "metadata": {},
   "source": [
    "Общая стоимость всех проданных билетов составляет: 138 827 700 руб   \n",
    "Далее поглядим что от этой суммы \"остается\", и тем самым делает рейс выгодным для перевозчика."
   ]
  },
  {
   "cell_type": "markdown",
   "metadata": {},
   "source": [
    "### || ПРОПУСКИ ||"
   ]
  },
  {
   "cell_type": "markdown",
   "metadata": {},
   "source": [
    "![](https://sun9-33.userapi.com/impg/MFblc69M55vlnGgbd5G8mY_dAWQ4bs2xFcUDGQ/HAM16ZTviZ8.jpg?size=2560x632&quality=96&sign=fc6038f6af184f9bc1ae5ee0d820c1f6&type=album)"
   ]
  },
  {
   "cell_type": "markdown",
   "metadata": {},
   "source": [
    "Прежде чем делать дальнейшие расчеты, необходимо избавиться от пропусков:"
   ]
  },
  {
   "cell_type": "code",
   "execution_count": 37,
   "metadata": {},
   "outputs": [
    {
     "data": {
      "text/html": [
       "<div>\n",
       "<style scoped>\n",
       "    .dataframe tbody tr th:only-of-type {\n",
       "        vertical-align: middle;\n",
       "    }\n",
       "\n",
       "    .dataframe tbody tr th {\n",
       "        vertical-align: top;\n",
       "    }\n",
       "\n",
       "    .dataframe thead th {\n",
       "        text-align: right;\n",
       "    }\n",
       "</style>\n",
       "<table border=\"1\" class=\"dataframe\">\n",
       "  <thead>\n",
       "    <tr style=\"text-align: right;\">\n",
       "      <th></th>\n",
       "      <th>flight_id</th>\n",
       "      <th>flight_no</th>\n",
       "      <th>arrival_airport</th>\n",
       "      <th>city</th>\n",
       "      <th>model</th>\n",
       "      <th>actual_departure</th>\n",
       "      <th>actual_arrival</th>\n",
       "      <th>flight_time</th>\n",
       "      <th>fuel_usage</th>\n",
       "      <th>aircraft_code</th>\n",
       "      <th>seat_economy</th>\n",
       "      <th>seat_business</th>\n",
       "      <th>seat_total</th>\n",
       "      <th>purchased_economy</th>\n",
       "      <th>purchased_business</th>\n",
       "      <th>total_purchased</th>\n",
       "      <th>amount_economy</th>\n",
       "      <th>amount_business</th>\n",
       "      <th>total_amount</th>\n",
       "    </tr>\n",
       "  </thead>\n",
       "  <tbody>\n",
       "    <tr>\n",
       "      <th>118</th>\n",
       "      <td>136523</td>\n",
       "      <td>PG0194</td>\n",
       "      <td>NOZ</td>\n",
       "      <td>Novokuznetsk</td>\n",
       "      <td>Boeing 737-300</td>\n",
       "      <td>2017-01-10 06:14:00+00:00</td>\n",
       "      <td>2017-01-10 11:26:00+00:00</td>\n",
       "      <td>5.200000</td>\n",
       "      <td>2400</td>\n",
       "      <td>733</td>\n",
       "      <td>118</td>\n",
       "      <td>12</td>\n",
       "      <td>130</td>\n",
       "      <td>NaN</td>\n",
       "      <td>NaN</td>\n",
       "      <td>NaN</td>\n",
       "      <td>NaN</td>\n",
       "      <td>NaN</td>\n",
       "      <td>NaN</td>\n",
       "    </tr>\n",
       "    <tr>\n",
       "      <th>119</th>\n",
       "      <td>136513</td>\n",
       "      <td>PG0194</td>\n",
       "      <td>NOZ</td>\n",
       "      <td>Novokuznetsk</td>\n",
       "      <td>Boeing 737-300</td>\n",
       "      <td>2017-02-28 06:13:00+00:00</td>\n",
       "      <td>2017-02-28 11:23:00+00:00</td>\n",
       "      <td>5.166667</td>\n",
       "      <td>2400</td>\n",
       "      <td>733</td>\n",
       "      <td>118</td>\n",
       "      <td>12</td>\n",
       "      <td>130</td>\n",
       "      <td>NaN</td>\n",
       "      <td>NaN</td>\n",
       "      <td>NaN</td>\n",
       "      <td>NaN</td>\n",
       "      <td>NaN</td>\n",
       "      <td>NaN</td>\n",
       "    </tr>\n",
       "    <tr>\n",
       "      <th>120</th>\n",
       "      <td>136514</td>\n",
       "      <td>PG0194</td>\n",
       "      <td>NOZ</td>\n",
       "      <td>Novokuznetsk</td>\n",
       "      <td>Boeing 737-300</td>\n",
       "      <td>2017-02-07 06:14:00+00:00</td>\n",
       "      <td>2017-02-07 11:13:00+00:00</td>\n",
       "      <td>4.983333</td>\n",
       "      <td>2400</td>\n",
       "      <td>733</td>\n",
       "      <td>118</td>\n",
       "      <td>12</td>\n",
       "      <td>130</td>\n",
       "      <td>NaN</td>\n",
       "      <td>NaN</td>\n",
       "      <td>NaN</td>\n",
       "      <td>NaN</td>\n",
       "      <td>NaN</td>\n",
       "      <td>NaN</td>\n",
       "    </tr>\n",
       "    <tr>\n",
       "      <th>121</th>\n",
       "      <td>136560</td>\n",
       "      <td>PG0194</td>\n",
       "      <td>NOZ</td>\n",
       "      <td>Novokuznetsk</td>\n",
       "      <td>Boeing 737-300</td>\n",
       "      <td>2017-01-24 06:13:00+00:00</td>\n",
       "      <td>2017-01-24 11:18:00+00:00</td>\n",
       "      <td>5.083333</td>\n",
       "      <td>2400</td>\n",
       "      <td>733</td>\n",
       "      <td>118</td>\n",
       "      <td>12</td>\n",
       "      <td>130</td>\n",
       "      <td>NaN</td>\n",
       "      <td>NaN</td>\n",
       "      <td>NaN</td>\n",
       "      <td>NaN</td>\n",
       "      <td>NaN</td>\n",
       "      <td>NaN</td>\n",
       "    </tr>\n",
       "    <tr>\n",
       "      <th>122</th>\n",
       "      <td>136544</td>\n",
       "      <td>PG0194</td>\n",
       "      <td>NOZ</td>\n",
       "      <td>Novokuznetsk</td>\n",
       "      <td>Boeing 737-300</td>\n",
       "      <td>2017-01-31 06:10:00+00:00</td>\n",
       "      <td>2017-01-31 11:14:00+00:00</td>\n",
       "      <td>5.066667</td>\n",
       "      <td>2400</td>\n",
       "      <td>733</td>\n",
       "      <td>118</td>\n",
       "      <td>12</td>\n",
       "      <td>130</td>\n",
       "      <td>NaN</td>\n",
       "      <td>NaN</td>\n",
       "      <td>NaN</td>\n",
       "      <td>NaN</td>\n",
       "      <td>NaN</td>\n",
       "      <td>NaN</td>\n",
       "    </tr>\n",
       "    <tr>\n",
       "      <th>123</th>\n",
       "      <td>136511</td>\n",
       "      <td>PG0194</td>\n",
       "      <td>NOZ</td>\n",
       "      <td>Novokuznetsk</td>\n",
       "      <td>Boeing 737-300</td>\n",
       "      <td>2017-02-21 06:15:00+00:00</td>\n",
       "      <td>2017-02-21 11:25:00+00:00</td>\n",
       "      <td>5.166667</td>\n",
       "      <td>2400</td>\n",
       "      <td>733</td>\n",
       "      <td>118</td>\n",
       "      <td>12</td>\n",
       "      <td>130</td>\n",
       "      <td>NaN</td>\n",
       "      <td>NaN</td>\n",
       "      <td>NaN</td>\n",
       "      <td>NaN</td>\n",
       "      <td>NaN</td>\n",
       "      <td>NaN</td>\n",
       "    </tr>\n",
       "    <tr>\n",
       "      <th>124</th>\n",
       "      <td>136540</td>\n",
       "      <td>PG0194</td>\n",
       "      <td>NOZ</td>\n",
       "      <td>Novokuznetsk</td>\n",
       "      <td>Boeing 737-300</td>\n",
       "      <td>2017-01-17 06:14:00+00:00</td>\n",
       "      <td>2017-01-17 11:21:00+00:00</td>\n",
       "      <td>5.116667</td>\n",
       "      <td>2400</td>\n",
       "      <td>733</td>\n",
       "      <td>118</td>\n",
       "      <td>12</td>\n",
       "      <td>130</td>\n",
       "      <td>NaN</td>\n",
       "      <td>NaN</td>\n",
       "      <td>NaN</td>\n",
       "      <td>NaN</td>\n",
       "      <td>NaN</td>\n",
       "      <td>NaN</td>\n",
       "    </tr>\n",
       "    <tr>\n",
       "      <th>125</th>\n",
       "      <td>136546</td>\n",
       "      <td>PG0194</td>\n",
       "      <td>NOZ</td>\n",
       "      <td>Novokuznetsk</td>\n",
       "      <td>Boeing 737-300</td>\n",
       "      <td>2017-01-03 06:13:00+00:00</td>\n",
       "      <td>2017-01-03 11:15:00+00:00</td>\n",
       "      <td>5.033333</td>\n",
       "      <td>2400</td>\n",
       "      <td>733</td>\n",
       "      <td>118</td>\n",
       "      <td>12</td>\n",
       "      <td>130</td>\n",
       "      <td>NaN</td>\n",
       "      <td>NaN</td>\n",
       "      <td>NaN</td>\n",
       "      <td>NaN</td>\n",
       "      <td>NaN</td>\n",
       "      <td>NaN</td>\n",
       "    </tr>\n",
       "    <tr>\n",
       "      <th>126</th>\n",
       "      <td>136567</td>\n",
       "      <td>PG0194</td>\n",
       "      <td>NOZ</td>\n",
       "      <td>Novokuznetsk</td>\n",
       "      <td>Boeing 737-300</td>\n",
       "      <td>2017-02-14 06:12:00+00:00</td>\n",
       "      <td>2017-02-14 11:23:00+00:00</td>\n",
       "      <td>5.183333</td>\n",
       "      <td>2400</td>\n",
       "      <td>733</td>\n",
       "      <td>118</td>\n",
       "      <td>12</td>\n",
       "      <td>130</td>\n",
       "      <td>NaN</td>\n",
       "      <td>NaN</td>\n",
       "      <td>NaN</td>\n",
       "      <td>NaN</td>\n",
       "      <td>NaN</td>\n",
       "      <td>NaN</td>\n",
       "    </tr>\n",
       "  </tbody>\n",
       "</table>\n",
       "</div>"
      ],
      "text/plain": [
       "     flight_id flight_no arrival_airport          city           model  \\\n",
       "118     136523    PG0194             NOZ  Novokuznetsk  Boeing 737-300   \n",
       "119     136513    PG0194             NOZ  Novokuznetsk  Boeing 737-300   \n",
       "120     136514    PG0194             NOZ  Novokuznetsk  Boeing 737-300   \n",
       "121     136560    PG0194             NOZ  Novokuznetsk  Boeing 737-300   \n",
       "122     136544    PG0194             NOZ  Novokuznetsk  Boeing 737-300   \n",
       "123     136511    PG0194             NOZ  Novokuznetsk  Boeing 737-300   \n",
       "124     136540    PG0194             NOZ  Novokuznetsk  Boeing 737-300   \n",
       "125     136546    PG0194             NOZ  Novokuznetsk  Boeing 737-300   \n",
       "126     136567    PG0194             NOZ  Novokuznetsk  Boeing 737-300   \n",
       "\n",
       "             actual_departure            actual_arrival  flight_time  \\\n",
       "118 2017-01-10 06:14:00+00:00 2017-01-10 11:26:00+00:00     5.200000   \n",
       "119 2017-02-28 06:13:00+00:00 2017-02-28 11:23:00+00:00     5.166667   \n",
       "120 2017-02-07 06:14:00+00:00 2017-02-07 11:13:00+00:00     4.983333   \n",
       "121 2017-01-24 06:13:00+00:00 2017-01-24 11:18:00+00:00     5.083333   \n",
       "122 2017-01-31 06:10:00+00:00 2017-01-31 11:14:00+00:00     5.066667   \n",
       "123 2017-02-21 06:15:00+00:00 2017-02-21 11:25:00+00:00     5.166667   \n",
       "124 2017-01-17 06:14:00+00:00 2017-01-17 11:21:00+00:00     5.116667   \n",
       "125 2017-01-03 06:13:00+00:00 2017-01-03 11:15:00+00:00     5.033333   \n",
       "126 2017-02-14 06:12:00+00:00 2017-02-14 11:23:00+00:00     5.183333   \n",
       "\n",
       "     fuel_usage aircraft_code  seat_economy  seat_business  seat_total  \\\n",
       "118        2400           733           118             12         130   \n",
       "119        2400           733           118             12         130   \n",
       "120        2400           733           118             12         130   \n",
       "121        2400           733           118             12         130   \n",
       "122        2400           733           118             12         130   \n",
       "123        2400           733           118             12         130   \n",
       "124        2400           733           118             12         130   \n",
       "125        2400           733           118             12         130   \n",
       "126        2400           733           118             12         130   \n",
       "\n",
       "     purchased_economy  purchased_business  total_purchased  amount_economy  \\\n",
       "118                NaN                 NaN              NaN             NaN   \n",
       "119                NaN                 NaN              NaN             NaN   \n",
       "120                NaN                 NaN              NaN             NaN   \n",
       "121                NaN                 NaN              NaN             NaN   \n",
       "122                NaN                 NaN              NaN             NaN   \n",
       "123                NaN                 NaN              NaN             NaN   \n",
       "124                NaN                 NaN              NaN             NaN   \n",
       "125                NaN                 NaN              NaN             NaN   \n",
       "126                NaN                 NaN              NaN             NaN   \n",
       "\n",
       "     amount_business  total_amount  \n",
       "118              NaN           NaN  \n",
       "119              NaN           NaN  \n",
       "120              NaN           NaN  \n",
       "121              NaN           NaN  \n",
       "122              NaN           NaN  \n",
       "123              NaN           NaN  \n",
       "124              NaN           NaN  \n",
       "125              NaN           NaN  \n",
       "126              NaN           NaN  "
      ]
     },
     "execution_count": 37,
     "metadata": {},
     "output_type": "execute_result"
    }
   ],
   "source": [
    "df[df.total_purchased.isna() == True]"
   ]
  },
  {
   "cell_type": "markdown",
   "metadata": {},
   "source": [
    "Все рейсы ***Анапа - Новокузнецк*** имеют пустые значения по части купленных билетов (любых классов) и стоимости билетов.\n",
    "К сожалению, мы не сможем проанализировать эти данные. При попытке \"парсить\" какие-дибо данные о расценках 2017 года, я потерпела неудачу.   \n",
    "Следовательно, принимаю решение удалить эти данные из датасета, для корректного последующего анализа. "
   ]
  },
  {
   "cell_type": "code",
   "execution_count": 38,
   "metadata": {},
   "outputs": [],
   "source": [
    "df.dropna(inplace=True)"
   ]
  },
  {
   "cell_type": "code",
   "execution_count": 39,
   "metadata": {
    "scrolled": false
   },
   "outputs": [
    {
     "name": "stdout",
     "output_type": "stream",
     "text": [
      "<class 'pandas.core.frame.DataFrame'>\n",
      "Int64Index: 118 entries, 0 to 117\n",
      "Data columns (total 19 columns):\n",
      " #   Column              Non-Null Count  Dtype              \n",
      "---  ------              --------------  -----              \n",
      " 0   flight_id           118 non-null    int64              \n",
      " 1   flight_no           118 non-null    object             \n",
      " 2   arrival_airport     118 non-null    object             \n",
      " 3   city                118 non-null    object             \n",
      " 4   model               118 non-null    object             \n",
      " 5   actual_departure    118 non-null    datetime64[ns, UTC]\n",
      " 6   actual_arrival      118 non-null    datetime64[ns, UTC]\n",
      " 7   flight_time         118 non-null    float64            \n",
      " 8   fuel_usage          118 non-null    int64              \n",
      " 9   aircraft_code       118 non-null    object             \n",
      " 10  seat_economy        118 non-null    int64              \n",
      " 11  seat_business       118 non-null    int64              \n",
      " 12  seat_total          118 non-null    int64              \n",
      " 13  purchased_economy   118 non-null    float64            \n",
      " 14  purchased_business  118 non-null    float64            \n",
      " 15  total_purchased     118 non-null    float64            \n",
      " 16  amount_economy      118 non-null    float64            \n",
      " 17  amount_business     118 non-null    float64            \n",
      " 18  total_amount        118 non-null    float64            \n",
      "dtypes: datetime64[ns, UTC](2), float64(7), int64(5), object(5)\n",
      "memory usage: 18.4+ KB\n"
     ]
    }
   ],
   "source": [
    "df.info()"
   ]
  },
  {
   "cell_type": "markdown",
   "metadata": {},
   "source": [
    "*Пропуски удалены, смотрим дальше на данные*"
   ]
  },
  {
   "cell_type": "markdown",
   "metadata": {},
   "source": [
    "![](https://s28478.pcdn.co/wp-content/uploads/2019/03/baggage_claim-1440x500.jpg)\n"
   ]
  },
  {
   "cell_type": "markdown",
   "metadata": {},
   "source": [
    "###  || ПРИБЫЛЬ ||"
   ]
  },
  {
   "cell_type": "markdown",
   "metadata": {},
   "source": [
    "### Чтобы попробовать посчитать прибыль от рейса, необходимо знать количество затраченного топлива в полете и его стоимости.\n",
    "Для этого, создам два признака:  \n",
    "- Расход топлива (в зависимости от времени полета) **fuel_spent**  \n",
    "- Затраты на топливо **fuel_price**"
   ]
  },
  {
   "cell_type": "code",
   "execution_count": 40,
   "metadata": {},
   "outputs": [],
   "source": [
    "df['fuel_spent'] = df.flight_time * df.fuel_usage\n",
    "df['fuel_price'] = df.fuel_spent * 42.7"
   ]
  },
  {
   "cell_type": "markdown",
   "metadata": {},
   "source": [
    "Данные по цене топлива за кг, без учета НДС были взяты с сайта Росавиации:[ссылка](https://favt.gov.ru/stat-date-gsm-price/?id=7329)  \n",
    "А именно:\n",
    "- Январь 2017 - 41,435  \n",
    "- Февраль 2017 - 39,553  \n",
    "- Декабрь 2017 - 47,101  \n",
    "Возьмем среднеарифметическое значение: 42,7"
   ]
  },
  {
   "cell_type": "markdown",
   "metadata": {},
   "source": [
    "**И наконец, рассчитаем прибыль (profit) как разность общей стоимости всех проданных билетов и топливные расходы:**"
   ]
  },
  {
   "cell_type": "code",
   "execution_count": 41,
   "metadata": {},
   "outputs": [],
   "source": [
    "df['profit'] = df.total_amount - df.fuel_price\n",
    "df.profit = df.profit.astype('int64')"
   ]
  },
  {
   "cell_type": "markdown",
   "metadata": {},
   "source": [
    "Проверим, есть ли среди наших рейсов откровенно убыточные:"
   ]
  },
  {
   "cell_type": "code",
   "execution_count": 42,
   "metadata": {},
   "outputs": [
    {
     "data": {
      "text/plain": [
       "0"
      ]
     },
     "execution_count": 42,
     "metadata": {},
     "output_type": "execute_result"
    }
   ],
   "source": [
    "len(df[df['profit'] < 0])"
   ]
  },
  {
   "cell_type": "markdown",
   "metadata": {},
   "source": [
    "А, собственно их и нет! *Конечно, все это расчитано без учета НДС в ценах за топливо, стоимости заправки и хранения топлива и.т.п*"
   ]
  },
  {
   "cell_type": "markdown",
   "metadata": {},
   "source": [
    "### Посмотрим на прибыль только от продажи билетов:"
   ]
  },
  {
   "cell_type": "code",
   "execution_count": 45,
   "metadata": {},
   "outputs": [
    {
     "data": {
      "text/html": [
       "<div>\n",
       "<style scoped>\n",
       "    .dataframe tbody tr th:only-of-type {\n",
       "        vertical-align: middle;\n",
       "    }\n",
       "\n",
       "    .dataframe tbody tr th {\n",
       "        vertical-align: top;\n",
       "    }\n",
       "\n",
       "    .dataframe thead th {\n",
       "        text-align: right;\n",
       "    }\n",
       "</style>\n",
       "<table border=\"1\" class=\"dataframe\">\n",
       "  <thead>\n",
       "    <tr style=\"text-align: right;\">\n",
       "      <th></th>\n",
       "      <th>flight_no</th>\n",
       "      <th>min</th>\n",
       "      <th>mean</th>\n",
       "      <th>max</th>\n",
       "    </tr>\n",
       "  </thead>\n",
       "  <tbody>\n",
       "    <tr>\n",
       "      <th>0</th>\n",
       "      <td>PG0252</td>\n",
       "      <td>1398000</td>\n",
       "      <td>1642576</td>\n",
       "      <td>1886000</td>\n",
       "    </tr>\n",
       "    <tr>\n",
       "      <th>1</th>\n",
       "      <td>PG0480</td>\n",
       "      <td>531000</td>\n",
       "      <td>710435</td>\n",
       "      <td>765300</td>\n",
       "    </tr>\n",
       "  </tbody>\n",
       "</table>\n",
       "</div>"
      ],
      "text/plain": [
       "  flight_no      min     mean      max\n",
       "0    PG0252  1398000  1642576  1886000\n",
       "1    PG0480   531000   710435   765300"
      ]
     },
     "execution_count": 45,
     "metadata": {},
     "output_type": "execute_result"
    }
   ],
   "source": [
    "statistic = df.groupby('flight_no').total_amount.agg(\n",
    "    ['min', 'mean', 'max']).astype('int64').reset_index()\n",
    "statistic"
   ]
  },
  {
   "cell_type": "code",
   "execution_count": 50,
   "metadata": {},
   "outputs": [
    {
     "data": {
      "image/png": "[encoded data removed]",
      "text/plain": [
       "<Figure size 720x576 with 1 Axes>"
      ]
     },
     "metadata": {
      "needs_background": "light"
     },
     "output_type": "display_data"
    }
   ],
   "source": [
    "fig, ax = plt.subplots(figsize=(10, 8))\n",
    "sns.set_color_codes('deep')\n",
    "sns.barplot(x='flight_no', y='max', data=statistic, color='r', label='max')\n",
    "sns.set_color_codes('muted')\n",
    "sns.barplot(x='flight_no', y='mean', data=statistic, color='r', label='mean')\n",
    "sns.set_color_codes('pastel')\n",
    "sns.barplot(x='flight_no', y='min', data=statistic, color='r', label='min')\n",
    "ax.legend(loc=1)\n",
    "plt.ylabel(None)\n",
    "ax.set_title('Прибыль с продажи билетов', fontsize=14)\n",
    "ax.set_xlabel('Направления рейсов (где PG0252 - SVO, PG0480 - EGO)')\n",
    "ax.set_ylabel('Прибыль (млн. руб)')\n",
    "# fig.savefig('Прибыль с продажи билетов.svg')"
   ]
  },
  {
   "cell_type": "markdown",
   "metadata": {},
   "source": [
    "Очень наглядно можно заметить насколько дороже рейсы в Москву на Боингах.  \n",
    "Теперь посмотрим на количественную составляющую, насколько их заполняемость разнится:"
   ]
  },
  {
   "cell_type": "code",
   "execution_count": 51,
   "metadata": {},
   "outputs": [
    {
     "data": {
      "text/html": [
       "<div>\n",
       "<style scoped>\n",
       "    .dataframe tbody tr th:only-of-type {\n",
       "        vertical-align: middle;\n",
       "    }\n",
       "\n",
       "    .dataframe tbody tr th {\n",
       "        vertical-align: top;\n",
       "    }\n",
       "\n",
       "    .dataframe thead th {\n",
       "        text-align: right;\n",
       "    }\n",
       "</style>\n",
       "<table border=\"1\" class=\"dataframe\">\n",
       "  <thead>\n",
       "    <tr style=\"text-align: right;\">\n",
       "      <th></th>\n",
       "      <th>flight_no</th>\n",
       "      <th>min</th>\n",
       "      <th>mean</th>\n",
       "      <th>max</th>\n",
       "    </tr>\n",
       "  </thead>\n",
       "  <tbody>\n",
       "    <tr>\n",
       "      <th>0</th>\n",
       "      <td>PG0252</td>\n",
       "      <td>97</td>\n",
       "      <td>113</td>\n",
       "      <td>130</td>\n",
       "    </tr>\n",
       "    <tr>\n",
       "      <th>1</th>\n",
       "      <td>PG0480</td>\n",
       "      <td>64</td>\n",
       "      <td>90</td>\n",
       "      <td>97</td>\n",
       "    </tr>\n",
       "  </tbody>\n",
       "</table>\n",
       "</div>"
      ],
      "text/plain": [
       "  flight_no  min  mean  max\n",
       "0    PG0252   97   113  130\n",
       "1    PG0480   64    90   97"
      ]
     },
     "execution_count": 51,
     "metadata": {},
     "output_type": "execute_result"
    }
   ],
   "source": [
    "seats_statistic = df.groupby('flight_no').total_purchased.agg(\n",
    "    ['min', 'mean', 'max']).astype('int64').reset_index()\n",
    "seats_statistic"
   ]
  },
  {
   "cell_type": "code",
   "execution_count": 55,
   "metadata": {},
   "outputs": [
    {
     "data": {
      "image/png": "[encoded data removed]",
      "text/plain": [
       "<Figure size 720x576 with 1 Axes>"
      ]
     },
     "metadata": {
      "needs_background": "light"
     },
     "output_type": "display_data"
    }
   ],
   "source": [
    "fig, ax = plt.subplots(figsize=(10, 8))\n",
    "sns.set_color_codes('deep')\n",
    "sns.barplot(x='flight_no', y='max',\n",
    "            data=seats_statistic, color='r', label='max')\n",
    "sns.set_color_codes('muted')\n",
    "sns.barplot(x='flight_no', y='mean',\n",
    "            data=seats_statistic, color='r', label='mean')\n",
    "sns.set_color_codes('pastel')\n",
    "sns.barplot(x='flight_no', y='min',\n",
    "            data=seats_statistic, color='r', label='min')\n",
    "ax.legend(loc=1)\n",
    "plt.ylabel(None)\n",
    "ax.set_title('Количество купленных билетов', fontsize=14)\n",
    "ax.set_xlabel('Направления рейсов (где PG0252 - SVO, PG0480 - EGO)')\n",
    "ax.set_ylabel('Прибыль (млн. руб)')\n",
    "# fig.savefig('Кол-во купленныхи билетов.svg')"
   ]
  },
  {
   "cell_type": "markdown",
   "metadata": {},
   "source": [
    "### Адаптируем заполненность самолета на рейсе в процентный эквивалент:"
   ]
  },
  {
   "cell_type": "code",
   "execution_count": 174,
   "metadata": {},
   "outputs": [],
   "source": [
    "df['seats_percent'] = df.total_purchased / df.seat_total"
   ]
  },
  {
   "cell_type": "markdown",
   "metadata": {},
   "source": [
    "Определим планку рентабельности на 80% и посмотрим какие рейсы из нее выпадут:"
   ]
  },
  {
   "cell_type": "code",
   "execution_count": 63,
   "metadata": {},
   "outputs": [
    {
     "data": {
      "text/html": [
       "<div>\n",
       "<style scoped>\n",
       "    .dataframe tbody tr th:only-of-type {\n",
       "        vertical-align: middle;\n",
       "    }\n",
       "\n",
       "    .dataframe tbody tr th {\n",
       "        vertical-align: top;\n",
       "    }\n",
       "\n",
       "    .dataframe thead th {\n",
       "        text-align: right;\n",
       "    }\n",
       "</style>\n",
       "<table border=\"1\" class=\"dataframe\">\n",
       "  <thead>\n",
       "    <tr style=\"text-align: right;\">\n",
       "      <th></th>\n",
       "      <th>flight_id</th>\n",
       "      <th>flight_no</th>\n",
       "      <th>arrival_airport</th>\n",
       "      <th>city</th>\n",
       "      <th>model</th>\n",
       "      <th>actual_departure</th>\n",
       "      <th>actual_arrival</th>\n",
       "      <th>flight_time</th>\n",
       "      <th>fuel_usage</th>\n",
       "      <th>aircraft_code</th>\n",
       "      <th>seat_economy</th>\n",
       "      <th>seat_business</th>\n",
       "      <th>seat_total</th>\n",
       "      <th>purchased_economy</th>\n",
       "      <th>purchased_business</th>\n",
       "      <th>total_purchased</th>\n",
       "      <th>amount_economy</th>\n",
       "      <th>amount_business</th>\n",
       "      <th>total_amount</th>\n",
       "      <th>fuel_spent</th>\n",
       "      <th>fuel_price</th>\n",
       "      <th>profit</th>\n",
       "      <th>seats_percent</th>\n",
       "    </tr>\n",
       "  </thead>\n",
       "  <tbody>\n",
       "    <tr>\n",
       "      <th>2</th>\n",
       "      <td>136122</td>\n",
       "      <td>PG0252</td>\n",
       "      <td>SVO</td>\n",
       "      <td>Moscow</td>\n",
       "      <td>Boeing 737-300</td>\n",
       "      <td>2017-01-08 10:08:00+00:00</td>\n",
       "      <td>2017-01-08 11:48:00+00:00</td>\n",
       "      <td>1.666667</td>\n",
       "      <td>2400</td>\n",
       "      <td>733</td>\n",
       "      <td>118</td>\n",
       "      <td>12</td>\n",
       "      <td>130</td>\n",
       "      <td>87.0</td>\n",
       "      <td>10.0</td>\n",
       "      <td>97.0</td>\n",
       "      <td>1065000.0</td>\n",
       "      <td>366000.0</td>\n",
       "      <td>1431000.0</td>\n",
       "      <td>4000.000000</td>\n",
       "      <td>170800.000000</td>\n",
       "      <td>1260200</td>\n",
       "      <td>0.746154</td>\n",
       "    </tr>\n",
       "    <tr>\n",
       "      <th>12</th>\n",
       "      <td>136178</td>\n",
       "      <td>PG0252</td>\n",
       "      <td>SVO</td>\n",
       "      <td>Moscow</td>\n",
       "      <td>Boeing 737-300</td>\n",
       "      <td>2017-01-29 10:10:00+00:00</td>\n",
       "      <td>2017-01-29 11:49:00+00:00</td>\n",
       "      <td>1.650000</td>\n",
       "      <td>2400</td>\n",
       "      <td>733</td>\n",
       "      <td>118</td>\n",
       "      <td>12</td>\n",
       "      <td>130</td>\n",
       "      <td>90.0</td>\n",
       "      <td>9.0</td>\n",
       "      <td>99.0</td>\n",
       "      <td>1105200.0</td>\n",
       "      <td>329400.0</td>\n",
       "      <td>1434600.0</td>\n",
       "      <td>3960.000000</td>\n",
       "      <td>169092.000000</td>\n",
       "      <td>1265508</td>\n",
       "      <td>0.761538</td>\n",
       "    </tr>\n",
       "    <tr>\n",
       "      <th>15</th>\n",
       "      <td>136202</td>\n",
       "      <td>PG0252</td>\n",
       "      <td>SVO</td>\n",
       "      <td>Moscow</td>\n",
       "      <td>Boeing 737-300</td>\n",
       "      <td>2017-01-05 10:07:00+00:00</td>\n",
       "      <td>2017-01-05 11:49:00+00:00</td>\n",
       "      <td>1.700000</td>\n",
       "      <td>2400</td>\n",
       "      <td>733</td>\n",
       "      <td>118</td>\n",
       "      <td>12</td>\n",
       "      <td>130</td>\n",
       "      <td>89.0</td>\n",
       "      <td>11.0</td>\n",
       "      <td>100.0</td>\n",
       "      <td>1093000.0</td>\n",
       "      <td>402600.0</td>\n",
       "      <td>1495600.0</td>\n",
       "      <td>4080.000000</td>\n",
       "      <td>174216.000000</td>\n",
       "      <td>1321384</td>\n",
       "      <td>0.769231</td>\n",
       "    </tr>\n",
       "    <tr>\n",
       "      <th>21</th>\n",
       "      <td>136250</td>\n",
       "      <td>PG0252</td>\n",
       "      <td>SVO</td>\n",
       "      <td>Moscow</td>\n",
       "      <td>Boeing 737-300</td>\n",
       "      <td>2017-02-08 10:06:00+00:00</td>\n",
       "      <td>2017-02-08 11:47:00+00:00</td>\n",
       "      <td>1.683333</td>\n",
       "      <td>2400</td>\n",
       "      <td>733</td>\n",
       "      <td>118</td>\n",
       "      <td>12</td>\n",
       "      <td>130</td>\n",
       "      <td>91.0</td>\n",
       "      <td>8.0</td>\n",
       "      <td>99.0</td>\n",
       "      <td>1115000.0</td>\n",
       "      <td>292800.0</td>\n",
       "      <td>1407800.0</td>\n",
       "      <td>4040.000000</td>\n",
       "      <td>172508.000000</td>\n",
       "      <td>1235292</td>\n",
       "      <td>0.761538</td>\n",
       "    </tr>\n",
       "    <tr>\n",
       "      <th>38</th>\n",
       "      <td>136360</td>\n",
       "      <td>PG0252</td>\n",
       "      <td>SVO</td>\n",
       "      <td>Moscow</td>\n",
       "      <td>Boeing 737-300</td>\n",
       "      <td>2017-02-05 10:08:00+00:00</td>\n",
       "      <td>2017-02-05 11:48:00+00:00</td>\n",
       "      <td>1.666667</td>\n",
       "      <td>2400</td>\n",
       "      <td>733</td>\n",
       "      <td>118</td>\n",
       "      <td>12</td>\n",
       "      <td>130</td>\n",
       "      <td>86.0</td>\n",
       "      <td>11.0</td>\n",
       "      <td>97.0</td>\n",
       "      <td>1052800.0</td>\n",
       "      <td>402600.0</td>\n",
       "      <td>1455400.0</td>\n",
       "      <td>4000.000000</td>\n",
       "      <td>170800.000000</td>\n",
       "      <td>1284600</td>\n",
       "      <td>0.746154</td>\n",
       "    </tr>\n",
       "    <tr>\n",
       "      <th>39</th>\n",
       "      <td>136366</td>\n",
       "      <td>PG0252</td>\n",
       "      <td>SVO</td>\n",
       "      <td>Moscow</td>\n",
       "      <td>Boeing 737-300</td>\n",
       "      <td>2017-01-11 10:08:00+00:00</td>\n",
       "      <td>2017-01-11 11:47:00+00:00</td>\n",
       "      <td>1.650000</td>\n",
       "      <td>2400</td>\n",
       "      <td>733</td>\n",
       "      <td>118</td>\n",
       "      <td>12</td>\n",
       "      <td>130</td>\n",
       "      <td>92.0</td>\n",
       "      <td>11.0</td>\n",
       "      <td>103.0</td>\n",
       "      <td>1124800.0</td>\n",
       "      <td>402600.0</td>\n",
       "      <td>1527400.0</td>\n",
       "      <td>3960.000000</td>\n",
       "      <td>169092.000000</td>\n",
       "      <td>1358308</td>\n",
       "      <td>0.792308</td>\n",
       "    </tr>\n",
       "    <tr>\n",
       "      <th>54</th>\n",
       "      <td>136464</td>\n",
       "      <td>PG0252</td>\n",
       "      <td>SVO</td>\n",
       "      <td>Moscow</td>\n",
       "      <td>Boeing 737-300</td>\n",
       "      <td>2017-01-09 10:07:00+00:00</td>\n",
       "      <td>2017-01-09 11:47:00+00:00</td>\n",
       "      <td>1.666667</td>\n",
       "      <td>2400</td>\n",
       "      <td>733</td>\n",
       "      <td>118</td>\n",
       "      <td>12</td>\n",
       "      <td>130</td>\n",
       "      <td>93.0</td>\n",
       "      <td>7.0</td>\n",
       "      <td>100.0</td>\n",
       "      <td>1141800.0</td>\n",
       "      <td>256200.0</td>\n",
       "      <td>1398000.0</td>\n",
       "      <td>4000.000000</td>\n",
       "      <td>170800.000000</td>\n",
       "      <td>1227200</td>\n",
       "      <td>0.769231</td>\n",
       "    </tr>\n",
       "    <tr>\n",
       "      <th>68</th>\n",
       "      <td>136642</td>\n",
       "      <td>PG0480</td>\n",
       "      <td>EGO</td>\n",
       "      <td>Belgorod</td>\n",
       "      <td>Sukhoi Superjet-100</td>\n",
       "      <td>2017-01-30 09:28:00+00:00</td>\n",
       "      <td>2017-01-30 10:17:00+00:00</td>\n",
       "      <td>0.816667</td>\n",
       "      <td>1700</td>\n",
       "      <td>SU9</td>\n",
       "      <td>85</td>\n",
       "      <td>12</td>\n",
       "      <td>97</td>\n",
       "      <td>54.0</td>\n",
       "      <td>10.0</td>\n",
       "      <td>64.0</td>\n",
       "      <td>342000.0</td>\n",
       "      <td>189000.0</td>\n",
       "      <td>531000.0</td>\n",
       "      <td>1388.333333</td>\n",
       "      <td>59281.833333</td>\n",
       "      <td>471718</td>\n",
       "      <td>0.659794</td>\n",
       "    </tr>\n",
       "    <tr>\n",
       "      <th>93</th>\n",
       "      <td>136807</td>\n",
       "      <td>PG0480</td>\n",
       "      <td>EGO</td>\n",
       "      <td>Belgorod</td>\n",
       "      <td>Sukhoi Superjet-100</td>\n",
       "      <td>2017-02-23 09:28:00+00:00</td>\n",
       "      <td>2017-02-23 10:18:00+00:00</td>\n",
       "      <td>0.833333</td>\n",
       "      <td>1700</td>\n",
       "      <td>SU9</td>\n",
       "      <td>85</td>\n",
       "      <td>12</td>\n",
       "      <td>97</td>\n",
       "      <td>60.0</td>\n",
       "      <td>8.0</td>\n",
       "      <td>68.0</td>\n",
       "      <td>379800.0</td>\n",
       "      <td>151200.0</td>\n",
       "      <td>531000.0</td>\n",
       "      <td>1416.666667</td>\n",
       "      <td>60491.666667</td>\n",
       "      <td>470508</td>\n",
       "      <td>0.701031</td>\n",
       "    </tr>\n",
       "    <tr>\n",
       "      <th>111</th>\n",
       "      <td>136922</td>\n",
       "      <td>PG0480</td>\n",
       "      <td>EGO</td>\n",
       "      <td>Belgorod</td>\n",
       "      <td>Sukhoi Superjet-100</td>\n",
       "      <td>2017-02-11 09:27:00+00:00</td>\n",
       "      <td>2017-02-11 10:17:00+00:00</td>\n",
       "      <td>0.833333</td>\n",
       "      <td>1700</td>\n",
       "      <td>SU9</td>\n",
       "      <td>85</td>\n",
       "      <td>12</td>\n",
       "      <td>97</td>\n",
       "      <td>66.0</td>\n",
       "      <td>10.0</td>\n",
       "      <td>76.0</td>\n",
       "      <td>418800.0</td>\n",
       "      <td>189000.0</td>\n",
       "      <td>607800.0</td>\n",
       "      <td>1416.666667</td>\n",
       "      <td>60491.666667</td>\n",
       "      <td>547308</td>\n",
       "      <td>0.783505</td>\n",
       "    </tr>\n",
       "  </tbody>\n",
       "</table>\n",
       "</div>"
      ],
      "text/plain": [
       "     flight_id flight_no arrival_airport      city                model  \\\n",
       "2       136122    PG0252             SVO    Moscow       Boeing 737-300   \n",
       "12      136178    PG0252             SVO    Moscow       Boeing 737-300   \n",
       "15      136202    PG0252             SVO    Moscow       Boeing 737-300   \n",
       "21      136250    PG0252             SVO    Moscow       Boeing 737-300   \n",
       "38      136360    PG0252             SVO    Moscow       Boeing 737-300   \n",
       "39      136366    PG0252             SVO    Moscow       Boeing 737-300   \n",
       "54      136464    PG0252             SVO    Moscow       Boeing 737-300   \n",
       "68      136642    PG0480             EGO  Belgorod  Sukhoi Superjet-100   \n",
       "93      136807    PG0480             EGO  Belgorod  Sukhoi Superjet-100   \n",
       "111     136922    PG0480             EGO  Belgorod  Sukhoi Superjet-100   \n",
       "\n",
       "             actual_departure            actual_arrival  flight_time  \\\n",
       "2   2017-01-08 10:08:00+00:00 2017-01-08 11:48:00+00:00     1.666667   \n",
       "12  2017-01-29 10:10:00+00:00 2017-01-29 11:49:00+00:00     1.650000   \n",
       "15  2017-01-05 10:07:00+00:00 2017-01-05 11:49:00+00:00     1.700000   \n",
       "21  2017-02-08 10:06:00+00:00 2017-02-08 11:47:00+00:00     1.683333   \n",
       "38  2017-02-05 10:08:00+00:00 2017-02-05 11:48:00+00:00     1.666667   \n",
       "39  2017-01-11 10:08:00+00:00 2017-01-11 11:47:00+00:00     1.650000   \n",
       "54  2017-01-09 10:07:00+00:00 2017-01-09 11:47:00+00:00     1.666667   \n",
       "68  2017-01-30 09:28:00+00:00 2017-01-30 10:17:00+00:00     0.816667   \n",
       "93  2017-02-23 09:28:00+00:00 2017-02-23 10:18:00+00:00     0.833333   \n",
       "111 2017-02-11 09:27:00+00:00 2017-02-11 10:17:00+00:00     0.833333   \n",
       "\n",
       "     fuel_usage aircraft_code  seat_economy  seat_business  seat_total  \\\n",
       "2          2400           733           118             12         130   \n",
       "12         2400           733           118             12         130   \n",
       "15         2400           733           118             12         130   \n",
       "21         2400           733           118             12         130   \n",
       "38         2400           733           118             12         130   \n",
       "39         2400           733           118             12         130   \n",
       "54         2400           733           118             12         130   \n",
       "68         1700           SU9            85             12          97   \n",
       "93         1700           SU9            85             12          97   \n",
       "111        1700           SU9            85             12          97   \n",
       "\n",
       "     purchased_economy  purchased_business  total_purchased  amount_economy  \\\n",
       "2                 87.0                10.0             97.0       1065000.0   \n",
       "12                90.0                 9.0             99.0       1105200.0   \n",
       "15                89.0                11.0            100.0       1093000.0   \n",
       "21                91.0                 8.0             99.0       1115000.0   \n",
       "38                86.0                11.0             97.0       1052800.0   \n",
       "39                92.0                11.0            103.0       1124800.0   \n",
       "54                93.0                 7.0            100.0       1141800.0   \n",
       "68                54.0                10.0             64.0        342000.0   \n",
       "93                60.0                 8.0             68.0        379800.0   \n",
       "111               66.0                10.0             76.0        418800.0   \n",
       "\n",
       "     amount_business  total_amount   fuel_spent     fuel_price   profit  \\\n",
       "2           366000.0     1431000.0  4000.000000  170800.000000  1260200   \n",
       "12          329400.0     1434600.0  3960.000000  169092.000000  1265508   \n",
       "15          402600.0     1495600.0  4080.000000  174216.000000  1321384   \n",
       "21          292800.0     1407800.0  4040.000000  172508.000000  1235292   \n",
       "38          402600.0     1455400.0  4000.000000  170800.000000  1284600   \n",
       "39          402600.0     1527400.0  3960.000000  169092.000000  1358308   \n",
       "54          256200.0     1398000.0  4000.000000  170800.000000  1227200   \n",
       "68          189000.0      531000.0  1388.333333   59281.833333   471718   \n",
       "93          151200.0      531000.0  1416.666667   60491.666667   470508   \n",
       "111         189000.0      607800.0  1416.666667   60491.666667   547308   \n",
       "\n",
       "     seats_percent  \n",
       "2         0.746154  \n",
       "12        0.761538  \n",
       "15        0.769231  \n",
       "21        0.761538  \n",
       "38        0.746154  \n",
       "39        0.792308  \n",
       "54        0.769231  \n",
       "68        0.659794  \n",
       "93        0.701031  \n",
       "111       0.783505  "
      ]
     },
     "execution_count": 63,
     "metadata": {},
     "output_type": "execute_result"
    }
   ],
   "source": [
    "df[df.seats_percent < 0.80]"
   ]
  },
  {
   "cell_type": "markdown",
   "metadata": {},
   "source": [
    "### Построим графики, наглядно иллюстрирующие распределение данных признаков для каждого направления:"
   ]
  },
  {
   "cell_type": "code",
   "execution_count": 81,
   "metadata": {},
   "outputs": [],
   "source": [
    "unprofit_svo = df[(df.flight_no == 'PG0252') & (\n",
    "    df.seats_percent <= 0.80)].profit.max()\n",
    "unprofit_ego = df[(df.flight_no == 'PG0480') & (\n",
    "    df.seats_percent <= 0.80)].profit.max()"
   ]
  },
  {
   "cell_type": "markdown",
   "metadata": {},
   "source": [
    "***Для SVO, Москва:***"
   ]
  },
  {
   "cell_type": "code",
   "execution_count": 116,
   "metadata": {},
   "outputs": [
    {
     "data": {
      "image/png": "[encoded data removed]",
      "text/plain": [
       "<Figure size 864x576 with 1 Axes>"
      ]
     },
     "metadata": {
      "needs_background": "light"
     },
     "output_type": "display_data"
    }
   ],
   "source": [
    "data1 = df[df.profit <= unprofit_svo]\n",
    "data2 = df[df.profit > unprofit_svo]\n",
    "\n",
    "fig, ax = plt.subplots(figsize=(12, 8))\n",
    "sns.scatterplot(x='profit', y='seats_percent',\n",
    "                data=data2[data2.flight_no == 'PG0252'], s=150, color='#9ACEEB')\n",
    "sns.scatterplot(x='profit', y='seats_percent',\n",
    "                data=data1[data1.flight_no == 'PG0252'], s=150, color='#1974d2')\n",
    "ax.axvline(unprofit_svo, linestyle=':')\n",
    "ax.set_title('Прибыльность рейсов в Москву (направление PG0252)', fontsize=14)\n",
    "ax.set_xlabel('Прибыль млн. руб')\n",
    "ax.set_ylabel('Заполненность')\n",
    "\n",
    "points(data1[data1.flight_no == 'PG0252'].profit,\n",
    "       data1[data1.flight_no == 'PG0252'].seats_percent,\n",
    "       data1[data1.flight_no == 'PG0252'].flight_id,\n",
    "       plt.gca())"
   ]
  },
  {
   "cell_type": "markdown",
   "metadata": {},
   "source": [
    "***Для EGO, Белгород:***"
   ]
  },
  {
   "cell_type": "code",
   "execution_count": 102,
   "metadata": {},
   "outputs": [
    {
     "data": {
      "image/png": "[encoded data removed]",
      "text/plain": [
       "<Figure size 864x576 with 1 Axes>"
      ]
     },
     "metadata": {
      "needs_background": "light"
     },
     "output_type": "display_data"
    }
   ],
   "source": [
    "data3 = df[df.seats_percent > 0.80]\n",
    "data4 = df[df.seats_percent <= 0.80]\n",
    "\n",
    "fig, ax = plt.subplots(figsize=(12, 8))\n",
    "sns.scatterplot(x='profit', y='seats_percent',\n",
    "                data=data3[data3.flight_no == 'PG0480'], s=150, color='#ffcf94')\n",
    "sns.scatterplot(x='profit', y='seats_percent',\n",
    "                data=data4[data4.flight_no == 'PG0480'], s=150, color='#e34f22')\n",
    "ax.axvline(unprofit_ego, linestyle=':')\n",
    "ax.set_title('Прибыльность рейсов в Белгород (направление PG0480)', fontsize=14)\n",
    "ax.set_xlabel('Прибыль млн. руб')\n",
    "ax.set_ylabel('Заполненность')\n",
    "\n",
    "points(data4[data4.flight_no == 'PG0480'].profit,\n",
    "       data4[data4.flight_no == 'PG0480'].seats_percent,\n",
    "       data4[data4.flight_no == 'PG0480'].flight_id,\n",
    "       plt.gca())"
   ]
  },
  {
   "cell_type": "markdown",
   "metadata": {},
   "source": [
    "И несмотря на то, что в целом рейсы в Москву летают с более вместимым самолетом,  и кол-во проданных авиабилетов на эти рейсы тоже вразы больше, Белгородские рейсы имеют меньше рейсов с низкой прибылью."
   ]
  },
  {
   "cell_type": "markdown",
   "metadata": {},
   "source": [
    "### А теперь посомтрим как эта прибыль зависит от заполненности самолетов:"
   ]
  },
  {
   "cell_type": "code",
   "execution_count": 114,
   "metadata": {},
   "outputs": [
    {
     "data": {
      "image/png": "[encoded data removed]",
      "text/plain": [
       "<Figure size 720x576 with 1 Axes>"
      ]
     },
     "metadata": {
      "needs_background": "light"
     },
     "output_type": "display_data"
    }
   ],
   "source": [
    "df_1 = df[df.seats_percent > 0.80]\n",
    "df_2 = df[df.seats_percent <= 0.80]\n",
    "\n",
    "fig, ax = plt.subplots(figsize=(10, 8))\n",
    "sns.scatterplot(x='profit', y='seats_percent', data=df_1,\n",
    "                hue='flight_no', s=150, palette=\"deep\")\n",
    "sns.scatterplot(x='profit', y='seats_percent', data=df_2,\n",
    "                hue='flight_no', s=150, palette=\"pastel\")\n",
    "sns.set_color_codes('pastel')\n",
    "plt.axhline(0.80, linestyle=':')\n",
    "ax.legend(loc=4)\n",
    "ax.set_title(\n",
    "    'Зависимость прибыли от заполненности самолета (за вычетом цен на топливо)', fontsize=14)\n",
    "ax.set_xlabel('Прибыль млн. руб')\n",
    "ax.set_ylabel('Заполненность')\n",
    "\n",
    "label_point(df_2.profit,\n",
    "            df_2.seats_percent,\n",
    "            df_2.flight_id,\n",
    "            plt.gca())"
   ]
  },
  {
   "cell_type": "markdown",
   "metadata": {},
   "source": [
    "Все-таки есть влияние заполненности на прибыль"
   ]
  },
  {
   "cell_type": "markdown",
   "metadata": {},
   "source": [
    "### Посмотрим отдельно, как \"классовость\" влияет на прибыль:"
   ]
  },
  {
   "cell_type": "code",
   "execution_count": 155,
   "metadata": {},
   "outputs": [
    {
     "data": {
      "image/png": "[encoded data removed]",
      "text/plain": [
       "<Figure size 360x360 with 2 Axes>"
      ]
     },
     "metadata": {
      "needs_background": "light"
     },
     "output_type": "display_data"
    }
   ],
   "source": [
    "part = df.loc[:, ['profit', 'purchased_business',\n",
    "                  'purchased_economy', 'total_purchased']]\n",
    "sns.heatmap(part.corr(), annot=True)\n",
    "plt.gcf().set_size_inches(5, 5)"
   ]
  },
  {
   "cell_type": "markdown",
   "metadata": {},
   "source": [
    "Как видно, конкретно \"классовость\" как раз не влияет, то есть кол-во проданных билетов на \"бизнес класс\" не влияет на прибыль, а вот общее кол-во проданных билетов, конечно же влияет напрямую, как и кол-во проданных билетов \"эконом класса\". Наверное, это происходит из-за того, что процентное соотношение бизнес класса и эконом в самолете конечно же в сторону эконом класса. И тем более, как мы видели выше, кол-во мест бизнес класса у обоих самолетов по 12, а вот вместимость эконом класса у Боинга разительно выше."
   ]
  },
  {
   "cell_type": "markdown",
   "metadata": {},
   "source": [
    "### Посмотрим на корреляцию сразу нескольких факторов: длительность полета, общее количество проданных билетов на рейс, стоимость топлива и его расход в зависимости от модели самолета:"
   ]
  },
  {
   "cell_type": "code",
   "execution_count": 170,
   "metadata": {},
   "outputs": [
    {
     "data": {
      "text/html": [
       "<div>\n",
       "<style scoped>\n",
       "    .dataframe tbody tr th:only-of-type {\n",
       "        vertical-align: middle;\n",
       "    }\n",
       "\n",
       "    .dataframe tbody tr th {\n",
       "        vertical-align: top;\n",
       "    }\n",
       "\n",
       "    .dataframe thead th {\n",
       "        text-align: right;\n",
       "    }\n",
       "</style>\n",
       "<table border=\"1\" class=\"dataframe\">\n",
       "  <thead>\n",
       "    <tr style=\"text-align: right;\">\n",
       "      <th></th>\n",
       "      <th>profit</th>\n",
       "      <th>flight_time</th>\n",
       "      <th>total_purchased</th>\n",
       "      <th>fuel_spent</th>\n",
       "      <th>fuel_usage</th>\n",
       "    </tr>\n",
       "  </thead>\n",
       "  <tbody>\n",
       "    <tr>\n",
       "      <th>profit</th>\n",
       "      <td>1.000000</td>\n",
       "      <td>0.967301</td>\n",
       "      <td>0.917689</td>\n",
       "      <td>0.967901</td>\n",
       "      <td>0.969649</td>\n",
       "    </tr>\n",
       "    <tr>\n",
       "      <th>flight_time</th>\n",
       "      <td>0.967301</td>\n",
       "      <td>1.000000</td>\n",
       "      <td>0.802897</td>\n",
       "      <td>0.999946</td>\n",
       "      <td>0.999446</td>\n",
       "    </tr>\n",
       "    <tr>\n",
       "      <th>total_purchased</th>\n",
       "      <td>0.917689</td>\n",
       "      <td>0.802897</td>\n",
       "      <td>1.000000</td>\n",
       "      <td>0.803285</td>\n",
       "      <td>0.805490</td>\n",
       "    </tr>\n",
       "    <tr>\n",
       "      <th>fuel_spent</th>\n",
       "      <td>0.967901</td>\n",
       "      <td>0.999946</td>\n",
       "      <td>0.803285</td>\n",
       "      <td>1.000000</td>\n",
       "      <td>0.999719</td>\n",
       "    </tr>\n",
       "    <tr>\n",
       "      <th>fuel_usage</th>\n",
       "      <td>0.969649</td>\n",
       "      <td>0.999446</td>\n",
       "      <td>0.805490</td>\n",
       "      <td>0.999719</td>\n",
       "      <td>1.000000</td>\n",
       "    </tr>\n",
       "  </tbody>\n",
       "</table>\n",
       "</div>"
      ],
      "text/plain": [
       "                   profit  flight_time  total_purchased  fuel_spent  \\\n",
       "profit           1.000000     0.967301         0.917689    0.967901   \n",
       "flight_time      0.967301     1.000000         0.802897    0.999946   \n",
       "total_purchased  0.917689     0.802897         1.000000    0.803285   \n",
       "fuel_spent       0.967901     0.999946         0.803285    1.000000   \n",
       "fuel_usage       0.969649     0.999446         0.805490    0.999719   \n",
       "\n",
       "                 fuel_usage  \n",
       "profit             0.969649  \n",
       "flight_time        0.999446  \n",
       "total_purchased    0.805490  \n",
       "fuel_spent         0.999719  \n",
       "fuel_usage         1.000000  "
      ]
     },
     "execution_count": 170,
     "metadata": {},
     "output_type": "execute_result"
    }
   ],
   "source": [
    "cor = ['profit', 'flight_time', 'total_purchased', 'fuel_spent', 'fuel_usage']\n",
    "df[cor].corr()"
   ]
  },
  {
   "cell_type": "code",
   "execution_count": 173,
   "metadata": {},
   "outputs": [
    {
     "data": {
      "text/plain": [
       "Text(0.5, 1.0, 'Корреляционная карта')"
      ]
     },
     "execution_count": 173,
     "metadata": {},
     "output_type": "execute_result"
    },
    {
     "data": {
      "image/png": "[encoded data removed]",
      "text/plain": [
       "<Figure size 720x432 with 2 Axes>"
      ]
     },
     "metadata": {
      "needs_background": "light"
     },
     "output_type": "display_data"
    }
   ],
   "source": [
    "plt.figure(figsize=(10, 6))\n",
    "heatmap = sns.heatmap(df[cor].corr(), vmin=-1, vmax=1,\n",
    "                      annot=True, linewidths=1, linecolor='#979aaa')\n",
    "heatmap.set_title('Корреляционная карта', fontdict={'fontsize': 14}, pad=12)"
   ]
  },
  {
   "cell_type": "markdown",
   "metadata": {},
   "source": [
    "Отсюда видно, что прибыль зависит и от времени полета, и от стоимости топлива и его расхода достаточно сильно, и чуть слабее от общего количества проданных билетов"
   ]
  },
  {
   "cell_type": "markdown",
   "metadata": {},
   "source": [
    "### Выводы:\n",
    "* На прибыль очень влияет количество проданных мест\n",
    "* Также влияет расход топлива\n",
    "* Нет данных для Новокузнецка (На основе этих данных можно было бы углубиться в анализ расстояние-прибыль)\n",
    "* Недостаточно данных для расчёта реальных затрат. Не учтены разные факторы, такие как: таксы и сборы аэропортов, зарплата экипажа и сотрудников аэропорта, амортизация самолёта, и аэропортов, расходы на питание пасажиров и т.д."
   ]
  },
  {
   "cell_type": "markdown",
   "metadata": {},
   "source": [
    "## ДОПОЛНИТЕЛЬНОЕ ЗАДАНИЕ"
   ]
  },
  {
   "cell_type": "markdown",
   "metadata": {},
   "source": [
    "→ Шаг 1. Укажите номера рейсов, которые вы предлагаете убрать. Укажите предполагаемую прибыльность этих рейсов и среднюю прибыльность всех рейсов.\n",
    "\n",
    "→ Шаг 2. Опишите, как вы проводили аналитику, какие данные были использованы для оценки доходности рейса и расходов на них."
   ]
  },
  {
   "cell_type": "markdown",
   "metadata": {},
   "source": [
    "### → Шаг 1. Укажите номера рейсов, которые вы предлагаете убрать. Укажите предполагаемую прибыльность этих рейсов и среднюю прибыльность всех рейсов.  \n",
    "\n",
    "***Посмотрим еще раз на предполагаемые \"не очень\" прибыльные рейсы:***"
   ]
  },
  {
   "cell_type": "code",
   "execution_count": 183,
   "metadata": {},
   "outputs": [
    {
     "data": {
      "text/plain": [
       "[136122,\n",
       " 136178,\n",
       " 136202,\n",
       " 136250,\n",
       " 136360,\n",
       " 136366,\n",
       " 136464,\n",
       " 136642,\n",
       " 136807,\n",
       " 136922]"
      ]
     },
     "execution_count": 183,
     "metadata": {},
     "output_type": "execute_result"
    }
   ],
   "source": [
    "#номера этих рейсов\n",
    "flight_unprofit = list(df[df.seats_percent < 0.80].flight_id)\n",
    "flight_unprofit"
   ]
  },
  {
   "cell_type": "code",
   "execution_count": 182,
   "metadata": {},
   "outputs": [
    {
     "data": {
      "text/html": [
       "<div>\n",
       "<style scoped>\n",
       "    .dataframe tbody tr th:only-of-type {\n",
       "        vertical-align: middle;\n",
       "    }\n",
       "\n",
       "    .dataframe tbody tr th {\n",
       "        vertical-align: top;\n",
       "    }\n",
       "\n",
       "    .dataframe thead th {\n",
       "        text-align: right;\n",
       "    }\n",
       "</style>\n",
       "<table border=\"1\" class=\"dataframe\">\n",
       "  <thead>\n",
       "    <tr style=\"text-align: right;\">\n",
       "      <th></th>\n",
       "      <th>flight_id</th>\n",
       "      <th>flight_no</th>\n",
       "      <th>arrival_airport</th>\n",
       "      <th>city</th>\n",
       "      <th>model</th>\n",
       "      <th>actual_departure</th>\n",
       "      <th>actual_arrival</th>\n",
       "      <th>flight_time</th>\n",
       "      <th>fuel_usage</th>\n",
       "      <th>aircraft_code</th>\n",
       "      <th>seat_economy</th>\n",
       "      <th>seat_business</th>\n",
       "      <th>seat_total</th>\n",
       "      <th>purchased_economy</th>\n",
       "      <th>purchased_business</th>\n",
       "      <th>total_purchased</th>\n",
       "      <th>amount_economy</th>\n",
       "      <th>amount_business</th>\n",
       "      <th>total_amount</th>\n",
       "      <th>fuel_spent</th>\n",
       "      <th>fuel_price</th>\n",
       "      <th>profit</th>\n",
       "      <th>seats_percent</th>\n",
       "    </tr>\n",
       "  </thead>\n",
       "  <tbody>\n",
       "    <tr>\n",
       "      <th>2</th>\n",
       "      <td>136122</td>\n",
       "      <td>PG0252</td>\n",
       "      <td>SVO</td>\n",
       "      <td>Moscow</td>\n",
       "      <td>Boeing 737-300</td>\n",
       "      <td>2017-01-08 10:08:00+00:00</td>\n",
       "      <td>2017-01-08 11:48:00+00:00</td>\n",
       "      <td>1.666667</td>\n",
       "      <td>2400</td>\n",
       "      <td>733</td>\n",
       "      <td>118</td>\n",
       "      <td>12</td>\n",
       "      <td>130</td>\n",
       "      <td>87.0</td>\n",
       "      <td>10.0</td>\n",
       "      <td>97.0</td>\n",
       "      <td>1065000.0</td>\n",
       "      <td>366000.0</td>\n",
       "      <td>1431000.0</td>\n",
       "      <td>4000.000000</td>\n",
       "      <td>170800.000000</td>\n",
       "      <td>1260200</td>\n",
       "      <td>0.746154</td>\n",
       "    </tr>\n",
       "    <tr>\n",
       "      <th>12</th>\n",
       "      <td>136178</td>\n",
       "      <td>PG0252</td>\n",
       "      <td>SVO</td>\n",
       "      <td>Moscow</td>\n",
       "      <td>Boeing 737-300</td>\n",
       "      <td>2017-01-29 10:10:00+00:00</td>\n",
       "      <td>2017-01-29 11:49:00+00:00</td>\n",
       "      <td>1.650000</td>\n",
       "      <td>2400</td>\n",
       "      <td>733</td>\n",
       "      <td>118</td>\n",
       "      <td>12</td>\n",
       "      <td>130</td>\n",
       "      <td>90.0</td>\n",
       "      <td>9.0</td>\n",
       "      <td>99.0</td>\n",
       "      <td>1105200.0</td>\n",
       "      <td>329400.0</td>\n",
       "      <td>1434600.0</td>\n",
       "      <td>3960.000000</td>\n",
       "      <td>169092.000000</td>\n",
       "      <td>1265508</td>\n",
       "      <td>0.761538</td>\n",
       "    </tr>\n",
       "    <tr>\n",
       "      <th>15</th>\n",
       "      <td>136202</td>\n",
       "      <td>PG0252</td>\n",
       "      <td>SVO</td>\n",
       "      <td>Moscow</td>\n",
       "      <td>Boeing 737-300</td>\n",
       "      <td>2017-01-05 10:07:00+00:00</td>\n",
       "      <td>2017-01-05 11:49:00+00:00</td>\n",
       "      <td>1.700000</td>\n",
       "      <td>2400</td>\n",
       "      <td>733</td>\n",
       "      <td>118</td>\n",
       "      <td>12</td>\n",
       "      <td>130</td>\n",
       "      <td>89.0</td>\n",
       "      <td>11.0</td>\n",
       "      <td>100.0</td>\n",
       "      <td>1093000.0</td>\n",
       "      <td>402600.0</td>\n",
       "      <td>1495600.0</td>\n",
       "      <td>4080.000000</td>\n",
       "      <td>174216.000000</td>\n",
       "      <td>1321384</td>\n",
       "      <td>0.769231</td>\n",
       "    </tr>\n",
       "    <tr>\n",
       "      <th>21</th>\n",
       "      <td>136250</td>\n",
       "      <td>PG0252</td>\n",
       "      <td>SVO</td>\n",
       "      <td>Moscow</td>\n",
       "      <td>Boeing 737-300</td>\n",
       "      <td>2017-02-08 10:06:00+00:00</td>\n",
       "      <td>2017-02-08 11:47:00+00:00</td>\n",
       "      <td>1.683333</td>\n",
       "      <td>2400</td>\n",
       "      <td>733</td>\n",
       "      <td>118</td>\n",
       "      <td>12</td>\n",
       "      <td>130</td>\n",
       "      <td>91.0</td>\n",
       "      <td>8.0</td>\n",
       "      <td>99.0</td>\n",
       "      <td>1115000.0</td>\n",
       "      <td>292800.0</td>\n",
       "      <td>1407800.0</td>\n",
       "      <td>4040.000000</td>\n",
       "      <td>172508.000000</td>\n",
       "      <td>1235292</td>\n",
       "      <td>0.761538</td>\n",
       "    </tr>\n",
       "    <tr>\n",
       "      <th>38</th>\n",
       "      <td>136360</td>\n",
       "      <td>PG0252</td>\n",
       "      <td>SVO</td>\n",
       "      <td>Moscow</td>\n",
       "      <td>Boeing 737-300</td>\n",
       "      <td>2017-02-05 10:08:00+00:00</td>\n",
       "      <td>2017-02-05 11:48:00+00:00</td>\n",
       "      <td>1.666667</td>\n",
       "      <td>2400</td>\n",
       "      <td>733</td>\n",
       "      <td>118</td>\n",
       "      <td>12</td>\n",
       "      <td>130</td>\n",
       "      <td>86.0</td>\n",
       "      <td>11.0</td>\n",
       "      <td>97.0</td>\n",
       "      <td>1052800.0</td>\n",
       "      <td>402600.0</td>\n",
       "      <td>1455400.0</td>\n",
       "      <td>4000.000000</td>\n",
       "      <td>170800.000000</td>\n",
       "      <td>1284600</td>\n",
       "      <td>0.746154</td>\n",
       "    </tr>\n",
       "    <tr>\n",
       "      <th>39</th>\n",
       "      <td>136366</td>\n",
       "      <td>PG0252</td>\n",
       "      <td>SVO</td>\n",
       "      <td>Moscow</td>\n",
       "      <td>Boeing 737-300</td>\n",
       "      <td>2017-01-11 10:08:00+00:00</td>\n",
       "      <td>2017-01-11 11:47:00+00:00</td>\n",
       "      <td>1.650000</td>\n",
       "      <td>2400</td>\n",
       "      <td>733</td>\n",
       "      <td>118</td>\n",
       "      <td>12</td>\n",
       "      <td>130</td>\n",
       "      <td>92.0</td>\n",
       "      <td>11.0</td>\n",
       "      <td>103.0</td>\n",
       "      <td>1124800.0</td>\n",
       "      <td>402600.0</td>\n",
       "      <td>1527400.0</td>\n",
       "      <td>3960.000000</td>\n",
       "      <td>169092.000000</td>\n",
       "      <td>1358308</td>\n",
       "      <td>0.792308</td>\n",
       "    </tr>\n",
       "    <tr>\n",
       "      <th>54</th>\n",
       "      <td>136464</td>\n",
       "      <td>PG0252</td>\n",
       "      <td>SVO</td>\n",
       "      <td>Moscow</td>\n",
       "      <td>Boeing 737-300</td>\n",
       "      <td>2017-01-09 10:07:00+00:00</td>\n",
       "      <td>2017-01-09 11:47:00+00:00</td>\n",
       "      <td>1.666667</td>\n",
       "      <td>2400</td>\n",
       "      <td>733</td>\n",
       "      <td>118</td>\n",
       "      <td>12</td>\n",
       "      <td>130</td>\n",
       "      <td>93.0</td>\n",
       "      <td>7.0</td>\n",
       "      <td>100.0</td>\n",
       "      <td>1141800.0</td>\n",
       "      <td>256200.0</td>\n",
       "      <td>1398000.0</td>\n",
       "      <td>4000.000000</td>\n",
       "      <td>170800.000000</td>\n",
       "      <td>1227200</td>\n",
       "      <td>0.769231</td>\n",
       "    </tr>\n",
       "    <tr>\n",
       "      <th>68</th>\n",
       "      <td>136642</td>\n",
       "      <td>PG0480</td>\n",
       "      <td>EGO</td>\n",
       "      <td>Belgorod</td>\n",
       "      <td>Sukhoi Superjet-100</td>\n",
       "      <td>2017-01-30 09:28:00+00:00</td>\n",
       "      <td>2017-01-30 10:17:00+00:00</td>\n",
       "      <td>0.816667</td>\n",
       "      <td>1700</td>\n",
       "      <td>SU9</td>\n",
       "      <td>85</td>\n",
       "      <td>12</td>\n",
       "      <td>97</td>\n",
       "      <td>54.0</td>\n",
       "      <td>10.0</td>\n",
       "      <td>64.0</td>\n",
       "      <td>342000.0</td>\n",
       "      <td>189000.0</td>\n",
       "      <td>531000.0</td>\n",
       "      <td>1388.333333</td>\n",
       "      <td>59281.833333</td>\n",
       "      <td>471718</td>\n",
       "      <td>0.659794</td>\n",
       "    </tr>\n",
       "    <tr>\n",
       "      <th>93</th>\n",
       "      <td>136807</td>\n",
       "      <td>PG0480</td>\n",
       "      <td>EGO</td>\n",
       "      <td>Belgorod</td>\n",
       "      <td>Sukhoi Superjet-100</td>\n",
       "      <td>2017-02-23 09:28:00+00:00</td>\n",
       "      <td>2017-02-23 10:18:00+00:00</td>\n",
       "      <td>0.833333</td>\n",
       "      <td>1700</td>\n",
       "      <td>SU9</td>\n",
       "      <td>85</td>\n",
       "      <td>12</td>\n",
       "      <td>97</td>\n",
       "      <td>60.0</td>\n",
       "      <td>8.0</td>\n",
       "      <td>68.0</td>\n",
       "      <td>379800.0</td>\n",
       "      <td>151200.0</td>\n",
       "      <td>531000.0</td>\n",
       "      <td>1416.666667</td>\n",
       "      <td>60491.666667</td>\n",
       "      <td>470508</td>\n",
       "      <td>0.701031</td>\n",
       "    </tr>\n",
       "    <tr>\n",
       "      <th>111</th>\n",
       "      <td>136922</td>\n",
       "      <td>PG0480</td>\n",
       "      <td>EGO</td>\n",
       "      <td>Belgorod</td>\n",
       "      <td>Sukhoi Superjet-100</td>\n",
       "      <td>2017-02-11 09:27:00+00:00</td>\n",
       "      <td>2017-02-11 10:17:00+00:00</td>\n",
       "      <td>0.833333</td>\n",
       "      <td>1700</td>\n",
       "      <td>SU9</td>\n",
       "      <td>85</td>\n",
       "      <td>12</td>\n",
       "      <td>97</td>\n",
       "      <td>66.0</td>\n",
       "      <td>10.0</td>\n",
       "      <td>76.0</td>\n",
       "      <td>418800.0</td>\n",
       "      <td>189000.0</td>\n",
       "      <td>607800.0</td>\n",
       "      <td>1416.666667</td>\n",
       "      <td>60491.666667</td>\n",
       "      <td>547308</td>\n",
       "      <td>0.783505</td>\n",
       "    </tr>\n",
       "  </tbody>\n",
       "</table>\n",
       "</div>"
      ],
      "text/plain": [
       "     flight_id flight_no arrival_airport      city                model  \\\n",
       "2       136122    PG0252             SVO    Moscow       Boeing 737-300   \n",
       "12      136178    PG0252             SVO    Moscow       Boeing 737-300   \n",
       "15      136202    PG0252             SVO    Moscow       Boeing 737-300   \n",
       "21      136250    PG0252             SVO    Moscow       Boeing 737-300   \n",
       "38      136360    PG0252             SVO    Moscow       Boeing 737-300   \n",
       "39      136366    PG0252             SVO    Moscow       Boeing 737-300   \n",
       "54      136464    PG0252             SVO    Moscow       Boeing 737-300   \n",
       "68      136642    PG0480             EGO  Belgorod  Sukhoi Superjet-100   \n",
       "93      136807    PG0480             EGO  Belgorod  Sukhoi Superjet-100   \n",
       "111     136922    PG0480             EGO  Belgorod  Sukhoi Superjet-100   \n",
       "\n",
       "             actual_departure            actual_arrival  flight_time  \\\n",
       "2   2017-01-08 10:08:00+00:00 2017-01-08 11:48:00+00:00     1.666667   \n",
       "12  2017-01-29 10:10:00+00:00 2017-01-29 11:49:00+00:00     1.650000   \n",
       "15  2017-01-05 10:07:00+00:00 2017-01-05 11:49:00+00:00     1.700000   \n",
       "21  2017-02-08 10:06:00+00:00 2017-02-08 11:47:00+00:00     1.683333   \n",
       "38  2017-02-05 10:08:00+00:00 2017-02-05 11:48:00+00:00     1.666667   \n",
       "39  2017-01-11 10:08:00+00:00 2017-01-11 11:47:00+00:00     1.650000   \n",
       "54  2017-01-09 10:07:00+00:00 2017-01-09 11:47:00+00:00     1.666667   \n",
       "68  2017-01-30 09:28:00+00:00 2017-01-30 10:17:00+00:00     0.816667   \n",
       "93  2017-02-23 09:28:00+00:00 2017-02-23 10:18:00+00:00     0.833333   \n",
       "111 2017-02-11 09:27:00+00:00 2017-02-11 10:17:00+00:00     0.833333   \n",
       "\n",
       "     fuel_usage aircraft_code  seat_economy  seat_business  seat_total  \\\n",
       "2          2400           733           118             12         130   \n",
       "12         2400           733           118             12         130   \n",
       "15         2400           733           118             12         130   \n",
       "21         2400           733           118             12         130   \n",
       "38         2400           733           118             12         130   \n",
       "39         2400           733           118             12         130   \n",
       "54         2400           733           118             12         130   \n",
       "68         1700           SU9            85             12          97   \n",
       "93         1700           SU9            85             12          97   \n",
       "111        1700           SU9            85             12          97   \n",
       "\n",
       "     purchased_economy  purchased_business  total_purchased  amount_economy  \\\n",
       "2                 87.0                10.0             97.0       1065000.0   \n",
       "12                90.0                 9.0             99.0       1105200.0   \n",
       "15                89.0                11.0            100.0       1093000.0   \n",
       "21                91.0                 8.0             99.0       1115000.0   \n",
       "38                86.0                11.0             97.0       1052800.0   \n",
       "39                92.0                11.0            103.0       1124800.0   \n",
       "54                93.0                 7.0            100.0       1141800.0   \n",
       "68                54.0                10.0             64.0        342000.0   \n",
       "93                60.0                 8.0             68.0        379800.0   \n",
       "111               66.0                10.0             76.0        418800.0   \n",
       "\n",
       "     amount_business  total_amount   fuel_spent     fuel_price   profit  \\\n",
       "2           366000.0     1431000.0  4000.000000  170800.000000  1260200   \n",
       "12          329400.0     1434600.0  3960.000000  169092.000000  1265508   \n",
       "15          402600.0     1495600.0  4080.000000  174216.000000  1321384   \n",
       "21          292800.0     1407800.0  4040.000000  172508.000000  1235292   \n",
       "38          402600.0     1455400.0  4000.000000  170800.000000  1284600   \n",
       "39          402600.0     1527400.0  3960.000000  169092.000000  1358308   \n",
       "54          256200.0     1398000.0  4000.000000  170800.000000  1227200   \n",
       "68          189000.0      531000.0  1388.333333   59281.833333   471718   \n",
       "93          151200.0      531000.0  1416.666667   60491.666667   470508   \n",
       "111         189000.0      607800.0  1416.666667   60491.666667   547308   \n",
       "\n",
       "     seats_percent  \n",
       "2         0.746154  \n",
       "12        0.761538  \n",
       "15        0.769231  \n",
       "21        0.761538  \n",
       "38        0.746154  \n",
       "39        0.792308  \n",
       "54        0.769231  \n",
       "68        0.659794  \n",
       "93        0.701031  \n",
       "111       0.783505  "
      ]
     },
     "execution_count": 182,
     "metadata": {},
     "output_type": "execute_result"
    }
   ],
   "source": [
    "df[df.seats_percent < 0.80]"
   ]
  },
  {
   "cell_type": "markdown",
   "metadata": {},
   "source": [
    "***Полагаю, что эти рейсы необходимо взять \"на карандаш\" и в будущем провести более подробную аналитику, чтобы понять: каким образом эти рейсы можно трансформировать в более прибыльные***"
   ]
  },
  {
   "cell_type": "code",
   "execution_count": null,
   "metadata": {},
   "outputs": [],
   "source": [
    "Укажите предполагаемую прибыльность этих рейсов и среднюю прибыльность всех рейсов."
   ]
  },
  {
   "cell_type": "code",
   "execution_count": 197,
   "metadata": {},
   "outputs": [
    {
     "data": {
      "text/html": [
       "<div>\n",
       "<style scoped>\n",
       "    .dataframe tbody tr th:only-of-type {\n",
       "        vertical-align: middle;\n",
       "    }\n",
       "\n",
       "    .dataframe tbody tr th {\n",
       "        vertical-align: top;\n",
       "    }\n",
       "\n",
       "    .dataframe thead th {\n",
       "        text-align: right;\n",
       "    }\n",
       "</style>\n",
       "<table border=\"1\" class=\"dataframe\">\n",
       "  <thead>\n",
       "    <tr style=\"text-align: right;\">\n",
       "      <th></th>\n",
       "      <th>flight_id</th>\n",
       "      <th>flight_no</th>\n",
       "      <th>arrival_airport</th>\n",
       "      <th>city</th>\n",
       "      <th>model</th>\n",
       "      <th>actual_departure</th>\n",
       "      <th>actual_arrival</th>\n",
       "      <th>flight_time</th>\n",
       "      <th>fuel_usage</th>\n",
       "      <th>aircraft_code</th>\n",
       "      <th>seat_economy</th>\n",
       "      <th>seat_business</th>\n",
       "      <th>seat_total</th>\n",
       "      <th>purchased_economy</th>\n",
       "      <th>purchased_business</th>\n",
       "      <th>total_purchased</th>\n",
       "      <th>amount_economy</th>\n",
       "      <th>amount_business</th>\n",
       "      <th>total_amount</th>\n",
       "      <th>fuel_spent</th>\n",
       "      <th>fuel_price</th>\n",
       "      <th>profit</th>\n",
       "      <th>seats_percent</th>\n",
       "    </tr>\n",
       "  </thead>\n",
       "  <tbody>\n",
       "    <tr>\n",
       "      <th>2</th>\n",
       "      <td>136122</td>\n",
       "      <td>PG0252</td>\n",
       "      <td>SVO</td>\n",
       "      <td>Moscow</td>\n",
       "      <td>Boeing 737-300</td>\n",
       "      <td>2017-01-08 10:08:00+00:00</td>\n",
       "      <td>2017-01-08 11:48:00+00:00</td>\n",
       "      <td>1.666667</td>\n",
       "      <td>2400</td>\n",
       "      <td>733</td>\n",
       "      <td>118</td>\n",
       "      <td>12</td>\n",
       "      <td>130</td>\n",
       "      <td>87.0</td>\n",
       "      <td>10.0</td>\n",
       "      <td>97.0</td>\n",
       "      <td>1065000.0</td>\n",
       "      <td>366000.0</td>\n",
       "      <td>1431000.0</td>\n",
       "      <td>4000.000000</td>\n",
       "      <td>170800.000000</td>\n",
       "      <td>1260200</td>\n",
       "      <td>0.746154</td>\n",
       "    </tr>\n",
       "    <tr>\n",
       "      <th>12</th>\n",
       "      <td>136178</td>\n",
       "      <td>PG0252</td>\n",
       "      <td>SVO</td>\n",
       "      <td>Moscow</td>\n",
       "      <td>Boeing 737-300</td>\n",
       "      <td>2017-01-29 10:10:00+00:00</td>\n",
       "      <td>2017-01-29 11:49:00+00:00</td>\n",
       "      <td>1.650000</td>\n",
       "      <td>2400</td>\n",
       "      <td>733</td>\n",
       "      <td>118</td>\n",
       "      <td>12</td>\n",
       "      <td>130</td>\n",
       "      <td>90.0</td>\n",
       "      <td>9.0</td>\n",
       "      <td>99.0</td>\n",
       "      <td>1105200.0</td>\n",
       "      <td>329400.0</td>\n",
       "      <td>1434600.0</td>\n",
       "      <td>3960.000000</td>\n",
       "      <td>169092.000000</td>\n",
       "      <td>1265508</td>\n",
       "      <td>0.761538</td>\n",
       "    </tr>\n",
       "    <tr>\n",
       "      <th>15</th>\n",
       "      <td>136202</td>\n",
       "      <td>PG0252</td>\n",
       "      <td>SVO</td>\n",
       "      <td>Moscow</td>\n",
       "      <td>Boeing 737-300</td>\n",
       "      <td>2017-01-05 10:07:00+00:00</td>\n",
       "      <td>2017-01-05 11:49:00+00:00</td>\n",
       "      <td>1.700000</td>\n",
       "      <td>2400</td>\n",
       "      <td>733</td>\n",
       "      <td>118</td>\n",
       "      <td>12</td>\n",
       "      <td>130</td>\n",
       "      <td>89.0</td>\n",
       "      <td>11.0</td>\n",
       "      <td>100.0</td>\n",
       "      <td>1093000.0</td>\n",
       "      <td>402600.0</td>\n",
       "      <td>1495600.0</td>\n",
       "      <td>4080.000000</td>\n",
       "      <td>174216.000000</td>\n",
       "      <td>1321384</td>\n",
       "      <td>0.769231</td>\n",
       "    </tr>\n",
       "    <tr>\n",
       "      <th>21</th>\n",
       "      <td>136250</td>\n",
       "      <td>PG0252</td>\n",
       "      <td>SVO</td>\n",
       "      <td>Moscow</td>\n",
       "      <td>Boeing 737-300</td>\n",
       "      <td>2017-02-08 10:06:00+00:00</td>\n",
       "      <td>2017-02-08 11:47:00+00:00</td>\n",
       "      <td>1.683333</td>\n",
       "      <td>2400</td>\n",
       "      <td>733</td>\n",
       "      <td>118</td>\n",
       "      <td>12</td>\n",
       "      <td>130</td>\n",
       "      <td>91.0</td>\n",
       "      <td>8.0</td>\n",
       "      <td>99.0</td>\n",
       "      <td>1115000.0</td>\n",
       "      <td>292800.0</td>\n",
       "      <td>1407800.0</td>\n",
       "      <td>4040.000000</td>\n",
       "      <td>172508.000000</td>\n",
       "      <td>1235292</td>\n",
       "      <td>0.761538</td>\n",
       "    </tr>\n",
       "    <tr>\n",
       "      <th>38</th>\n",
       "      <td>136360</td>\n",
       "      <td>PG0252</td>\n",
       "      <td>SVO</td>\n",
       "      <td>Moscow</td>\n",
       "      <td>Boeing 737-300</td>\n",
       "      <td>2017-02-05 10:08:00+00:00</td>\n",
       "      <td>2017-02-05 11:48:00+00:00</td>\n",
       "      <td>1.666667</td>\n",
       "      <td>2400</td>\n",
       "      <td>733</td>\n",
       "      <td>118</td>\n",
       "      <td>12</td>\n",
       "      <td>130</td>\n",
       "      <td>86.0</td>\n",
       "      <td>11.0</td>\n",
       "      <td>97.0</td>\n",
       "      <td>1052800.0</td>\n",
       "      <td>402600.0</td>\n",
       "      <td>1455400.0</td>\n",
       "      <td>4000.000000</td>\n",
       "      <td>170800.000000</td>\n",
       "      <td>1284600</td>\n",
       "      <td>0.746154</td>\n",
       "    </tr>\n",
       "    <tr>\n",
       "      <th>39</th>\n",
       "      <td>136366</td>\n",
       "      <td>PG0252</td>\n",
       "      <td>SVO</td>\n",
       "      <td>Moscow</td>\n",
       "      <td>Boeing 737-300</td>\n",
       "      <td>2017-01-11 10:08:00+00:00</td>\n",
       "      <td>2017-01-11 11:47:00+00:00</td>\n",
       "      <td>1.650000</td>\n",
       "      <td>2400</td>\n",
       "      <td>733</td>\n",
       "      <td>118</td>\n",
       "      <td>12</td>\n",
       "      <td>130</td>\n",
       "      <td>92.0</td>\n",
       "      <td>11.0</td>\n",
       "      <td>103.0</td>\n",
       "      <td>1124800.0</td>\n",
       "      <td>402600.0</td>\n",
       "      <td>1527400.0</td>\n",
       "      <td>3960.000000</td>\n",
       "      <td>169092.000000</td>\n",
       "      <td>1358308</td>\n",
       "      <td>0.792308</td>\n",
       "    </tr>\n",
       "    <tr>\n",
       "      <th>54</th>\n",
       "      <td>136464</td>\n",
       "      <td>PG0252</td>\n",
       "      <td>SVO</td>\n",
       "      <td>Moscow</td>\n",
       "      <td>Boeing 737-300</td>\n",
       "      <td>2017-01-09 10:07:00+00:00</td>\n",
       "      <td>2017-01-09 11:47:00+00:00</td>\n",
       "      <td>1.666667</td>\n",
       "      <td>2400</td>\n",
       "      <td>733</td>\n",
       "      <td>118</td>\n",
       "      <td>12</td>\n",
       "      <td>130</td>\n",
       "      <td>93.0</td>\n",
       "      <td>7.0</td>\n",
       "      <td>100.0</td>\n",
       "      <td>1141800.0</td>\n",
       "      <td>256200.0</td>\n",
       "      <td>1398000.0</td>\n",
       "      <td>4000.000000</td>\n",
       "      <td>170800.000000</td>\n",
       "      <td>1227200</td>\n",
       "      <td>0.769231</td>\n",
       "    </tr>\n",
       "    <tr>\n",
       "      <th>68</th>\n",
       "      <td>136642</td>\n",
       "      <td>PG0480</td>\n",
       "      <td>EGO</td>\n",
       "      <td>Belgorod</td>\n",
       "      <td>Sukhoi Superjet-100</td>\n",
       "      <td>2017-01-30 09:28:00+00:00</td>\n",
       "      <td>2017-01-30 10:17:00+00:00</td>\n",
       "      <td>0.816667</td>\n",
       "      <td>1700</td>\n",
       "      <td>SU9</td>\n",
       "      <td>85</td>\n",
       "      <td>12</td>\n",
       "      <td>97</td>\n",
       "      <td>54.0</td>\n",
       "      <td>10.0</td>\n",
       "      <td>64.0</td>\n",
       "      <td>342000.0</td>\n",
       "      <td>189000.0</td>\n",
       "      <td>531000.0</td>\n",
       "      <td>1388.333333</td>\n",
       "      <td>59281.833333</td>\n",
       "      <td>471718</td>\n",
       "      <td>0.659794</td>\n",
       "    </tr>\n",
       "    <tr>\n",
       "      <th>93</th>\n",
       "      <td>136807</td>\n",
       "      <td>PG0480</td>\n",
       "      <td>EGO</td>\n",
       "      <td>Belgorod</td>\n",
       "      <td>Sukhoi Superjet-100</td>\n",
       "      <td>2017-02-23 09:28:00+00:00</td>\n",
       "      <td>2017-02-23 10:18:00+00:00</td>\n",
       "      <td>0.833333</td>\n",
       "      <td>1700</td>\n",
       "      <td>SU9</td>\n",
       "      <td>85</td>\n",
       "      <td>12</td>\n",
       "      <td>97</td>\n",
       "      <td>60.0</td>\n",
       "      <td>8.0</td>\n",
       "      <td>68.0</td>\n",
       "      <td>379800.0</td>\n",
       "      <td>151200.0</td>\n",
       "      <td>531000.0</td>\n",
       "      <td>1416.666667</td>\n",
       "      <td>60491.666667</td>\n",
       "      <td>470508</td>\n",
       "      <td>0.701031</td>\n",
       "    </tr>\n",
       "    <tr>\n",
       "      <th>111</th>\n",
       "      <td>136922</td>\n",
       "      <td>PG0480</td>\n",
       "      <td>EGO</td>\n",
       "      <td>Belgorod</td>\n",
       "      <td>Sukhoi Superjet-100</td>\n",
       "      <td>2017-02-11 09:27:00+00:00</td>\n",
       "      <td>2017-02-11 10:17:00+00:00</td>\n",
       "      <td>0.833333</td>\n",
       "      <td>1700</td>\n",
       "      <td>SU9</td>\n",
       "      <td>85</td>\n",
       "      <td>12</td>\n",
       "      <td>97</td>\n",
       "      <td>66.0</td>\n",
       "      <td>10.0</td>\n",
       "      <td>76.0</td>\n",
       "      <td>418800.0</td>\n",
       "      <td>189000.0</td>\n",
       "      <td>607800.0</td>\n",
       "      <td>1416.666667</td>\n",
       "      <td>60491.666667</td>\n",
       "      <td>547308</td>\n",
       "      <td>0.783505</td>\n",
       "    </tr>\n",
       "  </tbody>\n",
       "</table>\n",
       "</div>"
      ],
      "text/plain": [
       "     flight_id flight_no arrival_airport      city                model  \\\n",
       "2       136122    PG0252             SVO    Moscow       Boeing 737-300   \n",
       "12      136178    PG0252             SVO    Moscow       Boeing 737-300   \n",
       "15      136202    PG0252             SVO    Moscow       Boeing 737-300   \n",
       "21      136250    PG0252             SVO    Moscow       Boeing 737-300   \n",
       "38      136360    PG0252             SVO    Moscow       Boeing 737-300   \n",
       "39      136366    PG0252             SVO    Moscow       Boeing 737-300   \n",
       "54      136464    PG0252             SVO    Moscow       Boeing 737-300   \n",
       "68      136642    PG0480             EGO  Belgorod  Sukhoi Superjet-100   \n",
       "93      136807    PG0480             EGO  Belgorod  Sukhoi Superjet-100   \n",
       "111     136922    PG0480             EGO  Belgorod  Sukhoi Superjet-100   \n",
       "\n",
       "             actual_departure            actual_arrival  flight_time  \\\n",
       "2   2017-01-08 10:08:00+00:00 2017-01-08 11:48:00+00:00     1.666667   \n",
       "12  2017-01-29 10:10:00+00:00 2017-01-29 11:49:00+00:00     1.650000   \n",
       "15  2017-01-05 10:07:00+00:00 2017-01-05 11:49:00+00:00     1.700000   \n",
       "21  2017-02-08 10:06:00+00:00 2017-02-08 11:47:00+00:00     1.683333   \n",
       "38  2017-02-05 10:08:00+00:00 2017-02-05 11:48:00+00:00     1.666667   \n",
       "39  2017-01-11 10:08:00+00:00 2017-01-11 11:47:00+00:00     1.650000   \n",
       "54  2017-01-09 10:07:00+00:00 2017-01-09 11:47:00+00:00     1.666667   \n",
       "68  2017-01-30 09:28:00+00:00 2017-01-30 10:17:00+00:00     0.816667   \n",
       "93  2017-02-23 09:28:00+00:00 2017-02-23 10:18:00+00:00     0.833333   \n",
       "111 2017-02-11 09:27:00+00:00 2017-02-11 10:17:00+00:00     0.833333   \n",
       "\n",
       "     fuel_usage aircraft_code  seat_economy  seat_business  seat_total  \\\n",
       "2          2400           733           118             12         130   \n",
       "12         2400           733           118             12         130   \n",
       "15         2400           733           118             12         130   \n",
       "21         2400           733           118             12         130   \n",
       "38         2400           733           118             12         130   \n",
       "39         2400           733           118             12         130   \n",
       "54         2400           733           118             12         130   \n",
       "68         1700           SU9            85             12          97   \n",
       "93         1700           SU9            85             12          97   \n",
       "111        1700           SU9            85             12          97   \n",
       "\n",
       "     purchased_economy  purchased_business  total_purchased  amount_economy  \\\n",
       "2                 87.0                10.0             97.0       1065000.0   \n",
       "12                90.0                 9.0             99.0       1105200.0   \n",
       "15                89.0                11.0            100.0       1093000.0   \n",
       "21                91.0                 8.0             99.0       1115000.0   \n",
       "38                86.0                11.0             97.0       1052800.0   \n",
       "39                92.0                11.0            103.0       1124800.0   \n",
       "54                93.0                 7.0            100.0       1141800.0   \n",
       "68                54.0                10.0             64.0        342000.0   \n",
       "93                60.0                 8.0             68.0        379800.0   \n",
       "111               66.0                10.0             76.0        418800.0   \n",
       "\n",
       "     amount_business  total_amount   fuel_spent     fuel_price   profit  \\\n",
       "2           366000.0     1431000.0  4000.000000  170800.000000  1260200   \n",
       "12          329400.0     1434600.0  3960.000000  169092.000000  1265508   \n",
       "15          402600.0     1495600.0  4080.000000  174216.000000  1321384   \n",
       "21          292800.0     1407800.0  4040.000000  172508.000000  1235292   \n",
       "38          402600.0     1455400.0  4000.000000  170800.000000  1284600   \n",
       "39          402600.0     1527400.0  3960.000000  169092.000000  1358308   \n",
       "54          256200.0     1398000.0  4000.000000  170800.000000  1227200   \n",
       "68          189000.0      531000.0  1388.333333   59281.833333   471718   \n",
       "93          151200.0      531000.0  1416.666667   60491.666667   470508   \n",
       "111         189000.0      607800.0  1416.666667   60491.666667   547308   \n",
       "\n",
       "     seats_percent  \n",
       "2         0.746154  \n",
       "12        0.761538  \n",
       "15        0.769231  \n",
       "21        0.761538  \n",
       "38        0.746154  \n",
       "39        0.792308  \n",
       "54        0.769231  \n",
       "68        0.659794  \n",
       "93        0.701031  \n",
       "111       0.783505  "
      ]
     },
     "execution_count": 197,
     "metadata": {},
     "output_type": "execute_result"
    }
   ],
   "source": [
    "df_unprofit = pd.DataFrame(df[df.seats_percent < 0.80])\n",
    "df_unprofit "
   ]
  },
  {
   "cell_type": "code",
   "execution_count": 215,
   "metadata": {},
   "outputs": [
    {
     "data": {
      "text/plain": [
       "flight_id\n",
       "136366    [1358308]\n",
       "136202    [1321384]\n",
       "136360    [1284600]\n",
       "136178    [1265508]\n",
       "136122    [1260200]\n",
       "136250    [1235292]\n",
       "136464    [1227200]\n",
       "136922     [547308]\n",
       "136642     [471718]\n",
       "136807     [470508]\n",
       "Name: profit, dtype: object"
      ]
     },
     "execution_count": 215,
     "metadata": {},
     "output_type": "execute_result"
    }
   ],
   "source": [
    "df_unprofit.groupby(['flight_id'])[\n",
    "    'profit'].unique().sort_values(ascending=False)"
   ]
  },
  {
   "cell_type": "code",
   "execution_count": 216,
   "metadata": {},
   "outputs": [
    {
     "name": "stdout",
     "output_type": "stream",
     "text": [
      "Средняя прибыль всех рейсов : 1060953\n"
     ]
    }
   ],
   "source": [
    "print(f'Средняя прибыль всех рейсов : {round(df.profit.mean())}')"
   ]
  },
  {
   "cell_type": "markdown",
   "metadata": {},
   "source": [
    "**Понятно, что рейсы: 136922(PG0480, EGO, SU9, Belgorod), 136642 (PG0480, EGO, SU9, Belgorod), 136807 (PG0480, EGO, SU9, Belgorod) это один и тот же рейс (в разные дни улетавший) который по сути своей убыточный, его прибыль ниже почти в два раза в сравнении со средней прибылью всех рейсов, и это без учета прочих расходов, которые \"отнимут все\".\n",
    "Он заслуживает особого внимания. Принять решение о его исключении из календаря полетов можно только после тщательного анализа, понимании причины отсутсвия прибыли, попыток исправить ситуацию и если после всего этого он по-прежнему не приносит прибыли, то тогда да.**"
   ]
  },
  {
   "cell_type": "markdown",
   "metadata": {},
   "source": [
    "### Шаг 2. Опишите, как вы проводили аналитику, какие данные были использованы для оценки доходности рейса и расходов на них\n",
    "\n",
    "Аналитику проводила последовательно по отобранным данным, которые на мой взгляд могли повлиять на прибыльность рейсов. Это достаточно наглядно отображено в ходе работы.  \n",
    "\n",
    "Добавляла данные о стоимости топлива и расходах топлива в зависимости от модели, также использовала планку заполненности самолета в 80% исходя из своих представлений, поскольку какую-либо безапелляционную позицию на этот счет мне найти не удалось.  \n",
    "\n",
    "В данной работе я рассмотрела не все возможные варианты влияния на прибыль, поскольку уже итак изрядно задержала сдачу данного проекта, но совсем не делать анализ и остановиться на запросе в SQL я себе позволить не смогла (потому что анализ всегда очень интересен, а в данной работе он вообще был как десерт, а кто отказывается от десерта?)"
   ]
  },
  {
   "cell_type": "code",
   "execution_count": null,
   "metadata": {},
   "outputs": [],
   "source": []
  }
 ],
 "metadata": {
  "kernelspec": {
   "display_name": "Python 3",
   "language": "python",
   "name": "python3"
  },
  "language_info": {
   "codemirror_mode": {
    "name": "ipython",
    "version": 3
   },
   "file_extension": ".py",
   "mimetype": "text/x-python",
   "name": "python",
   "nbconvert_exporter": "python",
   "pygments_lexer": "ipython3",
   "version": "3.8.5"
  }
 },
 "nbformat": 4,
 "nbformat_minor": 4
}
