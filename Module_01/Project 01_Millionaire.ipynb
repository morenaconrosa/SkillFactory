{
 "cells": [
  {
   "cell_type": "markdown",
   "metadata": {},
   "source": [
    "# Приветствую менторов, оценивающих мою работу!"
   ]
  },
  {
   "cell_type": "code",
   "execution_count": 48,
   "metadata": {},
   "outputs": [],
   "source": [
    "import numpy as np\n",
    "import pandas as pd\n",
    "import seaborn as sns\n",
    "import matplotlib.pyplot as plt\n",
    "from collections import Counter\n",
    "import itertools\n",
    "import datetime as dt"
   ]
  },
  {
   "cell_type": "code",
   "execution_count": 49,
   "metadata": {},
   "outputs": [
    {
     "data": {
      "text/html": [
       "<div>\n",
       "<style scoped>\n",
       "    .dataframe tbody tr th:only-of-type {\n",
       "        vertical-align: middle;\n",
       "    }\n",
       "\n",
       "    .dataframe tbody tr th {\n",
       "        vertical-align: top;\n",
       "    }\n",
       "\n",
       "    .dataframe thead th {\n",
       "        text-align: right;\n",
       "    }\n",
       "</style>\n",
       "<table border=\"1\" class=\"dataframe\">\n",
       "  <thead>\n",
       "    <tr style=\"text-align: right;\">\n",
       "      <th></th>\n",
       "      <th>imdb_id</th>\n",
       "      <th>budget</th>\n",
       "      <th>revenue</th>\n",
       "      <th>original_title</th>\n",
       "      <th>cast</th>\n",
       "      <th>director</th>\n",
       "      <th>tagline</th>\n",
       "      <th>overview</th>\n",
       "      <th>runtime</th>\n",
       "      <th>genres</th>\n",
       "      <th>production_companies</th>\n",
       "      <th>release_date</th>\n",
       "      <th>vote_average</th>\n",
       "      <th>release_year</th>\n",
       "    </tr>\n",
       "  </thead>\n",
       "  <tbody>\n",
       "    <tr>\n",
       "      <th>662</th>\n",
       "      <td>tt0421073</td>\n",
       "      <td>20000000</td>\n",
       "      <td>65569869</td>\n",
       "      <td>Street Kings</td>\n",
       "      <td>Keanu Reeves|Forest Whitaker|Chris Evans|Hugh ...</td>\n",
       "      <td>David Ayer</td>\n",
       "      <td>Their city. Their rules. No prisoners.</td>\n",
       "      <td>Tom Ludlow is a disillusioned L.A. Police Offi...</td>\n",
       "      <td>109</td>\n",
       "      <td>Action|Crime|Drama|Thriller</td>\n",
       "      <td>Fox Searchlight Pictures|Regency Enterprises|D...</td>\n",
       "      <td>4/10/2008</td>\n",
       "      <td>6.2</td>\n",
       "      <td>2008</td>\n",
       "    </tr>\n",
       "    <tr>\n",
       "      <th>506</th>\n",
       "      <td>tt0230011</td>\n",
       "      <td>120000000</td>\n",
       "      <td>186053725</td>\n",
       "      <td>Atlantis: The Lost Empire</td>\n",
       "      <td>Michael J. Fox|Corey Burton|Claudia Christian|...</td>\n",
       "      <td>Gary Trousdale|Kirk Wise</td>\n",
       "      <td>Atlantis is waiting...</td>\n",
       "      <td>The world's most highly qualified crew of arch...</td>\n",
       "      <td>95</td>\n",
       "      <td>Animation|Family|Adventure|Science Fiction</td>\n",
       "      <td>Walt Disney Pictures|Walt Disney Feature Anima...</td>\n",
       "      <td>6/2/2001</td>\n",
       "      <td>6.5</td>\n",
       "      <td>2001</td>\n",
       "    </tr>\n",
       "    <tr>\n",
       "      <th>270</th>\n",
       "      <td>tt1028532</td>\n",
       "      <td>16000000</td>\n",
       "      <td>47801389</td>\n",
       "      <td>Hachi: A Dog's Tale</td>\n",
       "      <td>Richard Gere|Joan Allen|Jason Alexander|Cary-H...</td>\n",
       "      <td>Lasse HallstrÃ¶m</td>\n",
       "      <td>A true story of faith, devotion and undying love.</td>\n",
       "      <td>A drama based on the true story of a college p...</td>\n",
       "      <td>93</td>\n",
       "      <td>Drama|Family</td>\n",
       "      <td>Grand Army Entertainment|Scion Films|Inferno D...</td>\n",
       "      <td>6/13/2009</td>\n",
       "      <td>7.7</td>\n",
       "      <td>2009</td>\n",
       "    </tr>\n",
       "    <tr>\n",
       "      <th>8</th>\n",
       "      <td>tt2293640</td>\n",
       "      <td>74000000</td>\n",
       "      <td>1156730962</td>\n",
       "      <td>Minions</td>\n",
       "      <td>Sandra Bullock|Jon Hamm|Michael Keaton|Allison...</td>\n",
       "      <td>Kyle Balda|Pierre Coffin</td>\n",
       "      <td>Before Gru, they had a history of bad bosses</td>\n",
       "      <td>Minions Stuart, Kevin and Bob are recruited by...</td>\n",
       "      <td>91</td>\n",
       "      <td>Family|Animation|Adventure|Comedy</td>\n",
       "      <td>Universal Pictures|Illumination Entertainment</td>\n",
       "      <td>6/17/2015</td>\n",
       "      <td>6.5</td>\n",
       "      <td>2015</td>\n",
       "    </tr>\n",
       "    <tr>\n",
       "      <th>1609</th>\n",
       "      <td>tt0327554</td>\n",
       "      <td>100000000</td>\n",
       "      <td>82102379</td>\n",
       "      <td>Catwoman</td>\n",
       "      <td>Halle Berry|Benjamin Bratt|Sharon Stone|Lamber...</td>\n",
       "      <td>Pitof</td>\n",
       "      <td>CATch Her In IMAX</td>\n",
       "      <td>Liquidated after discovering a corporate consp...</td>\n",
       "      <td>104</td>\n",
       "      <td>Action|Crime</td>\n",
       "      <td>Village Roadshow Pictures|DiNovi Pictures|Warn...</td>\n",
       "      <td>7/22/2004</td>\n",
       "      <td>4.3</td>\n",
       "      <td>2004</td>\n",
       "    </tr>\n",
       "  </tbody>\n",
       "</table>\n",
       "</div>"
      ],
      "text/plain": [
       "        imdb_id     budget     revenue             original_title  \\\n",
       "662   tt0421073   20000000    65569869               Street Kings   \n",
       "506   tt0230011  120000000   186053725  Atlantis: The Lost Empire   \n",
       "270   tt1028532   16000000    47801389        Hachi: A Dog's Tale   \n",
       "8     tt2293640   74000000  1156730962                    Minions   \n",
       "1609  tt0327554  100000000    82102379                   Catwoman   \n",
       "\n",
       "                                                   cast  \\\n",
       "662   Keanu Reeves|Forest Whitaker|Chris Evans|Hugh ...   \n",
       "506   Michael J. Fox|Corey Burton|Claudia Christian|...   \n",
       "270   Richard Gere|Joan Allen|Jason Alexander|Cary-H...   \n",
       "8     Sandra Bullock|Jon Hamm|Michael Keaton|Allison...   \n",
       "1609  Halle Berry|Benjamin Bratt|Sharon Stone|Lamber...   \n",
       "\n",
       "                      director  \\\n",
       "662                 David Ayer   \n",
       "506   Gary Trousdale|Kirk Wise   \n",
       "270           Lasse HallstrÃ¶m   \n",
       "8     Kyle Balda|Pierre Coffin   \n",
       "1609                     Pitof   \n",
       "\n",
       "                                                tagline  \\\n",
       "662              Their city. Their rules. No prisoners.   \n",
       "506                              Atlantis is waiting...   \n",
       "270   A true story of faith, devotion and undying love.   \n",
       "8          Before Gru, they had a history of bad bosses   \n",
       "1609                                  CATch Her In IMAX   \n",
       "\n",
       "                                               overview  runtime  \\\n",
       "662   Tom Ludlow is a disillusioned L.A. Police Offi...      109   \n",
       "506   The world's most highly qualified crew of arch...       95   \n",
       "270   A drama based on the true story of a college p...       93   \n",
       "8     Minions Stuart, Kevin and Bob are recruited by...       91   \n",
       "1609  Liquidated after discovering a corporate consp...      104   \n",
       "\n",
       "                                          genres  \\\n",
       "662                  Action|Crime|Drama|Thriller   \n",
       "506   Animation|Family|Adventure|Science Fiction   \n",
       "270                                 Drama|Family   \n",
       "8              Family|Animation|Adventure|Comedy   \n",
       "1609                                Action|Crime   \n",
       "\n",
       "                                   production_companies release_date  \\\n",
       "662   Fox Searchlight Pictures|Regency Enterprises|D...    4/10/2008   \n",
       "506   Walt Disney Pictures|Walt Disney Feature Anima...     6/2/2001   \n",
       "270   Grand Army Entertainment|Scion Films|Inferno D...    6/13/2009   \n",
       "8         Universal Pictures|Illumination Entertainment    6/17/2015   \n",
       "1609  Village Roadshow Pictures|DiNovi Pictures|Warn...    7/22/2004   \n",
       "\n",
       "      vote_average  release_year  \n",
       "662            6.2          2008  \n",
       "506            6.5          2001  \n",
       "270            7.7          2009  \n",
       "8              6.5          2015  \n",
       "1609           4.3          2004  "
      ]
     },
     "execution_count": 49,
     "metadata": {},
     "output_type": "execute_result"
    }
   ],
   "source": [
    "movie_data = pd.read_csv('movie_bd_v5.csv')\n",
    "movie_data.sample(5)"
   ]
  },
  {
   "cell_type": "code",
   "execution_count": 3,
   "metadata": {},
   "outputs": [
    {
     "data": {
      "text/html": [
       "<div>\n",
       "<style scoped>\n",
       "    .dataframe tbody tr th:only-of-type {\n",
       "        vertical-align: middle;\n",
       "    }\n",
       "\n",
       "    .dataframe tbody tr th {\n",
       "        vertical-align: top;\n",
       "    }\n",
       "\n",
       "    .dataframe thead th {\n",
       "        text-align: right;\n",
       "    }\n",
       "</style>\n",
       "<table border=\"1\" class=\"dataframe\">\n",
       "  <thead>\n",
       "    <tr style=\"text-align: right;\">\n",
       "      <th></th>\n",
       "      <th>budget</th>\n",
       "      <th>revenue</th>\n",
       "      <th>runtime</th>\n",
       "      <th>vote_average</th>\n",
       "      <th>release_year</th>\n",
       "    </tr>\n",
       "  </thead>\n",
       "  <tbody>\n",
       "    <tr>\n",
       "      <th>count</th>\n",
       "      <td>1.889000e+03</td>\n",
       "      <td>1.889000e+03</td>\n",
       "      <td>1889.000000</td>\n",
       "      <td>1889.000000</td>\n",
       "      <td>1889.000000</td>\n",
       "    </tr>\n",
       "    <tr>\n",
       "      <th>mean</th>\n",
       "      <td>5.431083e+07</td>\n",
       "      <td>1.553653e+08</td>\n",
       "      <td>109.658549</td>\n",
       "      <td>6.140762</td>\n",
       "      <td>2007.860773</td>\n",
       "    </tr>\n",
       "    <tr>\n",
       "      <th>std</th>\n",
       "      <td>4.858721e+07</td>\n",
       "      <td>2.146698e+08</td>\n",
       "      <td>18.017041</td>\n",
       "      <td>0.764763</td>\n",
       "      <td>4.468841</td>\n",
       "    </tr>\n",
       "    <tr>\n",
       "      <th>min</th>\n",
       "      <td>5.000000e+06</td>\n",
       "      <td>2.033165e+06</td>\n",
       "      <td>63.000000</td>\n",
       "      <td>3.300000</td>\n",
       "      <td>2000.000000</td>\n",
       "    </tr>\n",
       "    <tr>\n",
       "      <th>25%</th>\n",
       "      <td>2.000000e+07</td>\n",
       "      <td>3.456058e+07</td>\n",
       "      <td>97.000000</td>\n",
       "      <td>5.600000</td>\n",
       "      <td>2004.000000</td>\n",
       "    </tr>\n",
       "    <tr>\n",
       "      <th>50%</th>\n",
       "      <td>3.800000e+07</td>\n",
       "      <td>8.361541e+07</td>\n",
       "      <td>107.000000</td>\n",
       "      <td>6.100000</td>\n",
       "      <td>2008.000000</td>\n",
       "    </tr>\n",
       "    <tr>\n",
       "      <th>75%</th>\n",
       "      <td>7.200000e+07</td>\n",
       "      <td>1.782626e+08</td>\n",
       "      <td>120.000000</td>\n",
       "      <td>6.600000</td>\n",
       "      <td>2012.000000</td>\n",
       "    </tr>\n",
       "    <tr>\n",
       "      <th>max</th>\n",
       "      <td>3.800000e+08</td>\n",
       "      <td>2.781506e+09</td>\n",
       "      <td>214.000000</td>\n",
       "      <td>8.100000</td>\n",
       "      <td>2015.000000</td>\n",
       "    </tr>\n",
       "  </tbody>\n",
       "</table>\n",
       "</div>"
      ],
      "text/plain": [
       "             budget       revenue      runtime  vote_average  release_year\n",
       "count  1.889000e+03  1.889000e+03  1889.000000   1889.000000   1889.000000\n",
       "mean   5.431083e+07  1.553653e+08   109.658549      6.140762   2007.860773\n",
       "std    4.858721e+07  2.146698e+08    18.017041      0.764763      4.468841\n",
       "min    5.000000e+06  2.033165e+06    63.000000      3.300000   2000.000000\n",
       "25%    2.000000e+07  3.456058e+07    97.000000      5.600000   2004.000000\n",
       "50%    3.800000e+07  8.361541e+07   107.000000      6.100000   2008.000000\n",
       "75%    7.200000e+07  1.782626e+08   120.000000      6.600000   2012.000000\n",
       "max    3.800000e+08  2.781506e+09   214.000000      8.100000   2015.000000"
      ]
     },
     "execution_count": 3,
     "metadata": {},
     "output_type": "execute_result"
    }
   ],
   "source": [
    "movie_data.describe()"
   ]
  },
  {
   "cell_type": "markdown",
   "metadata": {},
   "source": [
    "## Предобработка"
   ]
  },
  {
   "cell_type": "code",
   "execution_count": 50,
   "metadata": {},
   "outputs": [],
   "source": [
    "#создаем словарь для ответов\n",
    "answers = {}\n",
    "#создаем новую колонку \"прибыль\" из разности \"дохода\" и \"бюджета\"\n",
    "movie_data['profit']= movie_data['revenue'] - movie_data['budget']\n",
    "#создаем новую колонку \"убытки\"  из разности \"бюджета\" и \"дохода\" \n",
    "movie_data['unprofit']= movie_data['budget'] - movie_data['revenue']\n",
    "\n",
    "#создадим функцию, которая будет разделять значения строке символом \"|\"\n",
    "def string_func(string):\n",
    "    result = string.str.split('|')\n",
    "    return result\n",
    "\n",
    "#переведем формат колонки в .dt\n",
    "movie_data[\"release_date\"] = pd.to_datetime(movie_data[\"release_date\"]) \n",
    "\n",
    "#создадим колонку \"месяц\" и запишем в нее только месяца из даты релиза всего df\n",
    "movie_data[\"month\"] = movie_data[\"release_date\"].dt.month "
   ]
  },
  {
   "cell_type": "markdown",
   "metadata": {},
   "source": [
    "## Вопрос 1. У какого фильма из списка самый большой бюджет?"
   ]
  },
  {
   "cell_type": "code",
   "execution_count": 5,
   "metadata": {},
   "outputs": [],
   "source": [
    "answers['1'] = '5. Pirates of the Caribbean: On Stranger Tides'"
   ]
  },
  {
   "cell_type": "code",
   "execution_count": 6,
   "metadata": {
    "scrolled": true
   },
   "outputs": [
    {
     "data": {
      "text/plain": [
       "original_title\n",
       "Pirates of the Caribbean: On Stranger Tides    380000000\n",
       "Pirates of the Caribbean: At World's End       300000000\n",
       "Avengers: Age of Ultron                        280000000\n",
       "Name: budget, dtype: int64"
      ]
     },
     "metadata": {},
     "output_type": "display_data"
    }
   ],
   "source": [
    "#группируем фильмы по максимальному бюджету\n",
    "movie_group = movie_data.groupby(['original_title'])['budget'].max().sort_values(ascending=False)\n",
    "display(movie_group.head(3))"
   ]
  },
  {
   "cell_type": "markdown",
   "metadata": {},
   "source": [
    "## Вопрос 2. Какой из фильмов самый длительный (в минутах)?"
   ]
  },
  {
   "cell_type": "code",
   "execution_count": 7,
   "metadata": {},
   "outputs": [],
   "source": [
    "answers['2'] = '2. Gods and Generals'"
   ]
  },
  {
   "cell_type": "code",
   "execution_count": 8,
   "metadata": {},
   "outputs": [
    {
     "data": {
      "text/html": [
       "<div>\n",
       "<style scoped>\n",
       "    .dataframe tbody tr th:only-of-type {\n",
       "        vertical-align: middle;\n",
       "    }\n",
       "\n",
       "    .dataframe tbody tr th {\n",
       "        vertical-align: top;\n",
       "    }\n",
       "\n",
       "    .dataframe thead th {\n",
       "        text-align: right;\n",
       "    }\n",
       "</style>\n",
       "<table border=\"1\" class=\"dataframe\">\n",
       "  <thead>\n",
       "    <tr style=\"text-align: right;\">\n",
       "      <th></th>\n",
       "      <th>runtime</th>\n",
       "      <th>imdb_id</th>\n",
       "    </tr>\n",
       "    <tr>\n",
       "      <th>original_title</th>\n",
       "      <th></th>\n",
       "      <th></th>\n",
       "    </tr>\n",
       "  </thead>\n",
       "  <tbody>\n",
       "    <tr>\n",
       "      <th>Gods and Generals</th>\n",
       "      <td>214</td>\n",
       "      <td>tt0279111</td>\n",
       "    </tr>\n",
       "    <tr>\n",
       "      <th>The Lord of the Rings: The Return of the King</th>\n",
       "      <td>201</td>\n",
       "      <td>tt0167260</td>\n",
       "    </tr>\n",
       "    <tr>\n",
       "      <th>Grindhouse</th>\n",
       "      <td>191</td>\n",
       "      <td>tt0462322</td>\n",
       "    </tr>\n",
       "  </tbody>\n",
       "</table>\n",
       "</div>"
      ],
      "text/plain": [
       "                                               runtime    imdb_id\n",
       "original_title                                                   \n",
       "Gods and Generals                                  214  tt0279111\n",
       "The Lord of the Rings: The Return of the King      201  tt0167260\n",
       "Grindhouse                                         191  tt0462322"
      ]
     },
     "execution_count": 8,
     "metadata": {},
     "output_type": "execute_result"
    }
   ],
   "source": [
    "#группируем фильмы по максимальной длительности\n",
    "movie_data.groupby(['original_title'])[\n",
    "    ['runtime','imdb_id']].max().sort_values(['runtime'],ascending=False).head(3)"
   ]
  },
  {
   "cell_type": "markdown",
   "metadata": {},
   "source": [
    "## Вопрос 3. Какой из фильмов самый короткий (в минутах)?"
   ]
  },
  {
   "cell_type": "code",
   "execution_count": 9,
   "metadata": {},
   "outputs": [],
   "source": [
    "answers['3'] = '3. Winnie the Pooh'"
   ]
  },
  {
   "cell_type": "code",
   "execution_count": 10,
   "metadata": {},
   "outputs": [
    {
     "data": {
      "text/html": [
       "<div>\n",
       "<style scoped>\n",
       "    .dataframe tbody tr th:only-of-type {\n",
       "        vertical-align: middle;\n",
       "    }\n",
       "\n",
       "    .dataframe tbody tr th {\n",
       "        vertical-align: top;\n",
       "    }\n",
       "\n",
       "    .dataframe thead th {\n",
       "        text-align: right;\n",
       "    }\n",
       "</style>\n",
       "<table border=\"1\" class=\"dataframe\">\n",
       "  <thead>\n",
       "    <tr style=\"text-align: right;\">\n",
       "      <th></th>\n",
       "      <th>runtime</th>\n",
       "      <th>imdb_id</th>\n",
       "    </tr>\n",
       "    <tr>\n",
       "      <th>original_title</th>\n",
       "      <th></th>\n",
       "      <th></th>\n",
       "    </tr>\n",
       "  </thead>\n",
       "  <tbody>\n",
       "    <tr>\n",
       "      <th>Winnie the Pooh</th>\n",
       "      <td>63</td>\n",
       "      <td>tt1449283</td>\n",
       "    </tr>\n",
       "    <tr>\n",
       "      <th>Return to Never Land</th>\n",
       "      <td>72</td>\n",
       "      <td>tt0280030</td>\n",
       "    </tr>\n",
       "    <tr>\n",
       "      <th>The Jungle Book 2</th>\n",
       "      <td>72</td>\n",
       "      <td>tt0283426</td>\n",
       "    </tr>\n",
       "  </tbody>\n",
       "</table>\n",
       "</div>"
      ],
      "text/plain": [
       "                      runtime    imdb_id\n",
       "original_title                          \n",
       "Winnie the Pooh            63  tt1449283\n",
       "Return to Never Land       72  tt0280030\n",
       "The Jungle Book 2          72  tt0283426"
      ]
     },
     "execution_count": 10,
     "metadata": {},
     "output_type": "execute_result"
    }
   ],
   "source": [
    "#группируем фильмы по минимальной длительности\n",
    "movie_data.groupby(['original_title'])[\n",
    "    ['runtime','imdb_id']].max().sort_values(['runtime'],ascending=True).head(3)"
   ]
  },
  {
   "cell_type": "markdown",
   "metadata": {},
   "source": [
    "## Вопрос 4. Какова средняя длительность фильмов?"
   ]
  },
  {
   "cell_type": "code",
   "execution_count": 11,
   "metadata": {},
   "outputs": [],
   "source": [
    "answers['4'] = '2. 110'"
   ]
  },
  {
   "cell_type": "code",
   "execution_count": 12,
   "metadata": {},
   "outputs": [
    {
     "data": {
      "text/plain": [
       "110"
      ]
     },
     "execution_count": 12,
     "metadata": {},
     "output_type": "execute_result"
    }
   ],
   "source": [
    "#считаем среднее значение, округлив до ближайшего ЦЕЛОГО числа\n",
    "int(round(movie_data['runtime'].mean())) "
   ]
  },
  {
   "cell_type": "markdown",
   "metadata": {},
   "source": [
    "## Вопрос 5. Каково медианное значение длительности фильмов?"
   ]
  },
  {
   "cell_type": "code",
   "execution_count": 13,
   "metadata": {},
   "outputs": [],
   "source": [
    "answers['5'] = '1. 107'"
   ]
  },
  {
   "cell_type": "code",
   "execution_count": 14,
   "metadata": {},
   "outputs": [
    {
     "data": {
      "text/plain": [
       "107.0"
      ]
     },
     "execution_count": 14,
     "metadata": {},
     "output_type": "execute_result"
    }
   ],
   "source": [
    "movie_data['runtime'].median() #считаем медианное значение"
   ]
  },
  {
   "cell_type": "markdown",
   "metadata": {},
   "source": [
    "## Вопрос 6. Какой фильм самый прибыльный?"
   ]
  },
  {
   "cell_type": "code",
   "execution_count": 15,
   "metadata": {},
   "outputs": [],
   "source": [
    "answers['6'] = '5. Avatar'"
   ]
  },
  {
   "cell_type": "code",
   "execution_count": 16,
   "metadata": {},
   "outputs": [
    {
     "data": {
      "text/html": [
       "<div>\n",
       "<style scoped>\n",
       "    .dataframe tbody tr th:only-of-type {\n",
       "        vertical-align: middle;\n",
       "    }\n",
       "\n",
       "    .dataframe tbody tr th {\n",
       "        vertical-align: top;\n",
       "    }\n",
       "\n",
       "    .dataframe thead th {\n",
       "        text-align: right;\n",
       "    }\n",
       "</style>\n",
       "<table border=\"1\" class=\"dataframe\">\n",
       "  <thead>\n",
       "    <tr style=\"text-align: right;\">\n",
       "      <th></th>\n",
       "      <th>profit</th>\n",
       "    </tr>\n",
       "    <tr>\n",
       "      <th>original_title</th>\n",
       "      <th></th>\n",
       "    </tr>\n",
       "  </thead>\n",
       "  <tbody>\n",
       "    <tr>\n",
       "      <th>Avatar</th>\n",
       "      <td>2544505847</td>\n",
       "    </tr>\n",
       "    <tr>\n",
       "      <th>Star Wars: The Force Awakens</th>\n",
       "      <td>1868178225</td>\n",
       "    </tr>\n",
       "    <tr>\n",
       "      <th>Jurassic World</th>\n",
       "      <td>1363528810</td>\n",
       "    </tr>\n",
       "  </tbody>\n",
       "</table>\n",
       "</div>"
      ],
      "text/plain": [
       "                                  profit\n",
       "original_title                          \n",
       "Avatar                        2544505847\n",
       "Star Wars: The Force Awakens  1868178225\n",
       "Jurassic World                1363528810"
      ]
     },
     "execution_count": 16,
     "metadata": {},
     "output_type": "execute_result"
    }
   ],
   "source": [
    "#группируем фильмы по максимальной \"прибыли\"\n",
    "movie_data.groupby(['original_title'])[\n",
    "    ['profit']].max().sort_values(['profit'],ascending=False).head(3) \n"
   ]
  },
  {
   "cell_type": "markdown",
   "metadata": {},
   "source": [
    "## Вопрос 7. Какой фильм самый убыточный?"
   ]
  },
  {
   "cell_type": "code",
   "execution_count": 17,
   "metadata": {},
   "outputs": [],
   "source": [
    "answers['7'] = '5. The Lone Ranger'"
   ]
  },
  {
   "cell_type": "code",
   "execution_count": 18,
   "metadata": {},
   "outputs": [
    {
     "data": {
      "text/html": [
       "<div>\n",
       "<style scoped>\n",
       "    .dataframe tbody tr th:only-of-type {\n",
       "        vertical-align: middle;\n",
       "    }\n",
       "\n",
       "    .dataframe tbody tr th {\n",
       "        vertical-align: top;\n",
       "    }\n",
       "\n",
       "    .dataframe thead th {\n",
       "        text-align: right;\n",
       "    }\n",
       "</style>\n",
       "<table border=\"1\" class=\"dataframe\">\n",
       "  <thead>\n",
       "    <tr style=\"text-align: right;\">\n",
       "      <th></th>\n",
       "      <th>unprofit</th>\n",
       "    </tr>\n",
       "    <tr>\n",
       "      <th>original_title</th>\n",
       "      <th></th>\n",
       "    </tr>\n",
       "  </thead>\n",
       "  <tbody>\n",
       "    <tr>\n",
       "      <th>The Lone Ranger</th>\n",
       "      <td>165710090</td>\n",
       "    </tr>\n",
       "    <tr>\n",
       "      <th>The Alamo</th>\n",
       "      <td>119180039</td>\n",
       "    </tr>\n",
       "    <tr>\n",
       "      <th>Mars Needs Moms</th>\n",
       "      <td>111007242</td>\n",
       "    </tr>\n",
       "  </tbody>\n",
       "</table>\n",
       "</div>"
      ],
      "text/plain": [
       "                  unprofit\n",
       "original_title            \n",
       "The Lone Ranger  165710090\n",
       "The Alamo        119180039\n",
       "Mars Needs Moms  111007242"
      ]
     },
     "execution_count": 18,
     "metadata": {},
     "output_type": "execute_result"
    }
   ],
   "source": [
    "#группируем фильмы по максимальному уровню \"убытка\"\n",
    "movie_data.groupby(['original_title'])[['unprofit']].max().sort_values(\n",
    "['unprofit'],ascending=False).head(3)\n"
   ]
  },
  {
   "cell_type": "markdown",
   "metadata": {},
   "source": [
    "## Вопрос 8. У скольких фильмов из датасета объем сборов оказался выше бюджета?"
   ]
  },
  {
   "cell_type": "code",
   "execution_count": 19,
   "metadata": {},
   "outputs": [],
   "source": [
    "answers['8'] = '1. 1478'"
   ]
  },
  {
   "cell_type": "code",
   "execution_count": 20,
   "metadata": {},
   "outputs": [
    {
     "data": {
      "text/plain": [
       "Int64Index([   0,    1,    2,    3,    4,    5,    6,    7,    8,    9,\n",
       "            ...\n",
       "            1866, 1867, 1868, 1869, 1870, 1871, 1875, 1877, 1883, 1884],\n",
       "           dtype='int64', length=1478)"
      ]
     },
     "execution_count": 20,
     "metadata": {},
     "output_type": "execute_result"
    }
   ],
   "source": [
    "#выясняем разницу двух колонок и на основе количсетва строк получаем ответ\n",
    "big_profit = movie_data.query('revenue > budget') \n",
    "big_profit.index"
   ]
  },
  {
   "cell_type": "markdown",
   "metadata": {},
   "source": [
    "## Вопрос 9. Какой фильм оказался самым кассовым в 2008 году?"
   ]
  },
  {
   "cell_type": "code",
   "execution_count": 21,
   "metadata": {},
   "outputs": [],
   "source": [
    "answers['9'] = '4. The Dark Knight'"
   ]
  },
  {
   "cell_type": "code",
   "execution_count": 22,
   "metadata": {},
   "outputs": [
    {
     "data": {
      "text/plain": [
       "array(['The Dark Knight'], dtype=object)"
      ]
     },
     "execution_count": 22,
     "metadata": {},
     "output_type": "execute_result"
    }
   ],
   "source": [
    "#запишем в перемнную фильмы с релизом от 2008г\n",
    "release_max = movie_data[(movie_data['release_year'] == 2008)].revenue.max() \n",
    "\n",
    "#используя два ключевых условия находим название фильма\n",
    "movie_data[(movie_data.revenue == release_max) & \n",
    "           (movie_data['release_year'] == 2008)].original_title.unique() "
   ]
  },
  {
   "cell_type": "markdown",
   "metadata": {},
   "source": [
    "## Вопрос 10. Самый убыточный фильм за период с 2012 по 2014 годы (включительно)?"
   ]
  },
  {
   "cell_type": "code",
   "execution_count": 23,
   "metadata": {},
   "outputs": [],
   "source": [
    "answers['10'] = '5. The Lone Ranger'"
   ]
  },
  {
   "cell_type": "code",
   "execution_count": 24,
   "metadata": {},
   "outputs": [
    {
     "data": {
      "text/html": [
       "<div>\n",
       "<style scoped>\n",
       "    .dataframe tbody tr th:only-of-type {\n",
       "        vertical-align: middle;\n",
       "    }\n",
       "\n",
       "    .dataframe tbody tr th {\n",
       "        vertical-align: top;\n",
       "    }\n",
       "\n",
       "    .dataframe thead th {\n",
       "        text-align: right;\n",
       "    }\n",
       "</style>\n",
       "<table border=\"1\" class=\"dataframe\">\n",
       "  <thead>\n",
       "    <tr style=\"text-align: right;\">\n",
       "      <th></th>\n",
       "      <th>unprofit</th>\n",
       "      <th>release_year</th>\n",
       "    </tr>\n",
       "    <tr>\n",
       "      <th>original_title</th>\n",
       "      <th></th>\n",
       "      <th></th>\n",
       "    </tr>\n",
       "  </thead>\n",
       "  <tbody>\n",
       "    <tr>\n",
       "      <th>The Lone Ranger</th>\n",
       "      <td>165710090</td>\n",
       "      <td>2013</td>\n",
       "    </tr>\n",
       "    <tr>\n",
       "      <th>The Alamo</th>\n",
       "      <td>119180039</td>\n",
       "      <td>2004</td>\n",
       "    </tr>\n",
       "    <tr>\n",
       "      <th>Mars Needs Moms</th>\n",
       "      <td>111007242</td>\n",
       "      <td>2011</td>\n",
       "    </tr>\n",
       "    <tr>\n",
       "      <th>The Adventures of Pluto Nash</th>\n",
       "      <td>92896027</td>\n",
       "      <td>2002</td>\n",
       "    </tr>\n",
       "    <tr>\n",
       "      <th>Flushed Away</th>\n",
       "      <td>84540684</td>\n",
       "      <td>2006</td>\n",
       "    </tr>\n",
       "  </tbody>\n",
       "</table>\n",
       "</div>"
      ],
      "text/plain": [
       "                               unprofit  release_year\n",
       "original_title                                       \n",
       "The Lone Ranger               165710090          2013\n",
       "The Alamo                     119180039          2004\n",
       "Mars Needs Moms               111007242          2011\n",
       "The Adventures of Pluto Nash   92896027          2002\n",
       "Flushed Away                   84540684          2006"
      ]
     },
     "execution_count": 24,
     "metadata": {},
     "output_type": "execute_result"
    }
   ],
   "source": [
    "#группируем фильмы по макс убытку и поздней дате релиза, сортируем по убыванию\n",
    "movie_data.groupby(['original_title'])[\n",
    "    ['unprofit','release_year']].max().sort_values(\n",
    "    ['unprofit', 'release_year'],ascending=False).head(5) "
   ]
  },
  {
   "cell_type": "markdown",
   "metadata": {},
   "source": [
    "## Вопрос 11. Какого жанра фильмов больше всего?"
   ]
  },
  {
   "cell_type": "code",
   "execution_count": 25,
   "metadata": {},
   "outputs": [],
   "source": [
    "answers['11'] = '3. Drama'"
   ]
  },
  {
   "cell_type": "code",
   "execution_count": 26,
   "metadata": {},
   "outputs": [
    {
     "data": {
      "text/plain": [
       "[('Drama', 782)]"
      ]
     },
     "execution_count": 26,
     "metadata": {},
     "output_type": "execute_result"
    }
   ],
   "source": [
    "movie_data['genre_list'] = string_func(movie_data['genres']) #применим разделяющую функцию из предобработки\n",
    "genre_list = movie_data['genre_list'].sum() #посчитаем количество жанров\n",
    "#посчитаем количество появления жанра в строке и выведем самое частое\n",
    "Counter(movie_data.genres.str.split('|').sum()).most_common(1)  \n",
    "\n"
   ]
  },
  {
   "cell_type": "markdown",
   "metadata": {},
   "source": [
    "## Вопрос 12. Фильмы какого жанра чаще всего становятся прибыльными?\n"
   ]
  },
  {
   "cell_type": "code",
   "execution_count": 27,
   "metadata": {},
   "outputs": [],
   "source": [
    "answers['11'] = '1. Drama'"
   ]
  },
  {
   "cell_type": "code",
   "execution_count": 28,
   "metadata": {},
   "outputs": [
    {
     "data": {
      "text/plain": [
       "Drama       560\n",
       "Comedy      551\n",
       "Thriller    446\n",
       "dtype: int64"
      ]
     },
     "execution_count": 28,
     "metadata": {},
     "output_type": "execute_result"
    }
   ],
   "source": [
    "profit_genres = movie_data[movie_data.profit > 0] #запишем в перемнную данные с доходом (т.е выше ноля)\n",
    "movie_group = profit_genres['genres'].str.cat(sep='|') #превратим все в одну строку\n",
    "movie_group = pd.Series(movie_group.split('|')) #запишем в список, разделяя данные в строке \"|\"\n",
    "movie_group.value_counts().head(3) #считаем количество"
   ]
  },
  {
   "cell_type": "markdown",
   "metadata": {},
   "source": [
    "## Вопрос 13. У какого режиссёра самые большие суммарные кассовые сборы?"
   ]
  },
  {
   "cell_type": "code",
   "execution_count": 29,
   "metadata": {},
   "outputs": [],
   "source": [
    "answers['13'] = '5. Peter Jackson'"
   ]
  },
  {
   "cell_type": "code",
   "execution_count": 30,
   "metadata": {},
   "outputs": [
    {
     "data": {
      "text/html": [
       "<div>\n",
       "<style scoped>\n",
       "    .dataframe tbody tr th:only-of-type {\n",
       "        vertical-align: middle;\n",
       "    }\n",
       "\n",
       "    .dataframe tbody tr th {\n",
       "        vertical-align: top;\n",
       "    }\n",
       "\n",
       "    .dataframe thead th {\n",
       "        text-align: right;\n",
       "    }\n",
       "</style>\n",
       "<table border=\"1\" class=\"dataframe\">\n",
       "  <thead>\n",
       "    <tr style=\"text-align: right;\">\n",
       "      <th></th>\n",
       "      <th>revenue</th>\n",
       "    </tr>\n",
       "    <tr>\n",
       "      <th>director</th>\n",
       "      <th></th>\n",
       "    </tr>\n",
       "  </thead>\n",
       "  <tbody>\n",
       "    <tr>\n",
       "      <th>Peter Jackson</th>\n",
       "      <td>6490593685</td>\n",
       "    </tr>\n",
       "    <tr>\n",
       "      <th>Christopher Nolan</th>\n",
       "      <td>4167548502</td>\n",
       "    </tr>\n",
       "    <tr>\n",
       "      <th>David Yates</th>\n",
       "      <td>4154295625</td>\n",
       "    </tr>\n",
       "  </tbody>\n",
       "</table>\n",
       "</div>"
      ],
      "text/plain": [
       "                      revenue\n",
       "director                     \n",
       "Peter Jackson      6490593685\n",
       "Christopher Nolan  4167548502\n",
       "David Yates        4154295625"
      ]
     },
     "execution_count": 30,
     "metadata": {},
     "output_type": "execute_result"
    }
   ],
   "source": [
    "#группируем режиссеров по суммарным кассовым сборам и соритруем по убыванию\n",
    "movie_data.groupby(['director'])[['revenue']].sum().sort_values( \n",
    "    ['revenue'],ascending=False).head(3)\n"
   ]
  },
  {
   "cell_type": "markdown",
   "metadata": {},
   "source": [
    "## Вопрос 14. Какой режиссер снял больше всего фильмов в стиле Action?"
   ]
  },
  {
   "cell_type": "code",
   "execution_count": 31,
   "metadata": {},
   "outputs": [],
   "source": [
    "answers['14'] = '3. Robert Rodriguez'"
   ]
  },
  {
   "cell_type": "code",
   "execution_count": 32,
   "metadata": {},
   "outputs": [
    {
     "data": {
      "text/plain": [
       "Robert Rodriguez      9\n",
       "Michael Bay           7\n",
       "Paul W.S. Anderson    7\n",
       "Name: director, dtype: int64"
      ]
     },
     "execution_count": 32,
     "metadata": {},
     "output_type": "execute_result"
    }
   ],
   "source": [
    "#трансформируем строку в массив и преобразуем каждый элемент списка в строку\n",
    "movie_data = movie_data.assign(director=movie_data.director.str.split('|')).explode('director') \n",
    "#ищем в DF строки, содержащие жанр Action\n",
    "action_movies = movie_data[movie_data.genres.str.contains('Action', na=False)]\n",
    "action_movies.director.value_counts().head(3) #считаем количество"
   ]
  },
  {
   "cell_type": "markdown",
   "metadata": {},
   "source": [
    "## Вопрос 15. Фильмы с каким актером принесли самые высокие кассовые сборы в 2012 году?"
   ]
  },
  {
   "cell_type": "code",
   "execution_count": 33,
   "metadata": {},
   "outputs": [],
   "source": [
    "answers['15'] = '3. Chris Hemsworth'"
   ]
  },
  {
   "cell_type": "code",
   "execution_count": 34,
   "metadata": {},
   "outputs": [
    {
     "data": {
      "text/plain": [
       "Channing Tatum         5\n",
       "Sacha Baron Cohen      5\n",
       "Anna Kendrick          5\n",
       "Bruce Willis           5\n",
       "Brendan Gleeson        4\n",
       "Guy Pearce             4\n",
       "Emma Thompson          4\n",
       "Seann William Scott    4\n",
       "Billy Connolly         4\n",
       "Kate Beckinsale        4\n",
       "Elizabeth Banks        4\n",
       "Frances McDormand      4\n",
       "dtype: int64"
      ]
     },
     "metadata": {},
     "output_type": "display_data"
    },
    {
     "data": {
      "text/html": [
       "<div>\n",
       "<style scoped>\n",
       "    .dataframe tbody tr th:only-of-type {\n",
       "        vertical-align: middle;\n",
       "    }\n",
       "\n",
       "    .dataframe tbody tr th {\n",
       "        vertical-align: top;\n",
       "    }\n",
       "\n",
       "    .dataframe thead th {\n",
       "        text-align: right;\n",
       "    }\n",
       "</style>\n",
       "<table border=\"1\" class=\"dataframe\">\n",
       "  <thead>\n",
       "    <tr style=\"text-align: right;\">\n",
       "      <th></th>\n",
       "      <th>revenue</th>\n",
       "    </tr>\n",
       "    <tr>\n",
       "      <th>cast</th>\n",
       "      <th></th>\n",
       "    </tr>\n",
       "  </thead>\n",
       "  <tbody>\n",
       "    <tr>\n",
       "      <th>Robert Downey Jr.|Chris Evans|Mark Ruffalo|Chris Hemsworth|Scarlett Johansson</th>\n",
       "      <td>1519557910</td>\n",
       "    </tr>\n",
       "    <tr>\n",
       "      <th>Daniel Craig|Judi Dench|Javier Bardem|Ralph Fiennes|Naomie Harris</th>\n",
       "      <td>1108561013</td>\n",
       "    </tr>\n",
       "    <tr>\n",
       "      <th>Christian Bale|Michael Caine|Gary Oldman|Anne Hathaway|Tom Hardy</th>\n",
       "      <td>1081041287</td>\n",
       "    </tr>\n",
       "    <tr>\n",
       "      <th>Ian McKellen|Martin Freeman|Richard Armitage|Andy Serkis|Cate Blanchett</th>\n",
       "      <td>1017003568</td>\n",
       "    </tr>\n",
       "    <tr>\n",
       "      <th>John Leguizamo|Ray Romano|Chris Wedge|Denis Leary|Seann William Scott</th>\n",
       "      <td>877244782</td>\n",
       "    </tr>\n",
       "    <tr>\n",
       "      <th>Kristen Stewart|Robert Pattinson|Taylor Lautner|Peter Facinelli|Elizabeth Reaser</th>\n",
       "      <td>829000000</td>\n",
       "    </tr>\n",
       "    <tr>\n",
       "      <th>Andrew Garfield|Emma Stone|Rhys Ifans|Denis Leary|Martin Sheen</th>\n",
       "      <td>752215857</td>\n",
       "    </tr>\n",
       "    <tr>\n",
       "      <th>Ben Stiller|Sacha Baron Cohen|David Schwimmer|Frances McDormand|Chris Rock</th>\n",
       "      <td>746921274</td>\n",
       "    </tr>\n",
       "    <tr>\n",
       "      <th>Jennifer Lawrence|Josh Hutcherson|Liam Hemsworth|Woody Harrelson|Elizabeth Banks</th>\n",
       "      <td>691210692</td>\n",
       "    </tr>\n",
       "    <tr>\n",
       "      <th>Will Smith|Tommy Lee Jones|Josh Brolin|Michael Stuhlbarg|Emma Thompson</th>\n",
       "      <td>624026776</td>\n",
       "    </tr>\n",
       "    <tr>\n",
       "      <th>Suraj Sharma|Irrfan Khan|Ayush Tandon|Gautam Belur|Adil Hussain</th>\n",
       "      <td>609016565</td>\n",
       "    </tr>\n",
       "    <tr>\n",
       "      <th>Mark Wahlberg|Mila Kunis|Seth MacFarlane|Joel McHale|Giovanni Ribisi</th>\n",
       "      <td>549368315</td>\n",
       "    </tr>\n",
       "    <tr>\n",
       "      <th>Kelly Macdonald|Julie Walters|Billy Connolly|Emma Thompson|Kevin McKidd</th>\n",
       "      <td>538983207</td>\n",
       "    </tr>\n",
       "    <tr>\n",
       "      <th>John C. Reilly|Sarah Silverman|Jane Lynch|Jack McBrayer|Jamie Elman</th>\n",
       "      <td>471222889</td>\n",
       "    </tr>\n",
       "    <tr>\n",
       "      <th>Hugh Jackman|Russell Crowe|Anne Hathaway|Amanda Seyfried|Sacha Baron Cohen</th>\n",
       "      <td>441809770</td>\n",
       "    </tr>\n",
       "  </tbody>\n",
       "</table>\n",
       "</div>"
      ],
      "text/plain": [
       "                                                       revenue\n",
       "cast                                                          \n",
       "Robert Downey Jr.|Chris Evans|Mark Ruffalo|Chri...  1519557910\n",
       "Daniel Craig|Judi Dench|Javier Bardem|Ralph Fie...  1108561013\n",
       "Christian Bale|Michael Caine|Gary Oldman|Anne H...  1081041287\n",
       "Ian McKellen|Martin Freeman|Richard Armitage|An...  1017003568\n",
       "John Leguizamo|Ray Romano|Chris Wedge|Denis Lea...   877244782\n",
       "Kristen Stewart|Robert Pattinson|Taylor Lautner...   829000000\n",
       "Andrew Garfield|Emma Stone|Rhys Ifans|Denis Lea...   752215857\n",
       "Ben Stiller|Sacha Baron Cohen|David Schwimmer|F...   746921274\n",
       "Jennifer Lawrence|Josh Hutcherson|Liam Hemswort...   691210692\n",
       "Will Smith|Tommy Lee Jones|Josh Brolin|Michael ...   624026776\n",
       "Suraj Sharma|Irrfan Khan|Ayush Tandon|Gautam Be...   609016565\n",
       "Mark Wahlberg|Mila Kunis|Seth MacFarlane|Joel M...   549368315\n",
       "Kelly Macdonald|Julie Walters|Billy Connolly|Em...   538983207\n",
       "John C. Reilly|Sarah Silverman|Jane Lynch|Jack ...   471222889\n",
       "Hugh Jackman|Russell Crowe|Anne Hathaway|Amanda...   441809770"
      ]
     },
     "execution_count": 34,
     "metadata": {},
     "output_type": "execute_result"
    }
   ],
   "source": [
    "actor_2012 = movie_data[movie_data.release_year ==2012].copy() #Закладываем в перемунную фильмы 2012г.\n",
    "actors = actor_2012['cast'].str.cat(sep='|') #превращаем список актеров, игравших в 2012г в одну строку\n",
    "actors = pd.Series(actors.split('|')) #создаем список, разделив строку знаком '|'\n",
    "actors = actors.value_counts(ascending=False) #считаем количество актеров  в строке\n",
    "display(actors.head(12)) #выводим результат\n",
    "actor_2012.groupby(['cast'])[['revenue']].max().sort_values(\n",
    "    ['revenue'],ascending=False).head(15) #группируем актеров 2012г по макс кассовым сборам\n"
   ]
  },
  {
   "cell_type": "markdown",
   "metadata": {},
   "source": [
    "## Вопрос 16. Какой актер снялся в большем количестве высокобюджетных фильмов? Примечание: в фильмах, где бюджет выше среднего по данной выборке."
   ]
  },
  {
   "cell_type": "code",
   "execution_count": 35,
   "metadata": {},
   "outputs": [],
   "source": [
    "answers['16'] = '3. Matt Damon'"
   ]
  },
  {
   "cell_type": "code",
   "execution_count": 36,
   "metadata": {},
   "outputs": [
    {
     "data": {
      "text/plain": [
       "'Eddie Murphy'"
      ]
     },
     "execution_count": 36,
     "metadata": {},
     "output_type": "execute_result"
    }
   ],
   "source": [
    "#скопируем данные df, обусловив, что колонка \"бюджет\" будет иметь данные выше средних\n",
    "movie_data_2 = movie_data[movie_data.budget > movie_data.budget.mean()].copy()\n",
    "#создадим серию, в которой вернется наиболее распространенный элемент \n",
    "pd.Series(movie_data_2.cast.str.cat(sep='|').split('|')).mode()[0]"
   ]
  },
  {
   "cell_type": "markdown",
   "metadata": {},
   "source": [
    "## Вопрос 17. В фильмах какого жанра больше всего снимался Nicolas Cage?"
   ]
  },
  {
   "cell_type": "code",
   "execution_count": 37,
   "metadata": {},
   "outputs": [],
   "source": [
    "answers['17'] = '2. Action'"
   ]
  },
  {
   "cell_type": "code",
   "execution_count": 38,
   "metadata": {
    "scrolled": false
   },
   "outputs": [
    {
     "data": {
      "text/plain": [
       "Action      19\n",
       "Thriller    17\n",
       "Drama       12\n",
       "Crime       11\n",
       "Fantasy     10\n",
       "dtype: int64"
      ]
     },
     "metadata": {},
     "output_type": "display_data"
    }
   ],
   "source": [
    "cage_movies = movie_data[movie_data.cast.str.contains(\"Nicolas Cage\")] #выделим фильмы с участием Кейджа\n",
    "cage_genres = cage_movies['genres'].str.cat(sep='|') #превращаем все в одну строку\n",
    "cage_genres = pd.Series(cage_genres.split('|')) #создаем список, разделив строку знаком '|'\n",
    "cage_genres = cage_genres.value_counts(ascending=False).head() # считаем количество элементов строке\n",
    "display(cage_genres)"
   ]
  },
  {
   "cell_type": "markdown",
   "metadata": {},
   "source": [
    "## Вопрос 18. Самый убыточный фильм от Paramount Pictures?"
   ]
  },
  {
   "cell_type": "code",
   "execution_count": 39,
   "metadata": {},
   "outputs": [],
   "source": [
    "answers['18'] = '1. K-19: The Widowmaker'"
   ]
  },
  {
   "cell_type": "code",
   "execution_count": 51,
   "metadata": {},
   "outputs": [
    {
     "data": {
      "text/html": [
       "<div>\n",
       "<style scoped>\n",
       "    .dataframe tbody tr th:only-of-type {\n",
       "        vertical-align: middle;\n",
       "    }\n",
       "\n",
       "    .dataframe tbody tr th {\n",
       "        vertical-align: top;\n",
       "    }\n",
       "\n",
       "    .dataframe thead th {\n",
       "        text-align: right;\n",
       "    }\n",
       "</style>\n",
       "<table border=\"1\" class=\"dataframe\">\n",
       "  <thead>\n",
       "    <tr style=\"text-align: right;\">\n",
       "      <th></th>\n",
       "      <th>profit</th>\n",
       "    </tr>\n",
       "    <tr>\n",
       "      <th>original_title</th>\n",
       "      <th></th>\n",
       "    </tr>\n",
       "  </thead>\n",
       "  <tbody>\n",
       "    <tr>\n",
       "      <th>K-19: The Widowmaker</th>\n",
       "      <td>-64831034</td>\n",
       "    </tr>\n",
       "    <tr>\n",
       "      <th>Timeline</th>\n",
       "      <td>-60519261</td>\n",
       "    </tr>\n",
       "  </tbody>\n",
       "</table>\n",
       "</div>"
      ],
      "text/plain": [
       "                        profit\n",
       "original_title                \n",
       "K-19: The Widowmaker -64831034\n",
       "Timeline             -60519261"
      ]
     },
     "execution_count": 51,
     "metadata": {},
     "output_type": "execute_result"
    }
   ],
   "source": [
    "#найдем в строках df все значения, где упоминается Paramount Pictures\n",
    "#сгруппируем названия фильмов по минимальной прибыли, т.е убыточные\n",
    "movie_data[movie_data.production_companies.str.contains('Paramount Pictures', na=False)].groupby(\n",
    "movie_data['original_title'])[['profit']].min().sort_values(['profit'], ascending=True).head(2)\n"
   ]
  },
  {
   "cell_type": "markdown",
   "metadata": {},
   "source": [
    "## Вопрос 19. Какой год стал самым успешным по суммарным кассовым сборам?"
   ]
  },
  {
   "cell_type": "code",
   "execution_count": null,
   "metadata": {},
   "outputs": [],
   "source": [
    "answers['19'] = '5. 2015'"
   ]
  },
  {
   "cell_type": "code",
   "execution_count": 52,
   "metadata": {},
   "outputs": [
    {
     "data": {
      "text/plain": [
       "release_year\n",
       "2015    25449202382\n",
       "2014    23405862953\n",
       "2013    23213799791\n",
       "Name: revenue, dtype: int64"
      ]
     },
     "execution_count": 52,
     "metadata": {},
     "output_type": "execute_result"
    }
   ],
   "source": [
    "#сгруппируем годы релизов по сумме кассовых сборов, отсортируем по убыванию\n",
    "movie_data.groupby(movie_data['release_year']\n",
    "                  )['revenue'].sum().sort_values(ascending=False).head(3)"
   ]
  },
  {
   "cell_type": "markdown",
   "metadata": {},
   "source": [
    "## Вопрос 20. Какой самый прибыльный год для студии Warner Bros?"
   ]
  },
  {
   "cell_type": "code",
   "execution_count": null,
   "metadata": {},
   "outputs": [],
   "source": [
    "answers['20'] = '1. 2014 '"
   ]
  },
  {
   "cell_type": "code",
   "execution_count": 53,
   "metadata": {},
   "outputs": [
    {
     "data": {
      "text/plain": [
       "release_year\n",
       "2014    2295464519\n",
       "2007    2201675217\n",
       "2008    2134595031\n",
       "2010    1974712985\n",
       "2011    1871393682\n",
       "2003    1855493377\n",
       "2009    1822454136\n",
       "2013    1636453400\n",
       "2004    1631933725\n",
       "2005    1551980298\n",
       "2001    1343545668\n",
       "2012    1258020056\n",
       "2002    1022709901\n",
       "2015     870368348\n",
       "2006     620170743\n",
       "2000     452631386\n",
       "Name: profit, dtype: int64"
      ]
     },
     "execution_count": 53,
     "metadata": {},
     "output_type": "execute_result"
    }
   ],
   "source": [
    "#найдем в строках df все значения, где упоминается Warner Bros\n",
    "#сгруппируем по суммарной прибыли релизов по годам\n",
    "movie_data[movie_data.production_companies.str.contains(\"Warner Bros\", na=False)].groupby(\n",
    "movie_data['release_year'])['profit'].sum().sort_values(ascending=False)\n"
   ]
  },
  {
   "cell_type": "markdown",
   "metadata": {},
   "source": [
    "## Вопрос 21. В каком месяце за все годы суммарно вышло больше всего фильмов?"
   ]
  },
  {
   "cell_type": "code",
   "execution_count": null,
   "metadata": {},
   "outputs": [],
   "source": [
    "answers['21'] = '4. Сентябрь'"
   ]
  },
  {
   "cell_type": "code",
   "execution_count": 54,
   "metadata": {
    "scrolled": false
   },
   "outputs": [
    {
     "data": {
      "text/html": [
       "<div>\n",
       "<style scoped>\n",
       "    .dataframe tbody tr th:only-of-type {\n",
       "        vertical-align: middle;\n",
       "    }\n",
       "\n",
       "    .dataframe tbody tr th {\n",
       "        vertical-align: top;\n",
       "    }\n",
       "\n",
       "    .dataframe thead th {\n",
       "        text-align: right;\n",
       "    }\n",
       "</style>\n",
       "<table border=\"1\" class=\"dataframe\">\n",
       "  <thead>\n",
       "    <tr style=\"text-align: right;\">\n",
       "      <th></th>\n",
       "      <th>original_title</th>\n",
       "    </tr>\n",
       "    <tr>\n",
       "      <th>month</th>\n",
       "      <th></th>\n",
       "    </tr>\n",
       "  </thead>\n",
       "  <tbody>\n",
       "    <tr>\n",
       "      <th>9</th>\n",
       "      <td>The MartianMaze Runner: The Scorch TrialsHardc...</td>\n",
       "    </tr>\n",
       "    <tr>\n",
       "      <th>11</th>\n",
       "      <td>The Hunger Games: Mockingjay - Part 2Spotlight...</td>\n",
       "    </tr>\n",
       "    <tr>\n",
       "      <th>12</th>\n",
       "      <td>Star Wars: The Force AwakensThe RevenantThe Ha...</td>\n",
       "    </tr>\n",
       "  </tbody>\n",
       "</table>\n",
       "</div>"
      ],
      "text/plain": [
       "                                          original_title\n",
       "month                                                   \n",
       "9      The MartianMaze Runner: The Scorch TrialsHardc...\n",
       "11     The Hunger Games: Mockingjay - Part 2Spotlight...\n",
       "12     Star Wars: The Force AwakensThe RevenantThe Ha..."
      ]
     },
     "execution_count": 54,
     "metadata": {},
     "output_type": "execute_result"
    }
   ],
   "source": [
    "movie_data.groupby(['month'])[['original_title']].sum().sort_values(\n",
    "    ['original_title'], ascending=False).head(3) #отсортируем по месяцам фильмы в порядке убывания\n",
    " "
   ]
  },
  {
   "cell_type": "markdown",
   "metadata": {},
   "source": [
    "## Вопрос 22. Сколько суммарно вышло фильмов летом (за июнь, июль, август)?"
   ]
  },
  {
   "cell_type": "code",
   "execution_count": null,
   "metadata": {},
   "outputs": [],
   "source": [
    "answers['22'] = '2. 450 '"
   ]
  },
  {
   "cell_type": "code",
   "execution_count": 55,
   "metadata": {},
   "outputs": [
    {
     "data": {
      "text/html": [
       "<div>\n",
       "<style scoped>\n",
       "    .dataframe tbody tr th:only-of-type {\n",
       "        vertical-align: middle;\n",
       "    }\n",
       "\n",
       "    .dataframe tbody tr th {\n",
       "        vertical-align: top;\n",
       "    }\n",
       "\n",
       "    .dataframe thead th {\n",
       "        text-align: right;\n",
       "    }\n",
       "</style>\n",
       "<table border=\"1\" class=\"dataframe\">\n",
       "  <thead>\n",
       "    <tr style=\"text-align: right;\">\n",
       "      <th></th>\n",
       "      <th>imdb_id</th>\n",
       "      <th>budget</th>\n",
       "      <th>revenue</th>\n",
       "      <th>original_title</th>\n",
       "      <th>cast</th>\n",
       "      <th>director</th>\n",
       "      <th>tagline</th>\n",
       "      <th>overview</th>\n",
       "      <th>runtime</th>\n",
       "      <th>genres</th>\n",
       "      <th>production_companies</th>\n",
       "      <th>release_date</th>\n",
       "      <th>vote_average</th>\n",
       "      <th>release_year</th>\n",
       "      <th>profit</th>\n",
       "      <th>unprofit</th>\n",
       "      <th>month</th>\n",
       "    </tr>\n",
       "  </thead>\n",
       "  <tbody>\n",
       "    <tr>\n",
       "      <th>0</th>\n",
       "      <td>tt0369610</td>\n",
       "      <td>150000000</td>\n",
       "      <td>1513528810</td>\n",
       "      <td>Jurassic World</td>\n",
       "      <td>Chris Pratt|Bryce Dallas Howard|Irrfan Khan|Vi...</td>\n",
       "      <td>Colin Trevorrow</td>\n",
       "      <td>The park is open.</td>\n",
       "      <td>Twenty-two years after the events of Jurassic ...</td>\n",
       "      <td>124</td>\n",
       "      <td>Action|Adventure|Science Fiction|Thriller</td>\n",
       "      <td>Universal Studios|Amblin Entertainment|Legenda...</td>\n",
       "      <td>2015-06-09</td>\n",
       "      <td>6.5</td>\n",
       "      <td>2015</td>\n",
       "      <td>1363528810</td>\n",
       "      <td>-1363528810</td>\n",
       "      <td>6</td>\n",
       "    </tr>\n",
       "    <tr>\n",
       "      <th>1886</th>\n",
       "      <td>tt0131704</td>\n",
       "      <td>76000000</td>\n",
       "      <td>35134820</td>\n",
       "      <td>The Adventures of Rocky &amp; Bullwinkle</td>\n",
       "      <td>Rene Russo|Jason Alexander|Piper Perabo|Randy ...</td>\n",
       "      <td>Des McAnuff</td>\n",
       "      <td>This summer it's not the same old bull.</td>\n",
       "      <td>Rocky and Bullwinkle have been living off the ...</td>\n",
       "      <td>88</td>\n",
       "      <td>Adventure|Animation|Action|Comedy|Family</td>\n",
       "      <td>Universal Pictures|Capella International|KC Me...</td>\n",
       "      <td>2000-06-30</td>\n",
       "      <td>4.0</td>\n",
       "      <td>2000</td>\n",
       "      <td>-40865180</td>\n",
       "      <td>40865180</td>\n",
       "      <td>6</td>\n",
       "    </tr>\n",
       "    <tr>\n",
       "      <th>979</th>\n",
       "      <td>tt0948470</td>\n",
       "      <td>215000000</td>\n",
       "      <td>752215857</td>\n",
       "      <td>The Amazing Spider-Man</td>\n",
       "      <td>Andrew Garfield|Emma Stone|Rhys Ifans|Denis Le...</td>\n",
       "      <td>Marc Webb</td>\n",
       "      <td>The untold story begins.</td>\n",
       "      <td>Peter Parker is an outcast high schooler was a...</td>\n",
       "      <td>136</td>\n",
       "      <td>Action|Adventure|Fantasy</td>\n",
       "      <td>Columbia Pictures|Laura Ziskin Productions|Mar...</td>\n",
       "      <td>2012-06-27</td>\n",
       "      <td>6.4</td>\n",
       "      <td>2012</td>\n",
       "      <td>537215857</td>\n",
       "      <td>-537215857</td>\n",
       "      <td>6</td>\n",
       "    </tr>\n",
       "    <tr>\n",
       "      <th>980</th>\n",
       "      <td>tt1217209</td>\n",
       "      <td>185000000</td>\n",
       "      <td>538983207</td>\n",
       "      <td>Brave</td>\n",
       "      <td>Kelly Macdonald|Julie Walters|Billy Connolly|E...</td>\n",
       "      <td>Mark Andrews|Steve Purcell|Brenda Chapman</td>\n",
       "      <td>Change your fate.</td>\n",
       "      <td>Brave is set in the mystical Scottish Highland...</td>\n",
       "      <td>93</td>\n",
       "      <td>Animation|Adventure|Comedy|Family|Action</td>\n",
       "      <td>Walt Disney Pictures|Pixar Animation Studios</td>\n",
       "      <td>2012-06-21</td>\n",
       "      <td>6.6</td>\n",
       "      <td>2012</td>\n",
       "      <td>353983207</td>\n",
       "      <td>-353983207</td>\n",
       "      <td>6</td>\n",
       "    </tr>\n",
       "    <tr>\n",
       "      <th>984</th>\n",
       "      <td>tt1667889</td>\n",
       "      <td>95000000</td>\n",
       "      <td>877244782</td>\n",
       "      <td>Ice Age: Continental Drift</td>\n",
       "      <td>John Leguizamo|Ray Romano|Chris Wedge|Denis Le...</td>\n",
       "      <td>Steve Martino|Mike Thurmeier</td>\n",
       "      <td>Manny, Diego, and Sid embark upon another adve...</td>\n",
       "      <td>Manny, Diego, and Sid embark upon another adve...</td>\n",
       "      <td>88</td>\n",
       "      <td>Animation|Comedy|Adventure|Family</td>\n",
       "      <td>Blue Sky Studios|Twentieth Century Fox Animation</td>\n",
       "      <td>2012-06-26</td>\n",
       "      <td>6.2</td>\n",
       "      <td>2012</td>\n",
       "      <td>782244782</td>\n",
       "      <td>-782244782</td>\n",
       "      <td>6</td>\n",
       "    </tr>\n",
       "    <tr>\n",
       "      <th>...</th>\n",
       "      <td>...</td>\n",
       "      <td>...</td>\n",
       "      <td>...</td>\n",
       "      <td>...</td>\n",
       "      <td>...</td>\n",
       "      <td>...</td>\n",
       "      <td>...</td>\n",
       "      <td>...</td>\n",
       "      <td>...</td>\n",
       "      <td>...</td>\n",
       "      <td>...</td>\n",
       "      <td>...</td>\n",
       "      <td>...</td>\n",
       "      <td>...</td>\n",
       "      <td>...</td>\n",
       "      <td>...</td>\n",
       "      <td>...</td>\n",
       "    </tr>\n",
       "    <tr>\n",
       "      <th>202</th>\n",
       "      <td>tt2106361</td>\n",
       "      <td>50000000</td>\n",
       "      <td>160602194</td>\n",
       "      <td>Into the Storm</td>\n",
       "      <td>Richard Armitage|Sarah Wayne Callies|Matt Wals...</td>\n",
       "      <td>Steven Quale</td>\n",
       "      <td>Prepare to go</td>\n",
       "      <td>The town of Silverton is in one day destroyed ...</td>\n",
       "      <td>89</td>\n",
       "      <td>Action|Thriller</td>\n",
       "      <td>New Line Cinema|Village Roadshow Pictures|Brok...</td>\n",
       "      <td>2014-08-06</td>\n",
       "      <td>5.7</td>\n",
       "      <td>2014</td>\n",
       "      <td>110602194</td>\n",
       "      <td>-110602194</td>\n",
       "      <td>8</td>\n",
       "    </tr>\n",
       "    <tr>\n",
       "      <th>1356</th>\n",
       "      <td>tt0430105</td>\n",
       "      <td>45000000</td>\n",
       "      <td>92374674</td>\n",
       "      <td>Four Brothers</td>\n",
       "      <td>Mark Wahlberg|Tyrese Gibson|AndrÃ© Benjamin|Ga...</td>\n",
       "      <td>John Singleton</td>\n",
       "      <td>They came home to bury mom... and her killer</td>\n",
       "      <td>Four adopted brothers return to their Detroit ...</td>\n",
       "      <td>109</td>\n",
       "      <td>Action|Crime</td>\n",
       "      <td>Paramount Pictures|Di Bonaventura Pictures</td>\n",
       "      <td>2005-08-11</td>\n",
       "      <td>6.6</td>\n",
       "      <td>2005</td>\n",
       "      <td>47374674</td>\n",
       "      <td>-47374674</td>\n",
       "      <td>8</td>\n",
       "    </tr>\n",
       "    <tr>\n",
       "      <th>201</th>\n",
       "      <td>tt1085492</td>\n",
       "      <td>18000000</td>\n",
       "      <td>266586800</td>\n",
       "      <td>The Prince</td>\n",
       "      <td>Bruce Willis|Jason Patric|John Cusack|Jessica ...</td>\n",
       "      <td>Brian A Miller</td>\n",
       "      <td>Mercy is for the Weak</td>\n",
       "      <td>A family man who turns out to be a retired mob...</td>\n",
       "      <td>93</td>\n",
       "      <td>Thriller|Action</td>\n",
       "      <td>Grindstone Entertainment Group|Emmett/Furla Fi...</td>\n",
       "      <td>2014-08-22</td>\n",
       "      <td>4.6</td>\n",
       "      <td>2014</td>\n",
       "      <td>248586800</td>\n",
       "      <td>-248586800</td>\n",
       "      <td>8</td>\n",
       "    </tr>\n",
       "    <tr>\n",
       "      <th>226</th>\n",
       "      <td>tt2247476</td>\n",
       "      <td>15000000</td>\n",
       "      <td>30127963</td>\n",
       "      <td>When the Game Stands Tall</td>\n",
       "      <td>Jim Caviezel|Michael Chiklis|Laura Dern|Clancy...</td>\n",
       "      <td>Thomas Carter</td>\n",
       "      <td>Its Not How Hard You Fall, Its How You Get Bac...</td>\n",
       "      <td>A young coach turns a losing high school footb...</td>\n",
       "      <td>115</td>\n",
       "      <td>Drama</td>\n",
       "      <td>Mandalay Pictures|Affirm Films</td>\n",
       "      <td>2014-08-22</td>\n",
       "      <td>6.2</td>\n",
       "      <td>2014</td>\n",
       "      <td>15127963</td>\n",
       "      <td>-15127963</td>\n",
       "      <td>8</td>\n",
       "    </tr>\n",
       "    <tr>\n",
       "      <th>495</th>\n",
       "      <td>tt1028576</td>\n",
       "      <td>35000000</td>\n",
       "      <td>60251371</td>\n",
       "      <td>Secretariat</td>\n",
       "      <td>Diane Lane|John Malkovich|Scott Glenn|Dylan Wa...</td>\n",
       "      <td>Randall Wallace</td>\n",
       "      <td>The Impossible True Story</td>\n",
       "      <td>Housewife and mother Penny Chenery agrees to t...</td>\n",
       "      <td>123</td>\n",
       "      <td>Drama</td>\n",
       "      <td>Walt Disney Pictures|Fast Track Productions|Ma...</td>\n",
       "      <td>2010-08-20</td>\n",
       "      <td>6.6</td>\n",
       "      <td>2010</td>\n",
       "      <td>25251371</td>\n",
       "      <td>-25251371</td>\n",
       "      <td>8</td>\n",
       "    </tr>\n",
       "  </tbody>\n",
       "</table>\n",
       "<p>450 rows × 17 columns</p>\n",
       "</div>"
      ],
      "text/plain": [
       "        imdb_id     budget     revenue                        original_title  \\\n",
       "0     tt0369610  150000000  1513528810                        Jurassic World   \n",
       "1886  tt0131704   76000000    35134820  The Adventures of Rocky & Bullwinkle   \n",
       "979   tt0948470  215000000   752215857                The Amazing Spider-Man   \n",
       "980   tt1217209  185000000   538983207                                 Brave   \n",
       "984   tt1667889   95000000   877244782            Ice Age: Continental Drift   \n",
       "...         ...        ...         ...                                   ...   \n",
       "202   tt2106361   50000000   160602194                        Into the Storm   \n",
       "1356  tt0430105   45000000    92374674                         Four Brothers   \n",
       "201   tt1085492   18000000   266586800                            The Prince   \n",
       "226   tt2247476   15000000    30127963             When the Game Stands Tall   \n",
       "495   tt1028576   35000000    60251371                           Secretariat   \n",
       "\n",
       "                                                   cast  \\\n",
       "0     Chris Pratt|Bryce Dallas Howard|Irrfan Khan|Vi...   \n",
       "1886  Rene Russo|Jason Alexander|Piper Perabo|Randy ...   \n",
       "979   Andrew Garfield|Emma Stone|Rhys Ifans|Denis Le...   \n",
       "980   Kelly Macdonald|Julie Walters|Billy Connolly|E...   \n",
       "984   John Leguizamo|Ray Romano|Chris Wedge|Denis Le...   \n",
       "...                                                 ...   \n",
       "202   Richard Armitage|Sarah Wayne Callies|Matt Wals...   \n",
       "1356  Mark Wahlberg|Tyrese Gibson|AndrÃ© Benjamin|Ga...   \n",
       "201   Bruce Willis|Jason Patric|John Cusack|Jessica ...   \n",
       "226   Jim Caviezel|Michael Chiklis|Laura Dern|Clancy...   \n",
       "495   Diane Lane|John Malkovich|Scott Glenn|Dylan Wa...   \n",
       "\n",
       "                                       director  \\\n",
       "0                               Colin Trevorrow   \n",
       "1886                                Des McAnuff   \n",
       "979                                   Marc Webb   \n",
       "980   Mark Andrews|Steve Purcell|Brenda Chapman   \n",
       "984                Steve Martino|Mike Thurmeier   \n",
       "...                                         ...   \n",
       "202                                Steven Quale   \n",
       "1356                             John Singleton   \n",
       "201                              Brian A Miller   \n",
       "226                               Thomas Carter   \n",
       "495                             Randall Wallace   \n",
       "\n",
       "                                                tagline  \\\n",
       "0                                     The park is open.   \n",
       "1886            This summer it's not the same old bull.   \n",
       "979                            The untold story begins.   \n",
       "980                                   Change your fate.   \n",
       "984   Manny, Diego, and Sid embark upon another adve...   \n",
       "...                                                 ...   \n",
       "202                                       Prepare to go   \n",
       "1356       They came home to bury mom... and her killer   \n",
       "201                               Mercy is for the Weak   \n",
       "226   Its Not How Hard You Fall, Its How You Get Bac...   \n",
       "495                           The Impossible True Story   \n",
       "\n",
       "                                               overview  runtime  \\\n",
       "0     Twenty-two years after the events of Jurassic ...      124   \n",
       "1886  Rocky and Bullwinkle have been living off the ...       88   \n",
       "979   Peter Parker is an outcast high schooler was a...      136   \n",
       "980   Brave is set in the mystical Scottish Highland...       93   \n",
       "984   Manny, Diego, and Sid embark upon another adve...       88   \n",
       "...                                                 ...      ...   \n",
       "202   The town of Silverton is in one day destroyed ...       89   \n",
       "1356  Four adopted brothers return to their Detroit ...      109   \n",
       "201   A family man who turns out to be a retired mob...       93   \n",
       "226   A young coach turns a losing high school footb...      115   \n",
       "495   Housewife and mother Penny Chenery agrees to t...      123   \n",
       "\n",
       "                                         genres  \\\n",
       "0     Action|Adventure|Science Fiction|Thriller   \n",
       "1886   Adventure|Animation|Action|Comedy|Family   \n",
       "979                    Action|Adventure|Fantasy   \n",
       "980    Animation|Adventure|Comedy|Family|Action   \n",
       "984           Animation|Comedy|Adventure|Family   \n",
       "...                                         ...   \n",
       "202                             Action|Thriller   \n",
       "1356                               Action|Crime   \n",
       "201                             Thriller|Action   \n",
       "226                                       Drama   \n",
       "495                                       Drama   \n",
       "\n",
       "                                   production_companies release_date  \\\n",
       "0     Universal Studios|Amblin Entertainment|Legenda...   2015-06-09   \n",
       "1886  Universal Pictures|Capella International|KC Me...   2000-06-30   \n",
       "979   Columbia Pictures|Laura Ziskin Productions|Mar...   2012-06-27   \n",
       "980        Walt Disney Pictures|Pixar Animation Studios   2012-06-21   \n",
       "984    Blue Sky Studios|Twentieth Century Fox Animation   2012-06-26   \n",
       "...                                                 ...          ...   \n",
       "202   New Line Cinema|Village Roadshow Pictures|Brok...   2014-08-06   \n",
       "1356         Paramount Pictures|Di Bonaventura Pictures   2005-08-11   \n",
       "201   Grindstone Entertainment Group|Emmett/Furla Fi...   2014-08-22   \n",
       "226                      Mandalay Pictures|Affirm Films   2014-08-22   \n",
       "495   Walt Disney Pictures|Fast Track Productions|Ma...   2010-08-20   \n",
       "\n",
       "      vote_average  release_year      profit    unprofit  month  \n",
       "0              6.5          2015  1363528810 -1363528810      6  \n",
       "1886           4.0          2000   -40865180    40865180      6  \n",
       "979            6.4          2012   537215857  -537215857      6  \n",
       "980            6.6          2012   353983207  -353983207      6  \n",
       "984            6.2          2012   782244782  -782244782      6  \n",
       "...            ...           ...         ...         ...    ...  \n",
       "202            5.7          2014   110602194  -110602194      8  \n",
       "1356           6.6          2005    47374674   -47374674      8  \n",
       "201            4.6          2014   248586800  -248586800      8  \n",
       "226            6.2          2014    15127963   -15127963      8  \n",
       "495            6.6          2010    25251371   -25251371      8  \n",
       "\n",
       "[450 rows x 17 columns]"
      ]
     },
     "execution_count": 55,
     "metadata": {},
     "output_type": "execute_result"
    }
   ],
   "source": [
    "#выделим месяца в колонке df и отсортируем в порядке убывания\n",
    "#посчитаем длину df\n",
    "movie_data[(movie_data.month < 9) & (movie_data.month > 5)].sort_values(['month'], ascending=True)\n"
   ]
  },
  {
   "cell_type": "markdown",
   "metadata": {},
   "source": [
    "## Вопрос 23. Для какого режиссера зима — самое продуктивное время года?"
   ]
  },
  {
   "cell_type": "code",
   "execution_count": null,
   "metadata": {},
   "outputs": [],
   "source": [
    "answers['23'] = '5. Peter Jackson'"
   ]
  },
  {
   "cell_type": "code",
   "execution_count": 56,
   "metadata": {},
   "outputs": [
    {
     "data": {
      "text/plain": [
       "Peter Jackson        7\n",
       "Clint Eastwood       6\n",
       "Steven Soderbergh    6\n",
       "Adam Shankman        4\n",
       "Martin Scorsese      4\n",
       "Name: director, dtype: int64"
      ]
     },
     "execution_count": 56,
     "metadata": {},
     "output_type": "execute_result"
    }
   ],
   "source": [
    "#скопируем значения в переменную, при этом только те, которые касаются зимних месяцев\n",
    "movie_winter = movie_data[movie_data.release_date.dt.month.isin(['1', '2', '12'])].copy()\n",
    "#трансформируем строку в массив и преобразуем каждый элемент списка в строку (2 строки кода)\n",
    "movie_winter.director = movie_winter.director.str.split('|')\n",
    "movie_winter = movie_winter.explode('director')\n",
    "movie_winter.director.value_counts().sort_values(ascending=False).head(5) \n",
    "#считаем  и сортируем количество элементов для каждого режиссера\n"
   ]
  },
  {
   "cell_type": "markdown",
   "metadata": {},
   "source": [
    "## Вопрос 24. Какая студия даёт самые длинные названия своим фильмам по количеству символов?"
   ]
  },
  {
   "cell_type": "code",
   "execution_count": null,
   "metadata": {},
   "outputs": [],
   "source": [
    "answers['24'] = '5. Four By Two Productions'"
   ]
  },
  {
   "cell_type": "code",
   "execution_count": 57,
   "metadata": {},
   "outputs": [
    {
     "data": {
      "text/html": [
       "<div>\n",
       "<style scoped>\n",
       "    .dataframe tbody tr th:only-of-type {\n",
       "        vertical-align: middle;\n",
       "    }\n",
       "\n",
       "    .dataframe tbody tr th {\n",
       "        vertical-align: top;\n",
       "    }\n",
       "\n",
       "    .dataframe thead th {\n",
       "        text-align: right;\n",
       "    }\n",
       "</style>\n",
       "<table border=\"1\" class=\"dataframe\">\n",
       "  <thead>\n",
       "    <tr style=\"text-align: right;\">\n",
       "      <th></th>\n",
       "      <th>long_title</th>\n",
       "    </tr>\n",
       "    <tr>\n",
       "      <th>production_companies</th>\n",
       "      <th></th>\n",
       "    </tr>\n",
       "  </thead>\n",
       "  <tbody>\n",
       "    <tr>\n",
       "      <th>Twentieth Century Fox Film Corporation|Four By Two Productions</th>\n",
       "      <td>83.0</td>\n",
       "    </tr>\n",
       "    <tr>\n",
       "      <th>Walt Disney|Walden Media</th>\n",
       "      <td>62.0</td>\n",
       "    </tr>\n",
       "    <tr>\n",
       "      <th>Walt Disney Pictures|21 Laps Entertainment|Jim Henson Company, The</th>\n",
       "      <td>59.0</td>\n",
       "    </tr>\n",
       "    <tr>\n",
       "      <th>Plan B Entertainment|Virtual Studios|Scott Free Productions|Alberta Film Entertainment|Warner Bros.</th>\n",
       "      <td>58.0</td>\n",
       "    </tr>\n",
       "    <tr>\n",
       "      <th>Dune Entertainment|Fox 2000 Pictures|Walden Media</th>\n",
       "      <td>56.0</td>\n",
       "    </tr>\n",
       "  </tbody>\n",
       "</table>\n",
       "</div>"
      ],
      "text/plain": [
       "                                                    long_title\n",
       "production_companies                                          \n",
       "Twentieth Century Fox Film Corporation|Four By ...        83.0\n",
       "Walt Disney|Walden Media                                  62.0\n",
       "Walt Disney Pictures|21 Laps Entertainment|Jim ...        59.0\n",
       "Plan B Entertainment|Virtual Studios|Scott Free...        58.0\n",
       "Dune Entertainment|Fox 2000 Pictures|Walden Media         56.0"
      ]
     },
     "execution_count": 57,
     "metadata": {},
     "output_type": "execute_result"
    }
   ],
   "source": [
    "#посчитаем длину названия и запишем ее в переменную\n",
    "movie_data['long_title'] = movie_data['original_title'].map(lambda x: len(x))\n",
    "#трансформируем строку в массив и преобразуем каждый элемент списка в строку,с уникальными значениями\n",
    "movie_data['production_companies'].str.split('|').explode().unique()\n",
    "movie_data.groupby(['production_companies'])[\n",
    "    ['long_title']].mean().sort_values(['long_title'],ascending=False).head() \n",
    "#сгруппируем и отсортируем кинокомпании по длине названий"
   ]
  },
  {
   "cell_type": "markdown",
   "metadata": {},
   "source": [
    "## Вопрос 25. Описания фильмов какой студии в среднем самые длинные по количеству слов?"
   ]
  },
  {
   "cell_type": "code",
   "execution_count": null,
   "metadata": {},
   "outputs": [],
   "source": [
    "answers['25'] = '3. Midnight Picture Show'"
   ]
  },
  {
   "cell_type": "code",
   "execution_count": 58,
   "metadata": {},
   "outputs": [
    {
     "data": {
      "text/html": [
       "<div>\n",
       "<style scoped>\n",
       "    .dataframe tbody tr th:only-of-type {\n",
       "        vertical-align: middle;\n",
       "    }\n",
       "\n",
       "    .dataframe tbody tr th {\n",
       "        vertical-align: top;\n",
       "    }\n",
       "\n",
       "    .dataframe thead th {\n",
       "        text-align: right;\n",
       "    }\n",
       "</style>\n",
       "<table border=\"1\" class=\"dataframe\">\n",
       "  <thead>\n",
       "    <tr style=\"text-align: right;\">\n",
       "      <th></th>\n",
       "      <th>description</th>\n",
       "    </tr>\n",
       "    <tr>\n",
       "      <th>production_companies</th>\n",
       "      <th></th>\n",
       "    </tr>\n",
       "  </thead>\n",
       "  <tbody>\n",
       "    <tr>\n",
       "      <th>Lions Gate Films|Lakeshore Entertainment|GreeneStreet Films|Midnight Picture Show</th>\n",
       "      <td>1000</td>\n",
       "    </tr>\n",
       "    <tr>\n",
       "      <th>Fox Searchlight Pictures|Room 9 Entertainment</th>\n",
       "      <td>964</td>\n",
       "    </tr>\n",
       "    <tr>\n",
       "      <th>New Line Cinema</th>\n",
       "      <td>960</td>\n",
       "    </tr>\n",
       "  </tbody>\n",
       "</table>\n",
       "</div>"
      ],
      "text/plain": [
       "                                                    description\n",
       "production_companies                                           \n",
       "Lions Gate Films|Lakeshore Entertainment|Greene...         1000\n",
       "Fox Searchlight Pictures|Room 9 Entertainment               964\n",
       "New Line Cinema                                             960"
      ]
     },
     "execution_count": 58,
     "metadata": {},
     "output_type": "execute_result"
    }
   ],
   "source": [
    "#решается по аналогии предыдущего задания\n",
    "movie_data['description'] = movie_data['overview'].map(lambda x: len(x))\n",
    "movie_data['production_companies'].str.split('|').explode().unique()\n",
    "movie_data.groupby(['production_companies'])[\n",
    "    ['description']].max().sort_values(['description'],ascending=False).head(3)"
   ]
  },
  {
   "cell_type": "markdown",
   "metadata": {},
   "source": [
    "## Вопрос 26. Какие фильмы входят в один процент лучших по рейтингу?"
   ]
  },
  {
   "cell_type": "code",
   "execution_count": null,
   "metadata": {},
   "outputs": [],
   "source": [
    "answers['26'] = '1. Inside Out, The Dark Knight, 12 Years a Slave'"
   ]
  },
  {
   "cell_type": "code",
   "execution_count": 59,
   "metadata": {},
   "outputs": [
    {
     "data": {
      "text/plain": [
       "599                                   The Dark Knight\n",
       "9                                          Inside Out\n",
       "34                                               Room\n",
       "118                                      Interstellar\n",
       "125                                The Imitation Game\n",
       "370                                         Inception\n",
       "1191                                 12 Years a Slave\n",
       "1183                          The Wolf of Wall Street\n",
       "1081    The Lord of the Rings: The Return of the King\n",
       "872                                       The Pianist\n",
       "Name: original_title, dtype: object"
      ]
     },
     "execution_count": 59,
     "metadata": {},
     "output_type": "execute_result"
    }
   ],
   "source": [
    "border = np.quantile(movie_data.vote_average, 0.99) #определяем границу в 1% по рейтингу\n",
    "#сортируем фильмы входящие в 1% по убыванию шкалы рейтинга\n",
    "movie_data[movie_data.vote_average >= border].sort_values(\n",
    "    by='vote_average', ascending=False)['original_title'].head(10)\n"
   ]
  },
  {
   "cell_type": "markdown",
   "metadata": {},
   "source": [
    "## Вопрос 27. Какие актеры чаще всего снимаются в одном фильме вместе?"
   ]
  },
  {
   "cell_type": "code",
   "execution_count": null,
   "metadata": {},
   "outputs": [],
   "source": [
    "answers['27'] = '5. Daniel Radcliffe & Rupert Grint'"
   ]
  },
  {
   "cell_type": "code",
   "execution_count": 60,
   "metadata": {},
   "outputs": [
    {
     "data": {
      "text/plain": [
       "[(('Daniel Radcliffe', 'Rupert Grint'), 8),\n",
       " (('Daniel Radcliffe', 'Emma Watson'), 8),\n",
       " (('Rupert Grint', 'Emma Watson'), 7)]"
      ]
     },
     "execution_count": 60,
     "metadata": {},
     "output_type": "execute_result"
    }
   ],
   "source": [
    "from collections import Counter\n",
    "from itertools import combinations\n",
    "cast_mix = Counter() #с помощью Counter,написанного цикла (который ищет пары актеров) ищем сочетания\n",
    "for i in range(0,len(movie_data)):\n",
    "    actors = movie_data.cast[i].split('|')\n",
    "    for j in list(combinations(actors, 2)):\n",
    "        if j not in cast_mix:\n",
    "            cast_mix[j] = 1\n",
    "        else:\n",
    "            cast_mix[j] += 1\n",
    "cast_mix.most_common(3) #выводим наиболее часто встречающиеся"
   ]
  },
  {
   "cell_type": "code",
   "execution_count": 61,
   "metadata": {},
   "outputs": [
    {
     "data": {
      "text/plain": [
       "{}"
      ]
     },
     "execution_count": 61,
     "metadata": {},
     "output_type": "execute_result"
    }
   ],
   "source": [
    "answers"
   ]
  },
  {
   "cell_type": "code",
   "execution_count": 42,
   "metadata": {},
   "outputs": [
    {
     "data": {
      "text/plain": [
       "17"
      ]
     },
     "execution_count": 42,
     "metadata": {},
     "output_type": "execute_result"
    }
   ],
   "source": [
    "len(answers)"
   ]
  },
  {
   "cell_type": "code",
   "execution_count": null,
   "metadata": {},
   "outputs": [],
   "source": []
  }
 ],
 "metadata": {
  "kernelspec": {
   "display_name": "Python 3",
   "language": "python",
   "name": "python3"
  },
  "language_info": {
   "codemirror_mode": {
    "name": "ipython",
    "version": 3
   },
   "file_extension": ".py",
   "mimetype": "text/x-python",
   "name": "python",
   "nbconvert_exporter": "python",
   "pygments_lexer": "ipython3",
   "version": "3.8.5"
  }
 },
 "nbformat": 4,
 "nbformat_minor": 4
}
